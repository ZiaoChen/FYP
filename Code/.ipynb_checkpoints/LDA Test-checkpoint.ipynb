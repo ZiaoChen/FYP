{
 "cells": [
  {
   "cell_type": "markdown",
   "metadata": {},
   "source": [
    "## Import Required Packages"
   ]
  },
  {
   "cell_type": "code",
   "execution_count": 1,
   "metadata": {
    "collapsed": true
   },
   "outputs": [],
   "source": [
    "import time\n",
    "import pandas as pd\n",
    "import numpy as np\n",
    "from sklearn.feature_extraction.text import TfidfVectorizer, CountVectorizer\n",
    "from sklearn.decomposition import NMF, LatentDirichletAllocation\n",
    "from sklearn.datasets import fetch_20newsgroups_vectorized, fetch_20newsgroups"
   ]
  },
  {
   "cell_type": "code",
   "execution_count": 10,
   "metadata": {
    "collapsed": true
   },
   "outputs": [],
   "source": [
    "dataset = fetch_20newsgroups(remove=('headers', 'footers', 'quotes'))"
   ]
  },
  {
   "cell_type": "code",
   "execution_count": 13,
   "metadata": {},
   "outputs": [
    {
     "data": {
      "text/plain": [
       "11314"
      ]
     },
     "execution_count": 13,
     "metadata": {},
     "output_type": "execute_result"
    }
   ],
   "source": [
    "len(dataset.data)"
   ]
  },
  {
   "cell_type": "markdown",
   "metadata": {},
   "source": [
    "## Import Data set (from IEEE)"
   ]
  },
  {
   "cell_type": "code",
   "execution_count": 2,
   "metadata": {},
   "outputs": [
    {
     "data": {
      "text/html": [
       "<div>\n",
       "<style>\n",
       "    .dataframe thead tr:only-child th {\n",
       "        text-align: right;\n",
       "    }\n",
       "\n",
       "    .dataframe thead th {\n",
       "        text-align: left;\n",
       "    }\n",
       "\n",
       "    .dataframe tbody tr th {\n",
       "        vertical-align: top;\n",
       "    }\n",
       "</style>\n",
       "<table border=\"1\" class=\"dataframe\">\n",
       "  <thead>\n",
       "    <tr style=\"text-align: right;\">\n",
       "      <th></th>\n",
       "      <th>Title</th>\n",
       "      <th>Abstract</th>\n",
       "      <th>Keywords</th>\n",
       "    </tr>\n",
       "  </thead>\n",
       "  <tbody>\n",
       "    <tr>\n",
       "      <th>0</th>\n",
       "      <td>Structural Minimax Probability Machine</td>\n",
       "      <td>Minimax probability machine (MPM) is an intere...</td>\n",
       "      <td>NaN</td>\n",
       "    </tr>\n",
       "    <tr>\n",
       "      <th>1</th>\n",
       "      <td>Effective and Efficient Global Context Verific...</td>\n",
       "      <td>To detect illegal copies of copyrighted images...</td>\n",
       "      <td>NaN</td>\n",
       "    </tr>\n",
       "    <tr>\n",
       "      <th>2</th>\n",
       "      <td>Faster R-CNN: Towards Real-Time Object Detecti...</td>\n",
       "      <td>State-of-the-art object detection networks dep...</td>\n",
       "      <td>NaN</td>\n",
       "    </tr>\n",
       "    <tr>\n",
       "      <th>3</th>\n",
       "      <td>Event-Triggered Fault Detection of Nonlinear N...</td>\n",
       "      <td>This paper investigates the problem of fault d...</td>\n",
       "      <td>NaN</td>\n",
       "    </tr>\n",
       "    <tr>\n",
       "      <th>4</th>\n",
       "      <td>Adaptive Fuzzy Control for Nonstrict-Feedback ...</td>\n",
       "      <td>This paper presents an adaptive fuzzy control ...</td>\n",
       "      <td>Adaptive systems,\\nBackstepping,\\nFuzzy contro...</td>\n",
       "    </tr>\n",
       "    <tr>\n",
       "      <th>5</th>\n",
       "      <td>Fully Convolutional Networks for Semantic Segm...</td>\n",
       "      <td>Convolutional networks are powerful visual mod...</td>\n",
       "      <td>NaN</td>\n",
       "    </tr>\n",
       "    <tr>\n",
       "      <th>6</th>\n",
       "      <td>Energy-Aware Data Allocation With Hybrid Memor...</td>\n",
       "      <td>Resource scheduling is one of the most importa...</td>\n",
       "      <td>NaN</td>\n",
       "    </tr>\n",
       "    <tr>\n",
       "      <th>7</th>\n",
       "      <td>Health-CPS: Healthcare Cyber-Physical System A...</td>\n",
       "      <td>The advances in information technology have wi...</td>\n",
       "      <td>NaN</td>\n",
       "    </tr>\n",
       "    <tr>\n",
       "      <th>8</th>\n",
       "      <td>Neural Control of Bimanual Robots With Guarant...</td>\n",
       "      <td>Robots with coordinated dual arms are able to ...</td>\n",
       "      <td>NaN</td>\n",
       "    </tr>\n",
       "    <tr>\n",
       "      <th>9</th>\n",
       "      <td>Vibration Control of a Flexible Robotic Manipu...</td>\n",
       "      <td>In this paper, a neural network (NN) controlle...</td>\n",
       "      <td>NaN</td>\n",
       "    </tr>\n",
       "    <tr>\n",
       "      <th>10</th>\n",
       "      <td>iPrivacy: Image Privacy Protection by Identify...</td>\n",
       "      <td>To achieve automatic recommendation of privacy...</td>\n",
       "      <td>Privacy,\\nObject recognition,\\nVisualization,\\...</td>\n",
       "    </tr>\n",
       "    <tr>\n",
       "      <th>11</th>\n",
       "      <td>Adaptive Fuzzy Backstepping Tracking Control f...</td>\n",
       "      <td>This paper investigates the problem of adaptiv...</td>\n",
       "      <td>NaN</td>\n",
       "    </tr>\n",
       "    <tr>\n",
       "      <th>12</th>\n",
       "      <td>Hierarchical Clustering Multi-Task Learning fo...</td>\n",
       "      <td>This paper proposes a hierarchical clustering ...</td>\n",
       "      <td>NaN</td>\n",
       "    </tr>\n",
       "    <tr>\n",
       "      <th>13</th>\n",
       "      <td>Bi-Level Semantic Representation Analysis for ...</td>\n",
       "      <td>Multimedia event detection has been one of the...</td>\n",
       "      <td>Semantics,\\nDetectors,\\nTraining,\\nMultimedia ...</td>\n",
       "    </tr>\n",
       "    <tr>\n",
       "      <th>14</th>\n",
       "      <td>Robust Joint Graph Sparse Coding for Unsupervi...</td>\n",
       "      <td>In this paper, we propose a new unsupervised s...</td>\n",
       "      <td>Manifolds,\\nComputational modeling,\\nLearning ...</td>\n",
       "    </tr>\n",
       "    <tr>\n",
       "      <th>15</th>\n",
       "      <td>Analysis of Energy-Efficient Connected Target ...</td>\n",
       "      <td>Recent breakthroughs in wireless technologies ...</td>\n",
       "      <td>Algorithm design and analysis,\\nSensors,\\nWire...</td>\n",
       "    </tr>\n",
       "    <tr>\n",
       "      <th>16</th>\n",
       "      <td>Efficient Computation for Sparse Load Shifting...</td>\n",
       "      <td>This paper introduces a distributed algorithm ...</td>\n",
       "      <td>NaN</td>\n",
       "    </tr>\n",
       "    <tr>\n",
       "      <th>17</th>\n",
       "      <td>Compact Supervisory Control of Discrete Event ...</td>\n",
       "      <td>This work proposes a novel structure in Petri ...</td>\n",
       "      <td>NaN</td>\n",
       "    </tr>\n",
       "    <tr>\n",
       "      <th>18</th>\n",
       "      <td>Event-Based Distributed H_{\\infty } Filtering ...</td>\n",
       "      <td>This paper is concerned with the problem of ve...</td>\n",
       "      <td>NaN</td>\n",
       "    </tr>\n",
       "    <tr>\n",
       "      <th>19</th>\n",
       "      <td>Energy-Harvesting-Aided Spectrum Sensing and D...</td>\n",
       "      <td>The incorporation of cognitive radio (CR) and ...</td>\n",
       "      <td>NaN</td>\n",
       "    </tr>\n",
       "    <tr>\n",
       "      <th>20</th>\n",
       "      <td>Algorithm-Dependent Generalization Bounds for ...</td>\n",
       "      <td>Often, tasks are collected for multi-task lear...</td>\n",
       "      <td>Algorithm design and analysis,\\nStability anal...</td>\n",
       "    </tr>\n",
       "    <tr>\n",
       "      <th>21</th>\n",
       "      <td>Air-Breathing Hypersonic Vehicle Tracking Cont...</td>\n",
       "      <td>In this paper, we propose a data-driven supple...</td>\n",
       "      <td>Aerodynamics,\\nUncertainty,\\nVehicles,\\nAtmosp...</td>\n",
       "    </tr>\n",
       "    <tr>\n",
       "      <th>22</th>\n",
       "      <td>Nuclear Norm Based Matrix Regression with Appl...</td>\n",
       "      <td>Recently, regression analysis has become a pop...</td>\n",
       "      <td>Robustness,\\nFace recognition,\\nLighting,\\nNuc...</td>\n",
       "    </tr>\n",
       "    <tr>\n",
       "      <th>23</th>\n",
       "      <td>Source Estimation Using Coprime Array: A Spars...</td>\n",
       "      <td>Direction-of-arrival (DOA), power, and achieva...</td>\n",
       "      <td>Estimation,\\nSensor arrays,\\nDirection-of-arri...</td>\n",
       "    </tr>\n",
       "    <tr>\n",
       "      <th>24</th>\n",
       "      <td>Feature Interaction Augmented Sparse Learning ...</td>\n",
       "      <td>The Kinect sensing devices have been widely us...</td>\n",
       "      <td>Skeleton,\\nFeature extraction,\\nMotion detecti...</td>\n",
       "    </tr>\n",
       "    <tr>\n",
       "      <th>25</th>\n",
       "      <td>CSI-Based Fingerprinting for Indoor Localizati...</td>\n",
       "      <td>With the fast-growing demand of location-based...</td>\n",
       "      <td>Training,\\nMachine learning,\\nIEEE 802.11 Stan...</td>\n",
       "    </tr>\n",
       "    <tr>\n",
       "      <th>26</th>\n",
       "      <td>Revealing Event Saliency in Unconstrained Vide...</td>\n",
       "      <td>Recent progresses in multimedia event detectio...</td>\n",
       "      <td>Event detection,\\nMultimedia communication,\\nS...</td>\n",
       "    </tr>\n",
       "    <tr>\n",
       "      <th>27</th>\n",
       "      <td>Pulse-Modulated Intermittent Control in Consen...</td>\n",
       "      <td>This paper proposes a control framework, calle...</td>\n",
       "      <td>Multi-agent systems,\\nControl systems,\\nConver...</td>\n",
       "    </tr>\n",
       "    <tr>\n",
       "      <th>28</th>\n",
       "      <td>Success Probability of the Babai Estimators fo...</td>\n",
       "      <td>In many applications including communications,...</td>\n",
       "      <td>Zinc,\\nSearch methods,\\nOils,\\nSignal to noise...</td>\n",
       "    </tr>\n",
       "    <tr>\n",
       "      <th>29</th>\n",
       "      <td>A Time Delay Compensation Method Based on Area...</td>\n",
       "      <td>Control of the LCL-type three-phase grid-conne...</td>\n",
       "      <td>Delays,\\nDamping,\\nPulse width modulation,\\nDe...</td>\n",
       "    </tr>\n",
       "    <tr>\n",
       "      <th>...</th>\n",
       "      <td>...</td>\n",
       "      <td>...</td>\n",
       "      <td>...</td>\n",
       "    </tr>\n",
       "    <tr>\n",
       "      <th>1957</th>\n",
       "      <td>Accelerating the Mobile cloud: Using Amazon Mo...</td>\n",
       "      <td>Current trends show a move away from desktop c...</td>\n",
       "      <td>Servers,\\nMobile communication,\\nDatabases,\\nC...</td>\n",
       "    </tr>\n",
       "    <tr>\n",
       "      <th>1958</th>\n",
       "      <td>Malware traffic classification using convoluti...</td>\n",
       "      <td>Traffic classification is the first step for n...</td>\n",
       "      <td>Malware,\\nFeature extraction,\\nArtificial inte...</td>\n",
       "    </tr>\n",
       "    <tr>\n",
       "      <th>1959</th>\n",
       "      <td>Cooperative Beamforming for Cognitive-Radio-Ba...</td>\n",
       "      <td>To address the asynchronous interference issue...</td>\n",
       "      <td>Receivers,\\nInterference,\\nResource management...</td>\n",
       "    </tr>\n",
       "    <tr>\n",
       "      <th>1960</th>\n",
       "      <td>Trust-Based Task Assignment With Multiobjectiv...</td>\n",
       "      <td>We propose and analyze a trust management prot...</td>\n",
       "      <td>Ad hoc networks,\\nMobile computing,\\nProtocols...</td>\n",
       "    </tr>\n",
       "    <tr>\n",
       "      <th>1961</th>\n",
       "      <td>Low-Barrier Nanomagnets as p-Bits for Spin Logic</td>\n",
       "      <td>It has recently been shown that a suitably int...</td>\n",
       "      <td>Adders,\\nMagnetization,\\nSaturation magnetizat...</td>\n",
       "    </tr>\n",
       "    <tr>\n",
       "      <th>1962</th>\n",
       "      <td>Comprehensive Analysis of Magnet Defect Fault ...</td>\n",
       "      <td>This paper presents a detailed magnet defect f...</td>\n",
       "      <td>Magnetic flux,\\nCircuit faults,\\nMagnetic sens...</td>\n",
       "    </tr>\n",
       "    <tr>\n",
       "      <th>1963</th>\n",
       "      <td>Dependable Structural Health Monitoring Using ...</td>\n",
       "      <td>As an alternative to current wired-based netwo...</td>\n",
       "      <td>NaN</td>\n",
       "    </tr>\n",
       "    <tr>\n",
       "      <th>1964</th>\n",
       "      <td>Optimal elephant flow detection</td>\n",
       "      <td>Monitoring the traffic volumes of elephant flo...</td>\n",
       "      <td>Radiation detectors,\\nMaintenance engineering,...</td>\n",
       "    </tr>\n",
       "    <tr>\n",
       "      <th>1965</th>\n",
       "      <td>Dynamic Resource Allocation for Virtualized Wi...</td>\n",
       "      <td>This paper considers the uplink dynamic resour...</td>\n",
       "      <td>NaN</td>\n",
       "    </tr>\n",
       "    <tr>\n",
       "      <th>1966</th>\n",
       "      <td>dipIQ: Blind Image Quality Assessment by Learn...</td>\n",
       "      <td>Objective assessment of image quality is funda...</td>\n",
       "      <td>Electronics packaging,\\nTraining,\\nImage quali...</td>\n",
       "    </tr>\n",
       "    <tr>\n",
       "      <th>1967</th>\n",
       "      <td>Large-Scale VM Placement with Disk Anti-Coloca...</td>\n",
       "      <td>As computational clouds offer increasingly sop...</td>\n",
       "      <td>Heuristic algorithms,\\nResource management,\\nC...</td>\n",
       "    </tr>\n",
       "    <tr>\n",
       "      <th>1968</th>\n",
       "      <td>Facilitating the Delegation of Use for Private...</td>\n",
       "      <td>The Internet undergoes a fundamental transform...</td>\n",
       "      <td>Internet of things,\\nProtocols,\\nData privacy,...</td>\n",
       "    </tr>\n",
       "    <tr>\n",
       "      <th>1969</th>\n",
       "      <td>Learning Sparse Representation for Objective I...</td>\n",
       "      <td>The goal of image retargeting is to adapt sour...</td>\n",
       "      <td>Distortion,\\nFeature extraction,\\nVisualizatio...</td>\n",
       "    </tr>\n",
       "    <tr>\n",
       "      <th>1970</th>\n",
       "      <td>A Toeplitz Covariance Matrix Reconstruction Ap...</td>\n",
       "      <td>It is known that there exist two kinds of meth...</td>\n",
       "      <td>Covariance matrices,\\nEstimation,\\nDirection-o...</td>\n",
       "    </tr>\n",
       "    <tr>\n",
       "      <th>1971</th>\n",
       "      <td>Behavior-Based SSVEP Hierarchical Architecture...</td>\n",
       "      <td>The challenge to telepresence control a humano...</td>\n",
       "      <td>Humanoid robots,\\nRobot kinematics,\\nLegged lo...</td>\n",
       "    </tr>\n",
       "    <tr>\n",
       "      <th>1972</th>\n",
       "      <td>An Improved Bound on the Fraction of Correctab...</td>\n",
       "      <td>We consider codes over fixed alphabets against...</td>\n",
       "      <td>Binary codes,\\nDecoding,\\nUpper bound,\\nConcat...</td>\n",
       "    </tr>\n",
       "    <tr>\n",
       "      <th>1973</th>\n",
       "      <td>Data-driven technique to estimate the required...</td>\n",
       "      <td>Technology becomes more and more involved in t...</td>\n",
       "      <td>Broadband communication,\\nEducation,\\nCloud co...</td>\n",
       "    </tr>\n",
       "    <tr>\n",
       "      <th>1974</th>\n",
       "      <td>Coordinate Channel-Aware Page Mapping Policy a...</td>\n",
       "      <td>In a modern multicore system, memory is shared...</td>\n",
       "      <td>Instruction sets,\\nInterference,\\nMessage syst...</td>\n",
       "    </tr>\n",
       "    <tr>\n",
       "      <th>1975</th>\n",
       "      <td>A Markov Chain Monte Carlo Alternating Minimiz...</td>\n",
       "      <td>This letter proposes an algorithm to locate an...</td>\n",
       "      <td>Relays,\\nNoise measurement,\\nMinimization,\\nMa...</td>\n",
       "    </tr>\n",
       "    <tr>\n",
       "      <th>1976</th>\n",
       "      <td>A Low Bandwidth DFB Laser-Based Interrogator f...</td>\n",
       "      <td>This letter reports an all-electronic, low ban...</td>\n",
       "      <td>Sensors,\\nStrain,\\nBragg gratings,\\nFiber lase...</td>\n",
       "    </tr>\n",
       "    <tr>\n",
       "      <th>1977</th>\n",
       "      <td>Detection of sleep apnea from multiparameter m...</td>\n",
       "      <td>For diagnosing obstructive sleep apnea (OSA), ...</td>\n",
       "      <td>Electrocardiography,\\nSleep apnea,\\nDatabases,...</td>\n",
       "    </tr>\n",
       "    <tr>\n",
       "      <th>1978</th>\n",
       "      <td>A New Representation of fMRI Signal by a Set o...</td>\n",
       "      <td>How neurons influence each other's firing depe...</td>\n",
       "      <td>NaN</td>\n",
       "    </tr>\n",
       "    <tr>\n",
       "      <th>1979</th>\n",
       "      <td>Experimental study of a miniaturized calcium a...</td>\n",
       "      <td>With the advantage of relatively simple struct...</td>\n",
       "      <td>Calcium,\\nAtomic beams,\\nElectron tubes,\\nAtom...</td>\n",
       "    </tr>\n",
       "    <tr>\n",
       "      <th>1980</th>\n",
       "      <td>Multi-Dimensional QoS Prediction for Service R...</td>\n",
       "      <td>Advances in mobile Internet technology have en...</td>\n",
       "      <td>Quality of service,\\nTensile stress,\\nWeb serv...</td>\n",
       "    </tr>\n",
       "    <tr>\n",
       "      <th>1981</th>\n",
       "      <td>Fundamental limits of location privacy using a...</td>\n",
       "      <td>In [1]-[3], the concept of perfect location pr...</td>\n",
       "      <td>Privacy,\\nMarkov processes,\\nComputers,\\nData ...</td>\n",
       "    </tr>\n",
       "    <tr>\n",
       "      <th>1982</th>\n",
       "      <td>Ship Detection From Optical Satellite Images B...</td>\n",
       "      <td>Automatic ship detection from optical satellit...</td>\n",
       "      <td>Marine vehicles,\\nFeature extraction,\\nSatelli...</td>\n",
       "    </tr>\n",
       "    <tr>\n",
       "      <th>1983</th>\n",
       "      <td>Unimodal Stopping Model-Based Early SKIP Mode ...</td>\n",
       "      <td>High-efficiency video coding (HEVC) can greatl...</td>\n",
       "      <td>Encoding,\\nCorrelation,\\nCopper,\\nVideo sequen...</td>\n",
       "    </tr>\n",
       "    <tr>\n",
       "      <th>1984</th>\n",
       "      <td>Multiview Feature Analysis via Structured Spar...</td>\n",
       "      <td>Since combining features from heterogeneous da...</td>\n",
       "      <td>NaN</td>\n",
       "    </tr>\n",
       "    <tr>\n",
       "      <th>1985</th>\n",
       "      <td>Feature Constrained Multi-Task Learning Models...</td>\n",
       "      <td>Spatial event forecasting from social media is...</td>\n",
       "      <td>Forecasting,\\nPredictive models,\\nUrban areas,...</td>\n",
       "    </tr>\n",
       "    <tr>\n",
       "      <th>1986</th>\n",
       "      <td>Timed Automata Modeling and Verification for P...</td>\n",
       "      <td>In this paper we present a Timed Automata mode...</td>\n",
       "      <td>NaN</td>\n",
       "    </tr>\n",
       "  </tbody>\n",
       "</table>\n",
       "<p>1987 rows × 3 columns</p>\n",
       "</div>"
      ],
      "text/plain": [
       "                                                  Title  \\\n",
       "0                Structural Minimax Probability Machine   \n",
       "1     Effective and Efficient Global Context Verific...   \n",
       "2     Faster R-CNN: Towards Real-Time Object Detecti...   \n",
       "3     Event-Triggered Fault Detection of Nonlinear N...   \n",
       "4     Adaptive Fuzzy Control for Nonstrict-Feedback ...   \n",
       "5     Fully Convolutional Networks for Semantic Segm...   \n",
       "6     Energy-Aware Data Allocation With Hybrid Memor...   \n",
       "7     Health-CPS: Healthcare Cyber-Physical System A...   \n",
       "8     Neural Control of Bimanual Robots With Guarant...   \n",
       "9     Vibration Control of a Flexible Robotic Manipu...   \n",
       "10    iPrivacy: Image Privacy Protection by Identify...   \n",
       "11    Adaptive Fuzzy Backstepping Tracking Control f...   \n",
       "12    Hierarchical Clustering Multi-Task Learning fo...   \n",
       "13    Bi-Level Semantic Representation Analysis for ...   \n",
       "14    Robust Joint Graph Sparse Coding for Unsupervi...   \n",
       "15    Analysis of Energy-Efficient Connected Target ...   \n",
       "16    Efficient Computation for Sparse Load Shifting...   \n",
       "17    Compact Supervisory Control of Discrete Event ...   \n",
       "18    Event-Based Distributed H_{\\infty } Filtering ...   \n",
       "19    Energy-Harvesting-Aided Spectrum Sensing and D...   \n",
       "20    Algorithm-Dependent Generalization Bounds for ...   \n",
       "21    Air-Breathing Hypersonic Vehicle Tracking Cont...   \n",
       "22    Nuclear Norm Based Matrix Regression with Appl...   \n",
       "23    Source Estimation Using Coprime Array: A Spars...   \n",
       "24    Feature Interaction Augmented Sparse Learning ...   \n",
       "25    CSI-Based Fingerprinting for Indoor Localizati...   \n",
       "26    Revealing Event Saliency in Unconstrained Vide...   \n",
       "27    Pulse-Modulated Intermittent Control in Consen...   \n",
       "28    Success Probability of the Babai Estimators fo...   \n",
       "29    A Time Delay Compensation Method Based on Area...   \n",
       "...                                                 ...   \n",
       "1957  Accelerating the Mobile cloud: Using Amazon Mo...   \n",
       "1958  Malware traffic classification using convoluti...   \n",
       "1959  Cooperative Beamforming for Cognitive-Radio-Ba...   \n",
       "1960  Trust-Based Task Assignment With Multiobjectiv...   \n",
       "1961   Low-Barrier Nanomagnets as p-Bits for Spin Logic   \n",
       "1962  Comprehensive Analysis of Magnet Defect Fault ...   \n",
       "1963  Dependable Structural Health Monitoring Using ...   \n",
       "1964                    Optimal elephant flow detection   \n",
       "1965  Dynamic Resource Allocation for Virtualized Wi...   \n",
       "1966  dipIQ: Blind Image Quality Assessment by Learn...   \n",
       "1967  Large-Scale VM Placement with Disk Anti-Coloca...   \n",
       "1968  Facilitating the Delegation of Use for Private...   \n",
       "1969  Learning Sparse Representation for Objective I...   \n",
       "1970  A Toeplitz Covariance Matrix Reconstruction Ap...   \n",
       "1971  Behavior-Based SSVEP Hierarchical Architecture...   \n",
       "1972  An Improved Bound on the Fraction of Correctab...   \n",
       "1973  Data-driven technique to estimate the required...   \n",
       "1974  Coordinate Channel-Aware Page Mapping Policy a...   \n",
       "1975  A Markov Chain Monte Carlo Alternating Minimiz...   \n",
       "1976  A Low Bandwidth DFB Laser-Based Interrogator f...   \n",
       "1977  Detection of sleep apnea from multiparameter m...   \n",
       "1978  A New Representation of fMRI Signal by a Set o...   \n",
       "1979  Experimental study of a miniaturized calcium a...   \n",
       "1980  Multi-Dimensional QoS Prediction for Service R...   \n",
       "1981  Fundamental limits of location privacy using a...   \n",
       "1982  Ship Detection From Optical Satellite Images B...   \n",
       "1983  Unimodal Stopping Model-Based Early SKIP Mode ...   \n",
       "1984  Multiview Feature Analysis via Structured Spar...   \n",
       "1985  Feature Constrained Multi-Task Learning Models...   \n",
       "1986  Timed Automata Modeling and Verification for P...   \n",
       "\n",
       "                                               Abstract  \\\n",
       "0     Minimax probability machine (MPM) is an intere...   \n",
       "1     To detect illegal copies of copyrighted images...   \n",
       "2     State-of-the-art object detection networks dep...   \n",
       "3     This paper investigates the problem of fault d...   \n",
       "4     This paper presents an adaptive fuzzy control ...   \n",
       "5     Convolutional networks are powerful visual mod...   \n",
       "6     Resource scheduling is one of the most importa...   \n",
       "7     The advances in information technology have wi...   \n",
       "8     Robots with coordinated dual arms are able to ...   \n",
       "9     In this paper, a neural network (NN) controlle...   \n",
       "10    To achieve automatic recommendation of privacy...   \n",
       "11    This paper investigates the problem of adaptiv...   \n",
       "12    This paper proposes a hierarchical clustering ...   \n",
       "13    Multimedia event detection has been one of the...   \n",
       "14    In this paper, we propose a new unsupervised s...   \n",
       "15    Recent breakthroughs in wireless technologies ...   \n",
       "16    This paper introduces a distributed algorithm ...   \n",
       "17    This work proposes a novel structure in Petri ...   \n",
       "18    This paper is concerned with the problem of ve...   \n",
       "19    The incorporation of cognitive radio (CR) and ...   \n",
       "20    Often, tasks are collected for multi-task lear...   \n",
       "21    In this paper, we propose a data-driven supple...   \n",
       "22    Recently, regression analysis has become a pop...   \n",
       "23    Direction-of-arrival (DOA), power, and achieva...   \n",
       "24    The Kinect sensing devices have been widely us...   \n",
       "25    With the fast-growing demand of location-based...   \n",
       "26    Recent progresses in multimedia event detectio...   \n",
       "27    This paper proposes a control framework, calle...   \n",
       "28    In many applications including communications,...   \n",
       "29    Control of the LCL-type three-phase grid-conne...   \n",
       "...                                                 ...   \n",
       "1957  Current trends show a move away from desktop c...   \n",
       "1958  Traffic classification is the first step for n...   \n",
       "1959  To address the asynchronous interference issue...   \n",
       "1960  We propose and analyze a trust management prot...   \n",
       "1961  It has recently been shown that a suitably int...   \n",
       "1962  This paper presents a detailed magnet defect f...   \n",
       "1963  As an alternative to current wired-based netwo...   \n",
       "1964  Monitoring the traffic volumes of elephant flo...   \n",
       "1965  This paper considers the uplink dynamic resour...   \n",
       "1966  Objective assessment of image quality is funda...   \n",
       "1967  As computational clouds offer increasingly sop...   \n",
       "1968  The Internet undergoes a fundamental transform...   \n",
       "1969  The goal of image retargeting is to adapt sour...   \n",
       "1970  It is known that there exist two kinds of meth...   \n",
       "1971  The challenge to telepresence control a humano...   \n",
       "1972  We consider codes over fixed alphabets against...   \n",
       "1973  Technology becomes more and more involved in t...   \n",
       "1974  In a modern multicore system, memory is shared...   \n",
       "1975  This letter proposes an algorithm to locate an...   \n",
       "1976  This letter reports an all-electronic, low ban...   \n",
       "1977  For diagnosing obstructive sleep apnea (OSA), ...   \n",
       "1978  How neurons influence each other's firing depe...   \n",
       "1979  With the advantage of relatively simple struct...   \n",
       "1980  Advances in mobile Internet technology have en...   \n",
       "1981  In [1]-[3], the concept of perfect location pr...   \n",
       "1982  Automatic ship detection from optical satellit...   \n",
       "1983  High-efficiency video coding (HEVC) can greatl...   \n",
       "1984  Since combining features from heterogeneous da...   \n",
       "1985  Spatial event forecasting from social media is...   \n",
       "1986  In this paper we present a Timed Automata mode...   \n",
       "\n",
       "                                               Keywords  \n",
       "0                                                   NaN  \n",
       "1                                                   NaN  \n",
       "2                                                   NaN  \n",
       "3                                                   NaN  \n",
       "4     Adaptive systems,\\nBackstepping,\\nFuzzy contro...  \n",
       "5                                                   NaN  \n",
       "6                                                   NaN  \n",
       "7                                                   NaN  \n",
       "8                                                   NaN  \n",
       "9                                                   NaN  \n",
       "10    Privacy,\\nObject recognition,\\nVisualization,\\...  \n",
       "11                                                  NaN  \n",
       "12                                                  NaN  \n",
       "13    Semantics,\\nDetectors,\\nTraining,\\nMultimedia ...  \n",
       "14    Manifolds,\\nComputational modeling,\\nLearning ...  \n",
       "15    Algorithm design and analysis,\\nSensors,\\nWire...  \n",
       "16                                                  NaN  \n",
       "17                                                  NaN  \n",
       "18                                                  NaN  \n",
       "19                                                  NaN  \n",
       "20    Algorithm design and analysis,\\nStability anal...  \n",
       "21    Aerodynamics,\\nUncertainty,\\nVehicles,\\nAtmosp...  \n",
       "22    Robustness,\\nFace recognition,\\nLighting,\\nNuc...  \n",
       "23    Estimation,\\nSensor arrays,\\nDirection-of-arri...  \n",
       "24    Skeleton,\\nFeature extraction,\\nMotion detecti...  \n",
       "25    Training,\\nMachine learning,\\nIEEE 802.11 Stan...  \n",
       "26    Event detection,\\nMultimedia communication,\\nS...  \n",
       "27    Multi-agent systems,\\nControl systems,\\nConver...  \n",
       "28    Zinc,\\nSearch methods,\\nOils,\\nSignal to noise...  \n",
       "29    Delays,\\nDamping,\\nPulse width modulation,\\nDe...  \n",
       "...                                                 ...  \n",
       "1957  Servers,\\nMobile communication,\\nDatabases,\\nC...  \n",
       "1958  Malware,\\nFeature extraction,\\nArtificial inte...  \n",
       "1959  Receivers,\\nInterference,\\nResource management...  \n",
       "1960  Ad hoc networks,\\nMobile computing,\\nProtocols...  \n",
       "1961  Adders,\\nMagnetization,\\nSaturation magnetizat...  \n",
       "1962  Magnetic flux,\\nCircuit faults,\\nMagnetic sens...  \n",
       "1963                                                NaN  \n",
       "1964  Radiation detectors,\\nMaintenance engineering,...  \n",
       "1965                                                NaN  \n",
       "1966  Electronics packaging,\\nTraining,\\nImage quali...  \n",
       "1967  Heuristic algorithms,\\nResource management,\\nC...  \n",
       "1968  Internet of things,\\nProtocols,\\nData privacy,...  \n",
       "1969  Distortion,\\nFeature extraction,\\nVisualizatio...  \n",
       "1970  Covariance matrices,\\nEstimation,\\nDirection-o...  \n",
       "1971  Humanoid robots,\\nRobot kinematics,\\nLegged lo...  \n",
       "1972  Binary codes,\\nDecoding,\\nUpper bound,\\nConcat...  \n",
       "1973  Broadband communication,\\nEducation,\\nCloud co...  \n",
       "1974  Instruction sets,\\nInterference,\\nMessage syst...  \n",
       "1975  Relays,\\nNoise measurement,\\nMinimization,\\nMa...  \n",
       "1976  Sensors,\\nStrain,\\nBragg gratings,\\nFiber lase...  \n",
       "1977  Electrocardiography,\\nSleep apnea,\\nDatabases,...  \n",
       "1978                                                NaN  \n",
       "1979  Calcium,\\nAtomic beams,\\nElectron tubes,\\nAtom...  \n",
       "1980  Quality of service,\\nTensile stress,\\nWeb serv...  \n",
       "1981  Privacy,\\nMarkov processes,\\nComputers,\\nData ...  \n",
       "1982  Marine vehicles,\\nFeature extraction,\\nSatelli...  \n",
       "1983  Encoding,\\nCorrelation,\\nCopper,\\nVideo sequen...  \n",
       "1984                                                NaN  \n",
       "1985  Forecasting,\\nPredictive models,\\nUrban areas,...  \n",
       "1986                                                NaN  \n",
       "\n",
       "[1987 rows x 3 columns]"
      ]
     },
     "execution_count": 2,
     "metadata": {},
     "output_type": "execute_result"
    }
   ],
   "source": [
    "ieee_data = pd.read_csv(\"Data/IEEE-Computer-Science-2017.csv\")\n",
    "ieee_data"
   ]
  },
  {
   "cell_type": "markdown",
   "metadata": {},
   "source": [
    "## Data Preprocessing"
   ]
  },
  {
   "cell_type": "markdown",
   "metadata": {},
   "source": [
    "### Combine all text data into one column"
   ]
  },
  {
   "cell_type": "code",
   "execution_count": 3,
   "metadata": {
    "collapsed": true
   },
   "outputs": [],
   "source": [
    "ieee_data[\"Combined_text\"] = ieee_data[\"Title\"] + ieee_data[\"Abstract\"] + ieee_data[\"Keywords\"]\n",
    "raw = ieee_data[\"Combined_text\"]\n",
    "raw = raw.dropna()"
   ]
  },
  {
   "cell_type": "markdown",
   "metadata": {},
   "source": [
    "### Tokenization and stemming"
   ]
  },
  {
   "cell_type": "code",
   "execution_count": 4,
   "metadata": {
    "collapsed": true
   },
   "outputs": [],
   "source": [
    "from nltk import word_tokenize\n",
    "from nltk.stem.porter import PorterStemmer\n",
    "from nltk.stem import WordNetLemmatizer\n",
    "import re\n",
    "import string\n",
    "#Tokenize the text\n",
    "def tokenize(text):\n",
    "\n",
    "    #Create Stemmer\n",
    "    stemmer = WordNetLemmatizer()\n",
    "\n",
    "    #Remove irrelevant character\n",
    "    text = re.sub(r\"[^a-zA-Z]\", ' ', text)\n",
    "\n",
    "    #Tokenization\n",
    "    tokens = word_tokenize(text)\n",
    "    tokens = [i for i in tokens if i not in string.punctuation]\n",
    "\n",
    "    #Stemming\n",
    "    stems = stem_tokens(tokens, stemmer)\n",
    "    return stems\n",
    "\n",
    "#Stemming Function\n",
    "def stem_tokens(t,s):\n",
    "    stemmed=[]\n",
    "    for item in t:\n",
    "        stemmed.append(s.lemmatize(item))\n",
    "    return stemmed"
   ]
  },
  {
   "cell_type": "markdown",
   "metadata": {},
   "source": [
    "### Tfidf Vectorizer and Count Vectorizer"
   ]
  },
  {
   "cell_type": "code",
   "execution_count": 5,
   "metadata": {
    "collapsed": true
   },
   "outputs": [],
   "source": [
    "tfidf_vectorizer = TfidfVectorizer(stop_words='english', tokenizer=tokenize)\n",
    "tf_vectorizer = CountVectorizer(stop_words='english', tokenizer=tokenize, max_df=500, max_features=1000)"
   ]
  },
  {
   "cell_type": "markdown",
   "metadata": {},
   "source": [
    "### Convert text to tfidf and tf format"
   ]
  },
  {
   "cell_type": "code",
   "execution_count": 6,
   "metadata": {},
   "outputs": [
    {
     "name": "stdout",
     "output_type": "stream",
     "text": [
      "(1483, 12515)\n"
     ]
    }
   ],
   "source": [
    "ieee_tfidf = tfidf_vectorizer.fit_transform(raw)\n",
    "print ieee_tfidf.shape"
   ]
  },
  {
   "cell_type": "code",
   "execution_count": 7,
   "metadata": {},
   "outputs": [
    {
     "name": "stdout",
     "output_type": "stream",
     "text": [
      "(1483, 1000)\n"
     ]
    },
    {
     "data": {
      "text/plain": [
       "array([1, 1, 1, ..., 1, 1, 2])"
      ]
     },
     "execution_count": 7,
     "metadata": {},
     "output_type": "execute_result"
    }
   ],
   "source": [
    "ieee_tf = tf_vectorizer.fit_transform(raw)\n",
    "print ieee_tf.shape\n",
    "ieee_tf.data"
   ]
  },
  {
   "cell_type": "markdown",
   "metadata": {},
   "source": [
    "## Model Training"
   ]
  },
  {
   "cell_type": "markdown",
   "metadata": {},
   "source": [
    "### Fit to NMF model (Frobenius norm)"
   ]
  },
  {
   "cell_type": "code",
   "execution_count": 21,
   "metadata": {
    "collapsed": true
   },
   "outputs": [],
   "source": [
    "nmf = NMF(n_components=10, alpha = 0.1, l1_ratio=0.5).fit(ieee_tfidf)"
   ]
  },
  {
   "cell_type": "markdown",
   "metadata": {},
   "source": [
    "### check NMF model result"
   ]
  },
  {
   "cell_type": "code",
   "execution_count": 82,
   "metadata": {
    "collapsed": true
   },
   "outputs": [],
   "source": [
    "def print_top_words(model, feature_names, n_top_words):\n",
    "    for topic_idx, topic in enumerate(model.components_):\n",
    "        message = \"Topic #%d: \" % (topic_idx+1)\n",
    "        message += \" \".join([feature_names[i]\n",
    "                             for i in topic.argsort()[:-n_top_words - 1:-1]])\n",
    "        print(message)\n",
    "    "
   ]
  },
  {
   "cell_type": "code",
   "execution_count": 24,
   "metadata": {},
   "outputs": [
    {
     "name": "stdout",
     "output_type": "stream",
     "text": [
      "Topic #0: algorithm data predict network use comput train applic process model\n",
      "Topic #1: web servic design interfac defect solut ws modular d evalu\n",
      "Topic #2: kidney diseas chronic predict tree analyt classifi decis logist vector\n",
      "Topic #3: degrad ber fec pre rout failur detect reduc affect optic\n",
      "Topic #4: industri initi medic variou research healthcar past analyt data healthcarein\n",
      "Topic #5: follow therapi endocrin adjuv patient care medic appoint relat record\n",
      "Topic #6: nfr recal precis fr function requir dataset secur supervis classifi\n",
      "Topic #7: wave paramet relationship determin approach ml buoy convers power method\n",
      "Topic #8: signal behavior mental process versu physiolog bodi make clinic represent\n",
      "Topic #9: estim kernel semisupervis increment prior neighborhood se bandwidth data label\n"
     ]
    }
   ],
   "source": [
    "print_top_words(nmf, tfidf_vectorizer.get_feature_names(), 10)"
   ]
  },
  {
   "cell_type": "markdown",
   "metadata": {},
   "source": [
    "### Fit NMF model (Kullback-Leibler divergence)"
   ]
  },
  {
   "cell_type": "code",
   "execution_count": 25,
   "metadata": {
    "collapsed": true
   },
   "outputs": [],
   "source": [
    "nmf = NMF(n_components=10, beta_loss='kullback-leibler', solver='mu', max_iter=1000, alpha=.1,l1_ratio=.5).fit(ieee_tfidf)"
   ]
  },
  {
   "cell_type": "code",
   "execution_count": 26,
   "metadata": {},
   "outputs": [
    {
     "name": "stdout",
     "output_type": "stream",
     "text": [
      "Topic #0: data model support network base perform pattern use algorithm process\n",
      "Topic #1: power level design comput requir softwar shown thi highli empir\n",
      "Topic #2: thi support techniqu vector use remain paper classifi interfac s\n",
      "Topic #3: propos set mobil occur result protect match thi analysi help\n",
      "Topic #4: thi potenti use open health imag follow defect healthcar fine\n",
      "Topic #5: random classifi experi mani rate secur linear comparison term non\n",
      "Topic #6: novel method just issu propos paper handl svm mcdbn rate\n",
      "Topic #7: increasingli storag svm train continu use studi core regress comput\n",
      "Topic #8: analyt decis parallel art data paper sever rule perform dataset\n",
      "Topic #9: possibl statu studi predictor signific s hip posit thi robot\n"
     ]
    }
   ],
   "source": [
    "print_top_words(nmf, tfidf_vectorizer.get_feature_names(), 10)"
   ]
  },
  {
   "cell_type": "markdown",
   "metadata": {},
   "source": [
    "### Fit LDA Model"
   ]
  },
  {
   "cell_type": "code",
   "execution_count": 8,
   "metadata": {
    "collapsed": true
   },
   "outputs": [],
   "source": [
    "class TopicTree:\n",
    "    def __init__(self, level=0, index=1, children=[], keywords=[]):\n",
    "        self.children = children\n",
    "        self.keywords = keywords\n",
    "        self.level = level\n",
    "        self.index = index\n",
    "        self.dup_index = 0\n",
    "        self.association_index = 0\n",
    "        self.base_url = 'https://api.wordassociations.net/associations/v1.0/json/search?apikey=85618aa1-21c2-4382-9dc6-373c5b1424b8&lang=en&limit=100'\n",
    "\n",
    "    \n",
    "    def get_number_of_children(self):\n",
    "        return len(self.children)\n",
    "\n",
    "    def get_children(self):\n",
    "        return children\n",
    "    \n",
    "    def get_topic_content(self):\n",
    "        return self.topic_content\n",
    "\n",
    "    def compute_dup_index(self):\n",
    "        if not self.children:\n",
    "            return\n",
    "        children_keywords = []\n",
    "        for child in self.children:\n",
    "            children_keywords += child.keywords\n",
    "            child.compute_dup_index()\n",
    "        original_len = len(children_keywords)\n",
    "        children_keywords = list(set(children_keywords))\n",
    "        num_of_duplicate = original_len - len(children_keywords)\n",
    "        self.dup_index = float(num_of_duplicate) / original_len\n",
    "        \n",
    "    def get_whole_tree_dup_index(self):\n",
    "        if self.dup_index == 0:\n",
    "            self.compute_dup_index()\n",
    "        if not self.children:\n",
    "            return self.dup_index\n",
    "        children_index = 0\n",
    "        for child in self.children:\n",
    "            children_index += child.dup_index\n",
    "        children_index = children_index / len(self.children)\n",
    "        return (self.dup_index + children_index) / 2\n",
    "    \n",
    "    def compute_association_index(self):\n",
    "        base_url = self.base_url\n",
    "        word_sum = 0\n",
    "        if len(self.keywords) <= 10:\n",
    "            for word in self.keywords:\n",
    "                base_url = base_url + '&text=' + word\n",
    "            response = requests.get(base_url).json()['response']\n",
    "        elif len(self.keywords) <= 20:\n",
    "            for word in self.keywords[:10]:\n",
    "                base_url = base_url + '&text=' + word\n",
    "            response = requests.get(base_url).json()['response']\n",
    "            base_url = self.base_url\n",
    "            for word in self.keywords[10:]:\n",
    "                base_url = base_url + '&text=' + word\n",
    "            response = response + requests.get(base_url).json()['response']\n",
    "        else:\n",
    "            for word in self.keywords[:10]:\n",
    "                base_url = base_url + '&text=' + word\n",
    "            response = requests.get(base_url).json()['response']\n",
    "            base_url = self.base_url\n",
    "            for word in self.keywords[10:20]:\n",
    "                base_url = base_url + '&text=' + word\n",
    "            response = response + requests.get(base_url).json()['response']\n",
    "            base_url = self.base_url\n",
    "            for word in self.keywords[20:]:\n",
    "                base_url = base_url + '&text=' + word\n",
    "            response = response + requests.get(base_url).json()['response']\n",
    "        for word_json in response:\n",
    "            items = word_json['items']\n",
    "            for item in items:\n",
    "                if item['item'].lower() in self.keywords:\n",
    "                    word_sum += float(item['weight']) / 100.0\n",
    "        self.association_index = float(word_sum) / self.n_top_words / (self.n_top_words - 1)\n",
    "    \n",
    "    def get_whole_tree_association_index(self):\n",
    "        if self.association_index == 0:\n",
    "            self.compute_association_index()\n",
    "        if not self.children:\n",
    "            return self.association_index\n",
    "        children_index = 0\n",
    "        for child in self.children:\n",
    "            children_index += float(child.get_whole_tree_association_index())\n",
    "        children_index = children_index / len(self.children)\n",
    "        return (self.association_index + children_index) / 2.0"
   ]
  },
  {
   "cell_type": "code",
   "execution_count": 9,
   "metadata": {
    "collapsed": true
   },
   "outputs": [],
   "source": [
    "def print_top_words(model, feature_names, n_top_words):\n",
    "    for topic_idx, topic in enumerate(model.components_):\n",
    "        message = \"Topic #%d: \" % (topic_idx+1)\n",
    "        message += \" \".join([feature_names[i]\n",
    "                             for i in topic.argsort()[:-n_top_words - 1:-1]])\n",
    "        print(message)\n",
    "        \n",
    "def get_top_words(level, model, feature_names, n_top_words):\n",
    "    children = []\n",
    "    for topic_idx, topic in enumerate(model.components_):\n",
    "        topic_words = [feature_names[i] for i in topic.argsort()[:-n_top_words - 1:-1]]\n",
    "        children.append(TopicTree(level=level, index=topic_idx+1, keywords=topic_words))\n",
    "    return children\n",
    "\n",
    "def build_root(tree,data, feature_names):\n",
    "    print \"\\nlevel 0\"\n",
    "    message = \"#Topic 1: \"\n",
    "    centroids = np.mean(data,axis=0)\n",
    "    topic_words = [feature_names[i]\n",
    "                         for i in centroids.argsort()[:20]]\n",
    "    tree.keywords = topic_words\n",
    "    message += \" \".join(topic_words)   \n",
    "    print message"
   ]
  },
  {
   "cell_type": "code",
   "execution_count": 10,
   "metadata": {
    "collapsed": true
   },
   "outputs": [],
   "source": [
    "def get_MPC(doc_topic_weight_mat):\n",
    "    num_doc = doc_topic_weight_mat.shape[0]\n",
    "    num_topic = doc_topic_weight_mat.shape[1]\n",
    "    pc = np.sum(np.square(doc_topic_weight_mat)) / num_doc\n",
    "    if num_topic == 1:\n",
    "        mpc = 0.50\n",
    "    else:\n",
    "        mpc = 1 - float(num_topic) / (num_topic - 1) * (1 - pc)\n",
    "    return mpc"
   ]
  },
  {
   "cell_type": "code",
   "execution_count": 22,
   "metadata": {},
   "outputs": [
    {
     "name": "stdout",
     "output_type": "stream",
     "text": [
      "\n",
      "level 0\n",
      "#Topic 1: iqa opportunity previously illustrate iteration handle share rfid assignment supply biological inference strength collected lattice manifold intelligent extend unified compressed\n"
     ]
    }
   ],
   "source": [
    "max_topic = 4\n",
    "max_level = 2\n",
    "topic_tree = TopicTree(level=1, index=1)\n",
    "build_root(topic_tree, ieee_tf.toarray(), tf_vectorizer.get_feature_names())"
   ]
  },
  {
   "cell_type": "code",
   "execution_count": 20,
   "metadata": {
    "collapsed": true
   },
   "outputs": [],
   "source": [
    "def Hierarchical_lda(tree, max_topic, max_level, doc_word_matrix, level, index, dictionary):\n",
    "    if level > max_level:\n",
    "        return\n",
    "    \n",
    "    target_mpc = 0\n",
    "    for topic_index in range(2,max_topic+1):\n",
    "        model = LatentDirichletAllocation(n_components=topic_index, max_iter = 50, learning_method=\"batch\", learning_offset=10)\n",
    "        model.fit(doc_word_matrix)\n",
    "        mpc = get_MPC(model.transform(doc_word_matrix))\n",
    "        print mpc\n",
    "        mpc = model.perplexity(doc_word_matrix)*(1-mpc)\n",
    "        if target_mpc == 0:\n",
    "            target_mpc = mpc\n",
    "            target_num_topic = topic_index\n",
    "            target_model = model\n",
    "        elif mpc < target_mpc:\n",
    "            target_mpc = mpc\n",
    "            target_num_topic = topic_index\n",
    "            target_model = model\n",
    "    print \"Level %d-%d\" %(level, index)\n",
    "    print \"Detect %d topics\" %target_num_topic\n",
    "    tree.children = get_top_words(level=level, n_top_words=20, model=target_model, feature_names=dictionary)\n",
    "    print_top_words(target_model, dictionary, n_top_words=10)\n",
    "    doc_topic_matrix = target_model.transform(doc_word_matrix)\n",
    "    \n",
    "    for topic_index in range(target_num_topic):\n",
    "        weight_vector = doc_topic_matrix.T[topic_index]\n",
    "        weight_vector = weight_vector.reshape(len(weight_vector),)\n",
    "        new_doc_word_matrix = doc_word_matrix[:]\n",
    "        for i in range(len(weight_vector)):\n",
    "            new_doc_word_matrix[i] = (new_doc_word_matrix[i]*weight_vector[i]*target_num_topic*10).astype(int)\n",
    "        Hierarchical_lda(tree.children[topic_index], max_topic, max_level, new_doc_word_matrix, level+1, topic_index+1, dictionary)\n",
    "        "
   ]
  },
  {
   "cell_type": "code",
   "execution_count": 23,
   "metadata": {},
   "outputs": [
    {
     "name": "stdout",
     "output_type": "stream",
     "text": [
      "0.591310533515\n",
      "0.577910208873\n",
      "0.573284850881\n",
      "Level 1-1\n",
      "Detect 4 topics\n",
      "Topic #1: network wireless channel communication sensor user d energy scheme rate\n",
      "Topic #2: power control time frequency voltage measurement circuit high analysis state\n",
      "Topic #3: service cloud network computing user mobile application resource energy time\n",
      "Topic #4: image feature learning approach problem detection analysis training recognition information\n",
      "0.329991178578\n",
      "0.297517271779\n",
      "0.272001594358\n",
      "Level 2-1\n",
      "Detect 4 topics\n",
      "Topic #1: channel power antenna signal multiple scheme mimo frequency receiver rate\n",
      "Topic #2: problem bound code complexity optimal coding rate time channel optimization\n",
      "Topic #3: network energy d user resource communication problem spectrum device wireless\n",
      "Topic #4: network sensor wireless communication routing time node mobile protocol vehicle\n",
      "0.349287482539\n",
      "0.281049506021\n",
      "0.303543991425\n",
      "Level 2-2\n",
      "Detect 4 topics\n",
      "Topic #1: control time network problem dynamic state delay nonlinear function stability\n",
      "Topic #2: power control voltage energy fault current grid converter strategy analysis\n",
      "Topic #3: antenna frequency measurement sensor signal array high noise band mode\n",
      "Topic #4: circuit device voltage power gate high low current transistor optical\n",
      "0.316147244982\n",
      "0.297772932268\n",
      "0.276261694965\n",
      "Level 2-3\n",
      "Detect 4 topics\n",
      "Topic #1: cloud service mobile computing user resource privacy scheme device communication\n",
      "Topic #2: network smart iot sensor security architecture internet attack control wireless\n",
      "Topic #3: problem energy network user social optimization game resource power cost\n",
      "Topic #4: time memory design analysis application processing query approach process large\n",
      "0.431716834533\n",
      "0.384049470654\n",
      "0.309214959908\n",
      "Level 2-4\n",
      "Detect 2 topics\n",
      "Topic #1: problem network optimization analysis time approach signal sensor design ha\n",
      "Topic #2: image feature learning recognition video training approach visual different object\n"
     ]
    }
   ],
   "source": [
    "Hierarchical_lda(tree=topic_tree, max_topic = max_topic, max_level = max_level, doc_word_matrix=ieee_tf, level=1, index=1, dictionary=tf_vectorizer.get_feature_names())"
   ]
  },
  {
   "cell_type": "code",
   "execution_count": 24,
   "metadata": {},
   "outputs": [
    {
     "data": {
      "text/plain": [
       "0.16249999999999998"
      ]
     },
     "execution_count": 24,
     "metadata": {},
     "output_type": "execute_result"
    }
   ],
   "source": [
    "topic_tree.get_whole_tree_dup_index()"
   ]
  },
  {
   "cell_type": "markdown",
   "metadata": {},
   "source": [
    "#### Get Topic Docuemnt Association"
   ]
  },
  {
   "cell_type": "code",
   "execution_count": 18,
   "metadata": {},
   "outputs": [
    {
     "name": "stdout",
     "output_type": "stream",
     "text": [
      "(1693, 10)\n",
      "[[  7.52007740e-04   7.52009568e-04   7.52075078e-04 ...,   7.51909706e-04\n",
      "    3.26960539e-01   1.92206110e-01]\n",
      " [  5.74800645e-04   5.74770696e-04   5.74858043e-04 ...,   5.74778461e-04\n",
      "    9.94826557e-01   5.74824124e-04]\n",
      " [  5.43534364e-04   5.43618385e-04   5.43632548e-04 ...,   5.43550054e-04\n",
      "    5.31083328e-01   5.43600511e-04]\n",
      " ..., \n",
      " [  6.45430633e-02   9.34692717e-04   1.09913827e-01 ...,   9.34642882e-04\n",
      "    9.34793652e-04   2.28162224e-01]\n",
      " [  1.14960557e-03   1.14969817e-03   8.00667687e-01 ...,   1.14947725e-03\n",
      "    1.14963424e-03   1.14970015e-03]\n",
      " [  7.69432053e-04   6.81390887e-01   7.69386957e-04 ...,   7.69327685e-04\n",
      "    7.69428287e-04   1.91882154e-01]]\n"
     ]
    }
   ],
   "source": [
    "topic_document_association_16 = lda_16.transform(ieee_tf)\n",
    "print topic_document_association_16.shape\n",
    "print topic_document_association_16"
   ]
  },
  {
   "cell_type": "markdown",
   "metadata": {},
   "source": [
    "### Try Nested Topic Modeling on LDA"
   ]
  },
  {
   "cell_type": "markdown",
   "metadata": {},
   "source": [
    "#### Fit LDA Model 8 Topics"
   ]
  },
  {
   "cell_type": "code",
   "execution_count": 44,
   "metadata": {},
   "outputs": [
    {
     "name": "stdout",
     "output_type": "stream",
     "text": [
      "Topic #0: design servic hardwar techniqu defect web approach complex\n",
      "Topic #1: hemorrhag detect imag counselor flow distort visual gpu\n",
      "Topic #2: use differ servic evalu cost health provid cloud\n",
      "Topic #3: zero gaussian semant cepstral clip mel learningaudio secondli\n",
      "Topic #4: model use featur measur mesh d distribut method\n",
      "Topic #5: zero gaussian semant cepstral clip mel learningaudio secondli\n",
      "Topic #6: data algorithm use predict method base model network\n",
      "Topic #7: predict follow patient failur endocrin adjuv therapi cloud\n"
     ]
    }
   ],
   "source": [
    "lda_8 = LatentDirichletAllocation(n_components=8, max_iter = 100, learning_method=\"batch\", learning_offset=10)\n",
    "lda_8.fit(lda_16.components_)\n",
    "print_top_words(lda_8, tf_vectorizer.get_feature_names(), 8)"
   ]
  },
  {
   "cell_type": "code",
   "execution_count": 45,
   "metadata": {},
   "outputs": [
    {
     "data": {
      "text/plain": [
       "1500.4501327232101"
      ]
     },
     "execution_count": 45,
     "metadata": {},
     "output_type": "execute_result"
    }
   ],
   "source": [
    "lda_8.perplexity(lda_16.components_)"
   ]
  },
  {
   "cell_type": "markdown",
   "metadata": {},
   "source": [
    "#### Fit LDA Model 4 Topics"
   ]
  },
  {
   "cell_type": "code",
   "execution_count": 46,
   "metadata": {},
   "outputs": [
    {
     "name": "stdout",
     "output_type": "stream",
     "text": [
      "Topic #0: cloud differ servic provid\n",
      "Topic #1: design servic hemorrhag hardwar\n",
      "Topic #2: addit way usag shown\n",
      "Topic #3: data algorithm use model\n"
     ]
    }
   ],
   "source": [
    "lda_4 = LatentDirichletAllocation(n_components=4, max_iter = 100, learning_method=\"batch\", learning_offset=10)\n",
    "lda_4.fit(lda_8.components_)\n",
    "print_top_words(lda_4, tf_vectorizer.get_feature_names(), 4)"
   ]
  },
  {
   "cell_type": "code",
   "execution_count": 47,
   "metadata": {},
   "outputs": [
    {
     "data": {
      "text/plain": [
       "1309.2208992631054"
      ]
     },
     "execution_count": 47,
     "metadata": {},
     "output_type": "execute_result"
    }
   ],
   "source": [
    "lda_4.perplexity(lda_8.components_)"
   ]
  },
  {
   "cell_type": "markdown",
   "metadata": {},
   "source": [
    "#### Fit LDA Model 1 Topic"
   ]
  },
  {
   "cell_type": "code",
   "execution_count": 49,
   "metadata": {},
   "outputs": [
    {
     "name": "stdout",
     "output_type": "stream",
     "text": [
      "Topic #0: data\n"
     ]
    }
   ],
   "source": [
    "lda_1 = LatentDirichletAllocation(n_components=1, max_iter = 100, learning_method=\"batch\", learning_offset=10)\n",
    "lda_1.fit(lda_4.components_)\n",
    "print_top_words(lda_1, tf_vectorizer.get_feature_names(), 1)"
   ]
  },
  {
   "cell_type": "code",
   "execution_count": 50,
   "metadata": {},
   "outputs": [
    {
     "data": {
      "text/plain": [
       "1406.2830331290431"
      ]
     },
     "execution_count": 50,
     "metadata": {},
     "output_type": "execute_result"
    }
   ],
   "source": [
    "lda_1.perplexity(lda_4.components_)"
   ]
  }
 ],
 "metadata": {
  "kernelspec": {
   "display_name": "Python 2",
   "language": "python",
   "name": "python2"
  },
  "language_info": {
   "codemirror_mode": {
    "name": "ipython",
    "version": 2
   },
   "file_extension": ".py",
   "mimetype": "text/x-python",
   "name": "python",
   "nbconvert_exporter": "python",
   "pygments_lexer": "ipython2",
   "version": "2.7.13"
  }
 },
 "nbformat": 4,
 "nbformat_minor": 2
}

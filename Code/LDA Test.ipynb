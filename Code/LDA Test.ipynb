{
 "cells": [
  {
   "cell_type": "markdown",
   "metadata": {},
   "source": [
    "## Import Required Packages"
   ]
  },
  {
   "cell_type": "code",
   "execution_count": 1,
   "metadata": {
    "collapsed": true
   },
   "outputs": [],
   "source": [
    "import time\n",
    "import pandas as pd\n",
    "import numpy as np\n",
    "from sklearn.feature_extraction.text import TfidfVectorizer, CountVectorizer\n",
    "from sklearn.decomposition import NMF, LatentDirichletAllocation"
   ]
  },
  {
   "cell_type": "markdown",
   "metadata": {},
   "source": [
    "## Import Data set (from IEEE)"
   ]
  },
  {
   "cell_type": "code",
   "execution_count": 2,
   "metadata": {},
   "outputs": [
    {
     "data": {
      "text/html": [
       "<div>\n",
       "<style>\n",
       "    .dataframe thead tr:only-child th {\n",
       "        text-align: right;\n",
       "    }\n",
       "\n",
       "    .dataframe thead th {\n",
       "        text-align: left;\n",
       "    }\n",
       "\n",
       "    .dataframe tbody tr th {\n",
       "        vertical-align: top;\n",
       "    }\n",
       "</style>\n",
       "<table border=\"1\" class=\"dataframe\">\n",
       "  <thead>\n",
       "    <tr style=\"text-align: right;\">\n",
       "      <th></th>\n",
       "      <th>Title</th>\n",
       "      <th>Abstract</th>\n",
       "      <th>Keywords</th>\n",
       "    </tr>\n",
       "  </thead>\n",
       "  <tbody>\n",
       "    <tr>\n",
       "      <th>0</th>\n",
       "      <td>Data Mining and Analytics in the Process Indus...</td>\n",
       "      <td>Data mining and analytics have played an impor...</td>\n",
       "      <td>Data mining,\\nIndustries,\\nData models,\\nMachi...</td>\n",
       "    </tr>\n",
       "    <tr>\n",
       "      <th>1</th>\n",
       "      <td>Automatically Classifying Functional and Non-f...</td>\n",
       "      <td>In this paper, we take up the second RE17 data...</td>\n",
       "      <td>Training,\\nUsability,\\nSecurity,\\nFeature extr...</td>\n",
       "    </tr>\n",
       "    <tr>\n",
       "      <th>2</th>\n",
       "      <td>MACORD: Online Adaptive Machine Learning Frame...</td>\n",
       "      <td>Future high-performance computing (HPC) system...</td>\n",
       "      <td>Training,\\nAlgorithm design and analysis,\\nHeu...</td>\n",
       "    </tr>\n",
       "    <tr>\n",
       "      <th>3</th>\n",
       "      <td>TGE: Machine Learning Based Task Graph Embeddi...</td>\n",
       "      <td>Task mapping is an important problem in parall...</td>\n",
       "      <td>Topology,\\nBenchmark testing,\\nNetwork topolog...</td>\n",
       "    </tr>\n",
       "    <tr>\n",
       "      <th>4</th>\n",
       "      <td>Amazon?s Echo Look: Harnessing the Power of Ma...</td>\n",
       "      <td>Here we are in 2017, but, at times, it feels a...</td>\n",
       "      <td>Algorithm design and analysis,\\nConsumer elect...</td>\n",
       "    </tr>\n",
       "    <tr>\n",
       "      <th>5</th>\n",
       "      <td>The Trust Value Calculating for Social Network...</td>\n",
       "      <td>In this paper, a social network model is built...</td>\n",
       "      <td>Training,\\nSocial network services,\\nLogistics...</td>\n",
       "    </tr>\n",
       "    <tr>\n",
       "      <th>6</th>\n",
       "      <td>Japanese Fingerspelling Recognition Based on C...</td>\n",
       "      <td>Sign language is a very important communicatio...</td>\n",
       "      <td>Gesture recognition,\\nAssistive technology,\\nS...</td>\n",
       "    </tr>\n",
       "    <tr>\n",
       "      <th>7</th>\n",
       "      <td>A fully configurable and scalable neural copro...</td>\n",
       "      <td>This paper presents a fully configurable and p...</td>\n",
       "      <td>Coprocessors,\\nComputer architecture,\\nIP netw...</td>\n",
       "    </tr>\n",
       "    <tr>\n",
       "      <th>8</th>\n",
       "      <td>Category Classification of Text Data with Mach...</td>\n",
       "      <td>The beginner counselors have more likely to co...</td>\n",
       "      <td>Employee welfare,\\nSupport vector machines,\\nD...</td>\n",
       "    </tr>\n",
       "    <tr>\n",
       "      <th>9</th>\n",
       "      <td>Understanding the feasibility of machine learn...</td>\n",
       "      <td>The key enabling technology in dynamic spectru...</td>\n",
       "      <td>Games,\\nSwitches,\\nMachine learning algorithms...</td>\n",
       "    </tr>\n",
       "    <tr>\n",
       "      <th>10</th>\n",
       "      <td>Machine learning approach for optimal determin...</td>\n",
       "      <td>Wave parameter relationships have long been de...</td>\n",
       "      <td>learning (artificial intelligence),\\nocean wav...</td>\n",
       "    </tr>\n",
       "    <tr>\n",
       "      <th>11</th>\n",
       "      <td>Audio Classification Method Based on Machine L...</td>\n",
       "      <td>Audio classification has very large theoretica...</td>\n",
       "      <td>Transportation,\\nBig Data,\\nSmart cities</td>\n",
       "    </tr>\n",
       "    <tr>\n",
       "      <th>12</th>\n",
       "      <td>Matheuristic with machine-learning-based predi...</td>\n",
       "      <td>In general, humans follow a routine with highl...</td>\n",
       "      <td>Routing,\\nMobile communication,\\nPlanning,\\nMo...</td>\n",
       "    </tr>\n",
       "    <tr>\n",
       "      <th>13</th>\n",
       "      <td>Machine Learning Techniques for Analyzing Trai...</td>\n",
       "      <td>Training time is a costly, scarce resource acr...</td>\n",
       "      <td>Games,\\nTraining,\\nTools,\\nHidden Markov model...</td>\n",
       "    </tr>\n",
       "    <tr>\n",
       "      <th>14</th>\n",
       "      <td>A Comparison of Distributed Machine Learning P...</td>\n",
       "      <td>The proliferation of big data and big computin...</td>\n",
       "      <td>Sparks,\\nComputational modeling,\\nServers,\\nTr...</td>\n",
       "    </tr>\n",
       "    <tr>\n",
       "      <th>15</th>\n",
       "      <td>Machine-Learning Based Threat-Aware System in ...</td>\n",
       "      <td>Software-Defined Networking (SDN) is an emergi...</td>\n",
       "      <td>Intrusion detection,\\nData models,\\nPredictive...</td>\n",
       "    </tr>\n",
       "    <tr>\n",
       "      <th>16</th>\n",
       "      <td>Machine-Learning Classifiers for Security in C...</td>\n",
       "      <td>Medical devices equipped with wireless connect...</td>\n",
       "      <td>Security,\\nMedical diagnostic imaging,\\nLogic ...</td>\n",
       "    </tr>\n",
       "    <tr>\n",
       "      <th>17</th>\n",
       "      <td>Machine learning based prediction of thermal c...</td>\n",
       "      <td>Majority of energy consumption in Singapore bu...</td>\n",
       "      <td>Buildings,\\nAdaptation models,\\nMeteorology,\\n...</td>\n",
       "    </tr>\n",
       "    <tr>\n",
       "      <th>18</th>\n",
       "      <td>Mesh Convolutional Restricted Boltzmann Machin...</td>\n",
       "      <td>Discriminative features of 3-D meshes are sign...</td>\n",
       "      <td>Shape,\\nMachine learning,\\nSolid modeling,\\nFe...</td>\n",
       "    </tr>\n",
       "    <tr>\n",
       "      <th>19</th>\n",
       "      <td>GPU-Accelerated Parallel Hierarchical Extreme ...</td>\n",
       "      <td>The extreme learning machine (ELM) has become ...</td>\n",
       "      <td>Approximation algorithms,\\nBig Data,\\nAccelera...</td>\n",
       "    </tr>\n",
       "    <tr>\n",
       "      <th>20</th>\n",
       "      <td>A Machine Learning Algorithm for Identifying A...</td>\n",
       "      <td>The current work aims to identify patients wit...</td>\n",
       "      <td>Machine learning algorithms,\\nPrediction algor...</td>\n",
       "    </tr>\n",
       "    <tr>\n",
       "      <th>21</th>\n",
       "      <td>A machine learning approach to characterizing ...</td>\n",
       "      <td>Asynchronous distributed microelectrode theta ...</td>\n",
       "      <td>Animals,\\nElectrodes,\\nData models,\\nHippocamp...</td>\n",
       "    </tr>\n",
       "    <tr>\n",
       "      <th>22</th>\n",
       "      <td>Comparing deep neural network and other machin...</td>\n",
       "      <td>Electronic medical claims (EMCs) can be used t...</td>\n",
       "      <td>Electromagnetic compatibility,\\nDatabases,\\nPr...</td>\n",
       "    </tr>\n",
       "    <tr>\n",
       "      <th>23</th>\n",
       "      <td>Detecting Cognitive Distortions Through Machin...</td>\n",
       "      <td>Machine learning and text analytics have prove...</td>\n",
       "      <td>Distortion,\\nLogistics,\\nPsychology,\\nBlogs,\\n...</td>\n",
       "    </tr>\n",
       "    <tr>\n",
       "      <th>24</th>\n",
       "      <td>Efficient and Rapid Machine Learning Algorithm...</td>\n",
       "      <td>With the exponential growth of data and comple...</td>\n",
       "      <td>Big Data,\\nFeature extraction,\\nSupport vector...</td>\n",
       "    </tr>\n",
       "    <tr>\n",
       "      <th>25</th>\n",
       "      <td>Semisupervised Incremental Support Vector Mach...</td>\n",
       "      <td>Semisupervised scheme has emerged as a popular...</td>\n",
       "      <td>Support vector machines,\\nKernel,\\nEstimation,...</td>\n",
       "    </tr>\n",
       "    <tr>\n",
       "      <th>26</th>\n",
       "      <td>Retinal hemorrhage detection by rule-based and...</td>\n",
       "      <td>Robust detection of hemorrhages (HMs) in color...</td>\n",
       "      <td>Blood vessels,\\nBiomedical imaging,\\nHemorrhag...</td>\n",
       "    </tr>\n",
       "    <tr>\n",
       "      <th>27</th>\n",
       "      <td>Classifying osteosarcoma patients using machin...</td>\n",
       "      <td>Metabolomic data analysis presents a unique op...</td>\n",
       "      <td>Logistics,\\nRadio frequency,\\nSupport vector m...</td>\n",
       "    </tr>\n",
       "    <tr>\n",
       "      <th>28</th>\n",
       "      <td>Catching Zika Fever: Application of Crowdsourc...</td>\n",
       "      <td>In February 2016, World Health Organization de...</td>\n",
       "      <td>Twitter,\\nCrowdsourcing,\\nOrganizations,\\nPubl...</td>\n",
       "    </tr>\n",
       "    <tr>\n",
       "      <th>29</th>\n",
       "      <td>Supervised Machine Learning to Predict Follow-...</td>\n",
       "      <td>Long-term adjuvant endocrine therapy patients ...</td>\n",
       "      <td>Medical diagnostic imaging,\\nTumors,\\nElectron...</td>\n",
       "    </tr>\n",
       "    <tr>\n",
       "      <th>30</th>\n",
       "      <td>Detection of needle to nerve contact based on ...</td>\n",
       "      <td>In an ongoing project for electrical impedance...</td>\n",
       "      <td>Needles,\\nElectrodes,\\nPhase measurement,\\nImp...</td>\n",
       "    </tr>\n",
       "    <tr>\n",
       "      <th>31</th>\n",
       "      <td>Machine learning techniques for taming the com...</td>\n",
       "      <td>The continual quest to improve performance and...</td>\n",
       "      <td>Hardware,\\nComplexity theory,\\nAutomation,\\nMi...</td>\n",
       "    </tr>\n",
       "    <tr>\n",
       "      <th>32</th>\n",
       "      <td>Drowsy Driving Warning System Based on GS1 Sta...</td>\n",
       "      <td>Drowsy driving is the primary cause of motor v...</td>\n",
       "      <td>Standards,\\nMonitoring,\\nMachine learning algo...</td>\n",
       "    </tr>\n",
       "    <tr>\n",
       "      <th>33</th>\n",
       "      <td>Adaptive Cost Efficient Framework for Cloud-Ba...</td>\n",
       "      <td>Machine learning is an increasingly important ...</td>\n",
       "      <td>Cloud computing,\\nFeature extraction,\\nComputa...</td>\n",
       "    </tr>\n",
       "    <tr>\n",
       "      <th>34</th>\n",
       "      <td>Application of machine learning method in brid...</td>\n",
       "      <td>Machine learning algorithms have been a typica...</td>\n",
       "      <td>Bridges,\\nMonitoring,\\nSupport vector machines...</td>\n",
       "    </tr>\n",
       "    <tr>\n",
       "      <th>35</th>\n",
       "      <td>A Study of Machine Learning in Healthcare</td>\n",
       "      <td>In the past few years, there has been signific...</td>\n",
       "      <td>Medical services,\\nIndustries,\\nMedical diagno...</td>\n",
       "    </tr>\n",
       "    <tr>\n",
       "      <th>36</th>\n",
       "      <td>Comprehensive Predictions of Tourists' Next Vi...</td>\n",
       "      <td>Recent developments in data mining and machine...</td>\n",
       "      <td>Support vector machines,\\nVegetation,\\nPoles a...</td>\n",
       "    </tr>\n",
       "    <tr>\n",
       "      <th>37</th>\n",
       "      <td>A machine learning based method of constructin...</td>\n",
       "      <td>In recent years, using human characteristics t...</td>\n",
       "      <td>Recurrent neural networks,\\nFoot,\\nMathematica...</td>\n",
       "    </tr>\n",
       "    <tr>\n",
       "      <th>38</th>\n",
       "      <td>A Machine Learning-Based Approach to Detect We...</td>\n",
       "      <td>Design defects are symptoms of poor design and...</td>\n",
       "      <td>Web services,\\nSupport vector machines,\\nMeasu...</td>\n",
       "    </tr>\n",
       "    <tr>\n",
       "      <th>39</th>\n",
       "      <td>Improving Web Services Design Quality Using He...</td>\n",
       "      <td>Web services evolve over time to fix bugs or u...</td>\n",
       "      <td>Web services,\\nMeasurement,\\nGenetic algorithm...</td>\n",
       "    </tr>\n",
       "    <tr>\n",
       "      <th>40</th>\n",
       "      <td>Predicting Application Failure in Cloud: A Mac...</td>\n",
       "      <td>Despite employing the architectures designed f...</td>\n",
       "      <td>Cloud computing,\\nGoogle,\\nReliability,\\nCorre...</td>\n",
       "    </tr>\n",
       "    <tr>\n",
       "      <th>41</th>\n",
       "      <td>Root Cause Analysis of Network Failures Using ...</td>\n",
       "      <td>Root cause analysis includes the methods to id...</td>\n",
       "      <td>Machine learning algorithms,\\nPredictive model...</td>\n",
       "    </tr>\n",
       "    <tr>\n",
       "      <th>42</th>\n",
       "      <td>A Machine Learning Approach for Efficient Para...</td>\n",
       "      <td>Parallel computing architectures like GPUs hav...</td>\n",
       "      <td>Computational modeling,\\nData models,\\nHeurist...</td>\n",
       "    </tr>\n",
       "    <tr>\n",
       "      <th>43</th>\n",
       "      <td>Runtime Data Layout Scheduling for Machine Lea...</td>\n",
       "      <td>Machine Learning (ML) approaches are widely-us...</td>\n",
       "      <td>Support vector machines,\\nTraining,\\nPredictio...</td>\n",
       "    </tr>\n",
       "    <tr>\n",
       "      <th>44</th>\n",
       "      <td>Litho-aware Machine Learning for Hotspot Detec...</td>\n",
       "      <td>In this paper, we propose a novel methodology ...</td>\n",
       "      <td>Support vector machines,\\nPattern matching,\\nL...</td>\n",
       "    </tr>\n",
       "    <tr>\n",
       "      <th>45</th>\n",
       "      <td>Evaluate different machine learning techniques...</td>\n",
       "      <td>In this paper, we propose 3 different machine ...</td>\n",
       "      <td>Sleep,\\nElectroencephalography,\\nSupport vecto...</td>\n",
       "    </tr>\n",
       "    <tr>\n",
       "      <th>46</th>\n",
       "      <td>Facilitating Workload Aware Storage Platform b...</td>\n",
       "      <td>In this paper, we present our proof-of-concept...</td>\n",
       "      <td>Engines,\\nContainers,\\nVirtualization,\\nServer...</td>\n",
       "    </tr>\n",
       "    <tr>\n",
       "      <th>47</th>\n",
       "      <td>Signal Processing and Machine Learning for Men...</td>\n",
       "      <td>Formally, the problem that we present is that ...</td>\n",
       "      <td>Signal processing,\\nSpeech processing,\\nPhysio...</td>\n",
       "    </tr>\n",
       "    <tr>\n",
       "      <th>48</th>\n",
       "      <td>Current Mirror Array: A Novel Circuit Topology...</td>\n",
       "      <td>Edge analytics support industrial Internet of ...</td>\n",
       "      <td>Mirrors,\\nReliability,\\nDelays,\\nCloud computi...</td>\n",
       "    </tr>\n",
       "    <tr>\n",
       "      <th>49</th>\n",
       "      <td>Experimental comparison of machine learning-ba...</td>\n",
       "      <td>We propose PathML, an available bandwidth (i.e...</td>\n",
       "      <td>Estimation,\\nBandwidth,\\nLong Term Evolution,\\...</td>\n",
       "    </tr>\n",
       "    <tr>\n",
       "      <th>50</th>\n",
       "      <td>Predictive analytics for chronic kidney diseas...</td>\n",
       "      <td>Predictive analytics for healthcare using mach...</td>\n",
       "      <td>Kidney,\\nDiseases,\\nSupport vector machines,\\n...</td>\n",
       "    </tr>\n",
       "    <tr>\n",
       "      <th>51</th>\n",
       "      <td>A comprehensive investigation and comparison o...</td>\n",
       "      <td>This paper aims to investigate and compare the...</td>\n",
       "      <td>Support vector machines,\\nHeart,\\nNiobium,\\nDi...</td>\n",
       "    </tr>\n",
       "    <tr>\n",
       "      <th>52</th>\n",
       "      <td>Combining a machine learning and optimization ...</td>\n",
       "      <td>Monitoring the physical layer is key to detect...</td>\n",
       "      <td>Degradation,\\nQuality of service,\\nBit error r...</td>\n",
       "    </tr>\n",
       "  </tbody>\n",
       "</table>\n",
       "</div>"
      ],
      "text/plain": [
       "                                                Title  \\\n",
       "0   Data Mining and Analytics in the Process Indus...   \n",
       "1   Automatically Classifying Functional and Non-f...   \n",
       "2   MACORD: Online Adaptive Machine Learning Frame...   \n",
       "3   TGE: Machine Learning Based Task Graph Embeddi...   \n",
       "4   Amazon?s Echo Look: Harnessing the Power of Ma...   \n",
       "5   The Trust Value Calculating for Social Network...   \n",
       "6   Japanese Fingerspelling Recognition Based on C...   \n",
       "7   A fully configurable and scalable neural copro...   \n",
       "8   Category Classification of Text Data with Mach...   \n",
       "9   Understanding the feasibility of machine learn...   \n",
       "10  Machine learning approach for optimal determin...   \n",
       "11  Audio Classification Method Based on Machine L...   \n",
       "12  Matheuristic with machine-learning-based predi...   \n",
       "13  Machine Learning Techniques for Analyzing Trai...   \n",
       "14  A Comparison of Distributed Machine Learning P...   \n",
       "15  Machine-Learning Based Threat-Aware System in ...   \n",
       "16  Machine-Learning Classifiers for Security in C...   \n",
       "17  Machine learning based prediction of thermal c...   \n",
       "18  Mesh Convolutional Restricted Boltzmann Machin...   \n",
       "19  GPU-Accelerated Parallel Hierarchical Extreme ...   \n",
       "20  A Machine Learning Algorithm for Identifying A...   \n",
       "21  A machine learning approach to characterizing ...   \n",
       "22  Comparing deep neural network and other machin...   \n",
       "23  Detecting Cognitive Distortions Through Machin...   \n",
       "24  Efficient and Rapid Machine Learning Algorithm...   \n",
       "25  Semisupervised Incremental Support Vector Mach...   \n",
       "26  Retinal hemorrhage detection by rule-based and...   \n",
       "27  Classifying osteosarcoma patients using machin...   \n",
       "28  Catching Zika Fever: Application of Crowdsourc...   \n",
       "29  Supervised Machine Learning to Predict Follow-...   \n",
       "30  Detection of needle to nerve contact based on ...   \n",
       "31  Machine learning techniques for taming the com...   \n",
       "32  Drowsy Driving Warning System Based on GS1 Sta...   \n",
       "33  Adaptive Cost Efficient Framework for Cloud-Ba...   \n",
       "34  Application of machine learning method in brid...   \n",
       "35          A Study of Machine Learning in Healthcare   \n",
       "36  Comprehensive Predictions of Tourists' Next Vi...   \n",
       "37  A machine learning based method of constructin...   \n",
       "38  A Machine Learning-Based Approach to Detect We...   \n",
       "39  Improving Web Services Design Quality Using He...   \n",
       "40  Predicting Application Failure in Cloud: A Mac...   \n",
       "41  Root Cause Analysis of Network Failures Using ...   \n",
       "42  A Machine Learning Approach for Efficient Para...   \n",
       "43  Runtime Data Layout Scheduling for Machine Lea...   \n",
       "44  Litho-aware Machine Learning for Hotspot Detec...   \n",
       "45  Evaluate different machine learning techniques...   \n",
       "46  Facilitating Workload Aware Storage Platform b...   \n",
       "47  Signal Processing and Machine Learning for Men...   \n",
       "48  Current Mirror Array: A Novel Circuit Topology...   \n",
       "49  Experimental comparison of machine learning-ba...   \n",
       "50  Predictive analytics for chronic kidney diseas...   \n",
       "51  A comprehensive investigation and comparison o...   \n",
       "52  Combining a machine learning and optimization ...   \n",
       "\n",
       "                                             Abstract  \\\n",
       "0   Data mining and analytics have played an impor...   \n",
       "1   In this paper, we take up the second RE17 data...   \n",
       "2   Future high-performance computing (HPC) system...   \n",
       "3   Task mapping is an important problem in parall...   \n",
       "4   Here we are in 2017, but, at times, it feels a...   \n",
       "5   In this paper, a social network model is built...   \n",
       "6   Sign language is a very important communicatio...   \n",
       "7   This paper presents a fully configurable and p...   \n",
       "8   The beginner counselors have more likely to co...   \n",
       "9   The key enabling technology in dynamic spectru...   \n",
       "10  Wave parameter relationships have long been de...   \n",
       "11  Audio classification has very large theoretica...   \n",
       "12  In general, humans follow a routine with highl...   \n",
       "13  Training time is a costly, scarce resource acr...   \n",
       "14  The proliferation of big data and big computin...   \n",
       "15  Software-Defined Networking (SDN) is an emergi...   \n",
       "16  Medical devices equipped with wireless connect...   \n",
       "17  Majority of energy consumption in Singapore bu...   \n",
       "18  Discriminative features of 3-D meshes are sign...   \n",
       "19  The extreme learning machine (ELM) has become ...   \n",
       "20  The current work aims to identify patients wit...   \n",
       "21  Asynchronous distributed microelectrode theta ...   \n",
       "22  Electronic medical claims (EMCs) can be used t...   \n",
       "23  Machine learning and text analytics have prove...   \n",
       "24  With the exponential growth of data and comple...   \n",
       "25  Semisupervised scheme has emerged as a popular...   \n",
       "26  Robust detection of hemorrhages (HMs) in color...   \n",
       "27  Metabolomic data analysis presents a unique op...   \n",
       "28  In February 2016, World Health Organization de...   \n",
       "29  Long-term adjuvant endocrine therapy patients ...   \n",
       "30  In an ongoing project for electrical impedance...   \n",
       "31  The continual quest to improve performance and...   \n",
       "32  Drowsy driving is the primary cause of motor v...   \n",
       "33  Machine learning is an increasingly important ...   \n",
       "34  Machine learning algorithms have been a typica...   \n",
       "35  In the past few years, there has been signific...   \n",
       "36  Recent developments in data mining and machine...   \n",
       "37  In recent years, using human characteristics t...   \n",
       "38  Design defects are symptoms of poor design and...   \n",
       "39  Web services evolve over time to fix bugs or u...   \n",
       "40  Despite employing the architectures designed f...   \n",
       "41  Root cause analysis includes the methods to id...   \n",
       "42  Parallel computing architectures like GPUs hav...   \n",
       "43  Machine Learning (ML) approaches are widely-us...   \n",
       "44  In this paper, we propose a novel methodology ...   \n",
       "45  In this paper, we propose 3 different machine ...   \n",
       "46  In this paper, we present our proof-of-concept...   \n",
       "47  Formally, the problem that we present is that ...   \n",
       "48  Edge analytics support industrial Internet of ...   \n",
       "49  We propose PathML, an available bandwidth (i.e...   \n",
       "50  Predictive analytics for healthcare using mach...   \n",
       "51  This paper aims to investigate and compare the...   \n",
       "52  Monitoring the physical layer is key to detect...   \n",
       "\n",
       "                                             Keywords  \n",
       "0   Data mining,\\nIndustries,\\nData models,\\nMachi...  \n",
       "1   Training,\\nUsability,\\nSecurity,\\nFeature extr...  \n",
       "2   Training,\\nAlgorithm design and analysis,\\nHeu...  \n",
       "3   Topology,\\nBenchmark testing,\\nNetwork topolog...  \n",
       "4   Algorithm design and analysis,\\nConsumer elect...  \n",
       "5   Training,\\nSocial network services,\\nLogistics...  \n",
       "6   Gesture recognition,\\nAssistive technology,\\nS...  \n",
       "7   Coprocessors,\\nComputer architecture,\\nIP netw...  \n",
       "8   Employee welfare,\\nSupport vector machines,\\nD...  \n",
       "9   Games,\\nSwitches,\\nMachine learning algorithms...  \n",
       "10  learning (artificial intelligence),\\nocean wav...  \n",
       "11           Transportation,\\nBig Data,\\nSmart cities  \n",
       "12  Routing,\\nMobile communication,\\nPlanning,\\nMo...  \n",
       "13  Games,\\nTraining,\\nTools,\\nHidden Markov model...  \n",
       "14  Sparks,\\nComputational modeling,\\nServers,\\nTr...  \n",
       "15  Intrusion detection,\\nData models,\\nPredictive...  \n",
       "16  Security,\\nMedical diagnostic imaging,\\nLogic ...  \n",
       "17  Buildings,\\nAdaptation models,\\nMeteorology,\\n...  \n",
       "18  Shape,\\nMachine learning,\\nSolid modeling,\\nFe...  \n",
       "19  Approximation algorithms,\\nBig Data,\\nAccelera...  \n",
       "20  Machine learning algorithms,\\nPrediction algor...  \n",
       "21  Animals,\\nElectrodes,\\nData models,\\nHippocamp...  \n",
       "22  Electromagnetic compatibility,\\nDatabases,\\nPr...  \n",
       "23  Distortion,\\nLogistics,\\nPsychology,\\nBlogs,\\n...  \n",
       "24  Big Data,\\nFeature extraction,\\nSupport vector...  \n",
       "25  Support vector machines,\\nKernel,\\nEstimation,...  \n",
       "26  Blood vessels,\\nBiomedical imaging,\\nHemorrhag...  \n",
       "27  Logistics,\\nRadio frequency,\\nSupport vector m...  \n",
       "28  Twitter,\\nCrowdsourcing,\\nOrganizations,\\nPubl...  \n",
       "29  Medical diagnostic imaging,\\nTumors,\\nElectron...  \n",
       "30  Needles,\\nElectrodes,\\nPhase measurement,\\nImp...  \n",
       "31  Hardware,\\nComplexity theory,\\nAutomation,\\nMi...  \n",
       "32  Standards,\\nMonitoring,\\nMachine learning algo...  \n",
       "33  Cloud computing,\\nFeature extraction,\\nComputa...  \n",
       "34  Bridges,\\nMonitoring,\\nSupport vector machines...  \n",
       "35  Medical services,\\nIndustries,\\nMedical diagno...  \n",
       "36  Support vector machines,\\nVegetation,\\nPoles a...  \n",
       "37  Recurrent neural networks,\\nFoot,\\nMathematica...  \n",
       "38  Web services,\\nSupport vector machines,\\nMeasu...  \n",
       "39  Web services,\\nMeasurement,\\nGenetic algorithm...  \n",
       "40  Cloud computing,\\nGoogle,\\nReliability,\\nCorre...  \n",
       "41  Machine learning algorithms,\\nPredictive model...  \n",
       "42  Computational modeling,\\nData models,\\nHeurist...  \n",
       "43  Support vector machines,\\nTraining,\\nPredictio...  \n",
       "44  Support vector machines,\\nPattern matching,\\nL...  \n",
       "45  Sleep,\\nElectroencephalography,\\nSupport vecto...  \n",
       "46  Engines,\\nContainers,\\nVirtualization,\\nServer...  \n",
       "47  Signal processing,\\nSpeech processing,\\nPhysio...  \n",
       "48  Mirrors,\\nReliability,\\nDelays,\\nCloud computi...  \n",
       "49  Estimation,\\nBandwidth,\\nLong Term Evolution,\\...  \n",
       "50  Kidney,\\nDiseases,\\nSupport vector machines,\\n...  \n",
       "51  Support vector machines,\\nHeart,\\nNiobium,\\nDi...  \n",
       "52  Degradation,\\nQuality of service,\\nBit error r...  "
      ]
     },
     "execution_count": 2,
     "metadata": {},
     "output_type": "execute_result"
    }
   ],
   "source": [
    "ieee_data = pd.read_csv(\"Data/ieee_data.csv\")\n",
    "ieee_data"
   ]
  },
  {
   "cell_type": "markdown",
   "metadata": {},
   "source": [
    "## Data Preprocessing"
   ]
  },
  {
   "cell_type": "markdown",
   "metadata": {},
   "source": [
    "### Combine all text data into one column"
   ]
  },
  {
   "cell_type": "code",
   "execution_count": 3,
   "metadata": {},
   "outputs": [
    {
     "data": {
      "text/plain": [
       "0     Data Mining and Analytics in the Process Indus...\n",
       "1     Automatically Classifying Functional and Non-f...\n",
       "2     MACORD: Online Adaptive Machine Learning Frame...\n",
       "3     TGE: Machine Learning Based Task Graph Embeddi...\n",
       "4     Amazon?s Echo Look: Harnessing the Power of Ma...\n",
       "5     The Trust Value Calculating for Social Network...\n",
       "6     Japanese Fingerspelling Recognition Based on C...\n",
       "7     A fully configurable and scalable neural copro...\n",
       "8     Category Classification of Text Data with Mach...\n",
       "9     Understanding the feasibility of machine learn...\n",
       "10    Machine learning approach for optimal determin...\n",
       "11    Audio Classification Method Based on Machine L...\n",
       "12    Matheuristic with machine-learning-based predi...\n",
       "13    Machine Learning Techniques for Analyzing Trai...\n",
       "14    A Comparison of Distributed Machine Learning P...\n",
       "15    Machine-Learning Based Threat-Aware System in ...\n",
       "16    Machine-Learning Classifiers for Security in C...\n",
       "17    Machine learning based prediction of thermal c...\n",
       "18    Mesh Convolutional Restricted Boltzmann Machin...\n",
       "19    GPU-Accelerated Parallel Hierarchical Extreme ...\n",
       "20    A Machine Learning Algorithm for Identifying A...\n",
       "21    A machine learning approach to characterizing ...\n",
       "22    Comparing deep neural network and other machin...\n",
       "23    Detecting Cognitive Distortions Through Machin...\n",
       "24    Efficient and Rapid Machine Learning Algorithm...\n",
       "25    Semisupervised Incremental Support Vector Mach...\n",
       "26    Retinal hemorrhage detection by rule-based and...\n",
       "27    Classifying osteosarcoma patients using machin...\n",
       "28    Catching Zika Fever: Application of Crowdsourc...\n",
       "29    Supervised Machine Learning to Predict Follow-...\n",
       "30    Detection of needle to nerve contact based on ...\n",
       "31    Machine learning techniques for taming the com...\n",
       "32    Drowsy Driving Warning System Based on GS1 Sta...\n",
       "33    Adaptive Cost Efficient Framework for Cloud-Ba...\n",
       "34    Application of machine learning method in brid...\n",
       "35    A Study of Machine Learning in HealthcareIn th...\n",
       "36    Comprehensive Predictions of Tourists' Next Vi...\n",
       "37    A machine learning based method of constructin...\n",
       "38    A Machine Learning-Based Approach to Detect We...\n",
       "39    Improving Web Services Design Quality Using He...\n",
       "40    Predicting Application Failure in Cloud: A Mac...\n",
       "41    Root Cause Analysis of Network Failures Using ...\n",
       "42    A Machine Learning Approach for Efficient Para...\n",
       "43    Runtime Data Layout Scheduling for Machine Lea...\n",
       "44    Litho-aware Machine Learning for Hotspot Detec...\n",
       "45    Evaluate different machine learning techniques...\n",
       "46    Facilitating Workload Aware Storage Platform b...\n",
       "47    Signal Processing and Machine Learning for Men...\n",
       "48    Current Mirror Array: A Novel Circuit Topology...\n",
       "49    Experimental comparison of machine learning-ba...\n",
       "50    Predictive analytics for chronic kidney diseas...\n",
       "51    A comprehensive investigation and comparison o...\n",
       "52    Combining a machine learning and optimization ...\n",
       "Name: Combined_text, dtype: object"
      ]
     },
     "execution_count": 3,
     "metadata": {},
     "output_type": "execute_result"
    }
   ],
   "source": [
    "ieee_data[\"Combined_text\"] = ieee_data[\"Title\"] + ieee_data[\"Abstract\"] + ieee_data[\"Keywords\"]\n",
    "ieee_data[\"Combined_text\"]"
   ]
  },
  {
   "cell_type": "markdown",
   "metadata": {},
   "source": [
    "### Tokenization and stemming"
   ]
  },
  {
   "cell_type": "code",
   "execution_count": 4,
   "metadata": {
    "collapsed": true
   },
   "outputs": [],
   "source": [
    "from nltk import word_tokenize\n",
    "from nltk.stem.porter import PorterStemmer\n",
    "import re\n",
    "import string\n",
    "#Tokenize the text\n",
    "def tokenize(text):\n",
    "\n",
    "    #Create Stemmer\n",
    "    stemmer = PorterStemmer()\n",
    "\n",
    "    #Remove irrelevant character\n",
    "    text = re.sub(r\"[^a-zA-Z]\", ' ', text)\n",
    "\n",
    "    #Tokenization\n",
    "    tokens = word_tokenize(text)\n",
    "    tokens = [i for i in tokens if i not in string.punctuation]\n",
    "\n",
    "    #Stemming\n",
    "    stems = stem_tokens(tokens, stemmer)\n",
    "    return stems\n",
    "\n",
    "#Stemming Function\n",
    "def stem_tokens(t,s):\n",
    "    stemmed=[]\n",
    "    for item in t:\n",
    "        stemmed.append(s.stem(item))\n",
    "    return stemmed"
   ]
  },
  {
   "cell_type": "markdown",
   "metadata": {},
   "source": [
    "### Tfidf Vectorizer and Count Vectorizer"
   ]
  },
  {
   "cell_type": "code",
   "execution_count": 5,
   "metadata": {
    "collapsed": true
   },
   "outputs": [],
   "source": [
    "tfidf_vectorizer = TfidfVectorizer(max_df=0.95, stop_words='english', tokenizer=tokenize)\n",
    "tf_vectorizer = CountVectorizer(max_df=0.95, stop_words='english', tokenizer=tokenize)"
   ]
  },
  {
   "cell_type": "markdown",
   "metadata": {},
   "source": [
    "### Convert text to tfidf and tf format"
   ]
  },
  {
   "cell_type": "code",
   "execution_count": 6,
   "metadata": {},
   "outputs": [
    {
     "name": "stdout",
     "output_type": "stream",
     "text": [
      "(53, 1552)\n"
     ]
    }
   ],
   "source": [
    "ieee_tfidf = tfidf_vectorizer.fit_transform(ieee_data['Combined_text'])\n",
    "print ieee_tfidf.shape"
   ]
  },
  {
   "cell_type": "code",
   "execution_count": 7,
   "metadata": {},
   "outputs": [
    {
     "name": "stdout",
     "output_type": "stream",
     "text": [
      "(53, 1552)\n"
     ]
    },
    {
     "data": {
      "text/plain": [
       "array([1, 3, 1, ..., 1, 1, 1])"
      ]
     },
     "execution_count": 7,
     "metadata": {},
     "output_type": "execute_result"
    }
   ],
   "source": [
    "ieee_tf = tf_vectorizer.fit_transform(ieee_data['Combined_text'])\n",
    "print ieee_tf.shape\n",
    "ieee_tf.data"
   ]
  },
  {
   "cell_type": "markdown",
   "metadata": {},
   "source": [
    "## Model Training"
   ]
  },
  {
   "cell_type": "markdown",
   "metadata": {},
   "source": [
    "### Fit to NMF model (Frobenius norm)"
   ]
  },
  {
   "cell_type": "code",
   "execution_count": 21,
   "metadata": {
    "collapsed": true
   },
   "outputs": [],
   "source": [
    "nmf = NMF(n_components=10, alpha = 0.1, l1_ratio=0.5).fit(ieee_tfidf)"
   ]
  },
  {
   "cell_type": "markdown",
   "metadata": {},
   "source": [
    "### check NMF model result"
   ]
  },
  {
   "cell_type": "code",
   "execution_count": 22,
   "metadata": {
    "collapsed": true
   },
   "outputs": [],
   "source": [
    "def print_top_words(model, feature_names, n_top_words):\n",
    "    for topic_idx, topic in enumerate(model.components_):\n",
    "        message = \"Topic #%d: \" % topic_idx\n",
    "        message += \" \".join([feature_names[i]\n",
    "                             for i in topic.argsort()[:-n_top_words - 1:-1]])\n",
    "        print(message)\n",
    "    "
   ]
  },
  {
   "cell_type": "code",
   "execution_count": 23,
   "metadata": {},
   "outputs": [
    {
     "name": "stdout",
     "output_type": "stream",
     "text": [
      "[u'abbrevi', u'abil', u'abl', u'abov', u'absolut', u'abstract', u'acceler', u'accept', u'access', u'accessth', u'accid', u'accompani', u'accomplish', u'accord', u'account', u'accru', u'accumul', u'accur', u'accuraci', u'achiev', u'act', u'action', u'activ', u'actual', u'ad', u'adapt', u'add', u'addit', u'address', u'adjuv', u'admet', u'administr', u'adopt', u'adult', u'advanc', u'advantag', u'advers', u'affect', u'aforement', u'age', u'aggreg', u'aim', u'air', u'alarm', u'alexnet', u'algorithm', u'alloc', u'allow', u'altern', u'amazon', u'ambigu', u'amen', u'analog', u'analysi', u'analyt', u'analyticsmachin', u'analyz', u'ani', u'anim', u'ann', u'anneal', u'annual', u'anomali', u'anorexia', u'anticip', u'anxieti', u'anybodi', u'api', u'appar', u'appear', u'appendix', u'appli', u'applic', u'applicationsthi', u'appoint', u'approach', u'approachdespit', u'approachesmetabolom', u'approachrobust', u'appropri', u'approxim', u'arbitrari', u'architectur', u'area', u'aris', u'array', u'art', u'artifici', u'aspect', u'assess', u'assign', u'assist', u'associ', u'assum', u'asynchron', u'atmospher', u'atop', u'attack', u'attain', u'attent', u'attribut', u'auc', u'audio', u'auditori', u'authent', u'auto', u'autom', u'automat', u'automobil', u'automot', u'autonom', u'auxiliari', u'avail', u'averag', u'aviat', u'aw', u'awar', u'backend', u'bag', u'balanc', u'band', u'bandwidth', u'base', u'basi', u'basic', u'batch', u'bay', u'beam', u'bear', u'becaus', u'becom', u'befor', u'begin', u'beginn', u'behavior', u'belief', u'benchmark', u'benefici', u'benefit', u'benign', u'ber', u'besid', u'best', u'better', u'big', u'bioimped', u'biolog', u'biomark', u'biomed', u'birth', u'bit', u'block', u'blog', u'blood', u'bodi', u'bodyin', u'boltzmann', u'bone', u'boost', u'bottleneck', u'branch', u'brazil', u'break', u'breast', u'bretschneid', u'bridg', u'broadband', u'buffer', u'bug', u'build', u'built', u'buoy', u'burden', u'bursti', u'bypass', u'c', u'cach', u'calcul', u'campaign', u'cancer', u'capabl', u'capac', u'captur', u'car', u'care', u'carrier', u'case', u'casual', u'catch', u'categori', u'caught', u'caus', u'cdr', u'center', u'central', u'centroid', u'cepstral', u'certain', u'challeng', u'chang', u'channel', u'charact', u'character', u'characterist', u'charg', u'check', u'chip', u'choic', u'choos', u'chronic', u'cifar', u'circuit', u'citi', u'claim', u'clarif', u'class', u'classif', u'classifi', u'classroom', u'clearli', u'cleveland', u'client', u'clinic', u'clip', u'clock', u'close', u'cloud', u'cluster', u'cma', u'coast', u'coastal', u'code', u'coeffici', u'cognit', u'cohort', u'collabor', u'collect', u'color', u'combin', u'come', u'comfort', u'commerc', u'commerci', u'commit', u'common', u'commun', u'commut', u'compani', u'companion', u'compar', u'comparison', u'compat', u'competit', u'complex', u'complic', u'compon', u'comprehend', u'comprehens', u'comput', u'computa', u'concept', u'concern', u'concurr', u'condit', u'conduct', u'configur', u'confirm', u'conjunct', u'connect', u'conserv', u'consid', u'consider', u'consist', u'constant', u'constraint', u'construct', u'consum', u'consumpt', u'contact', u'contain', u'context', u'contextu', u'continu', u'contrast', u'contribut', u'control', u'convent', u'converg', u'convers', u'convert', u'convolut', u'convolv', u'cool', u'cooper', u'coordin', u'coprocessor', u'core', u'corpor', u'correct', u'correctli', u'correl', u'correspond', u'corrupt', u'cost', u'costli', u'counsel', u'counselingth', u'counselor', u'count', u'countri', u'cours', u'cover', u'cpu', u'creat', u'criteria', u'critic', u'cross', u'crowdsourc', u'crucial', u'cryptographi', u'ct', u'current', u'curv', u'custom', u'cybernet', u'd', u'daili', u'danger', u'data', u'databas', u'databaseelectron', u'dataflow', u'dataset', u'datasetmachin', u'datath', u'daunt', u'ddr', u'deal', u'decad', u'decid', u'decis', u'declar', u'decoupl', u'decreas', u'deep', u'deeper', u'defect', u'defectsdesign', u'defend', u'defin', u'degrad', u'degre', u'delay', u'deliv', u'demand', u'demograph', u'demonstr', u'denois', u'dens', u'depend', u'deploy', u'depress', u'deriv', u'dermat', u'describ', u'descriptor', u'design', u'designth', u'desir', u'detect', u'detectionfutur', u'detectionin', u'detector', u'determin', u'develop', u'deviat', u'devic', u'devicesmed', u'devis', u'devot', u'diabet', u'diagnost', u'dictionari', u'didn', u'differ', u'differenti', u'difficult', u'difficultli', u'dimension', u'direct', u'directli', u'discomfort', u'discov', u'discoveri', u'discrimin', u'discuss', u'diseas', u'diseasethi', u'disengag', u'disord', u'display', u'disrupt', u'distinct', u'distinguish', u'distort', u'distribut', u'diverg', u'dnn', u'doctor', u'dollar', u'domain', u'doubl', u'drive', u'driven', u'drowsi', u'drug', u'dst', u'dt', u'durat', u'dure', u'dynam', u'e', u'earli', u'earlier', u'eas', u'easili', u'echo', u'edg', u'eeg', u'eegin', u'effect', u'effici', u'effort', u'ehr', u'elast', u'electr', u'electrod', u'electroencephalographi', u'electromagnet', u'electron', u'element', u'elev', u'elimin', u'elm', u'embed', u'emc', u'emerg', u'empir', u'employ', u'employe', u'enabl', u'encount', u'end', u'endocrin', u'endow', u'energi', u'engin', u'enhanc', u'enjoy', u'ensembl', u'ensur', u'entir', u'environ', u'environment', u'epidem', u'epilepsi', u'epoch', u'equatori', u'equip', u'equival', u'era', u'error', u'estim', u'estimationsemisupervis', u'ethic', u'evalu', u'event', u'evid', u'evolut', u'evolv', u'exact', u'exampl', u'excess', u'exchang', u'execut', u'exercis', u'exhibit', u'exist', u'exoskeleton', u'expens', u'experi', u'experiment', u'expert', u'expertis', u'exploit', u'explor', u'exponenti', u'express', u'extend', u'extens', u'extern', u'extra', u'extract', u'extraterrestri', u'extrem', u'f', u'face', u'facil', u'facilit', u'fact', u'factor', u'fail', u'failur', u'fals', u'fanger', u'fashion', u'fast', u'faster', u'fastest', u'fault', u'favor', u'feasibl', u'featur', u'februari', u'fec', u'feedforward', u'feel', u'ferment', u'fever', u'field', u'figur', u'filter', u'final', u'fine', u'finger', u'fingerspel', u'finish', u'firstli', u'fit', u'fix', u'flexibl', u'fli', u'flink', u'flow', u'fluctuat', u'focu', u'focus', u'fold', u'follow', u'followup', u'foot', u'forc', u'forecast', u'forest', u'form', u'formal', u'format', u'formul', u'formula', u'forth', u'forward', u'foundat', u'fr', u'frame', u'framework', u'free', u'frequenc', u'fulli', u'function', u'fundu', u'furthermor', u'fusion', u'futur', u'g', u'ga', u'gain', u'gait', u'game', u'gamingtrain', u'gate', u'gaussian', u'gbdt', u'gender', u'gener', u'genet', u'genom', u'geometr', u'geometri', u'gestur', u'gflop', u'given', u'global', u'goal', u'gold', u'good', u'googl', u'gph', u'gpu', u'gpusparallel', u'grade', u'gradient', u'graph', u'graphic', u'great', u'greatli', u'grow', u'growth', u'gs', u'guidanc', u'gwa', u'h', u'ha', u'hack', u'hand', u'handcraft', u'handicap', u'handl', u'har', u'hardwar', u'harm', u'health', u'healthcar', u'healthcarein', u'healthi', u'hear', u'heart', u'help', u'hemorrhag', u'henc', u'heterogen', u'heurist', u'hidden', u'hierarch', u'high', u'higher', u'highest', u'highli', u'highlight', u'hip', u'hippocamp', u'hippocampu', u'hm', u'hmm', u'home', u'hot', u'hotspot', u'hour', u'hourli', u'howev', u'hpc', u'hsi', u'human', u'humid', u'hyperspectr', u'hypothesi', u'ibm', u'idea', u'identif', u'identifi', u'ignor', u'illustr', u'imag', u'imbalanc', u'immers', u'impact', u'impair', u'imped', u'implement', u'impli', u'import', u'importantli', u'impress', u'improv', u'inaccur', u'includ', u'inclus', u'incom', u'incorpor', u'increas', u'increasingli', u'increment', u'incur', u'inde', u'independ', u'index', u'indic', u'individu', u'indoor', u'induc', u'industri', u'inerti', u'inevit', u'infer', u'influenc', u'inform', u'initi', u'input', u'insight', u'instal', u'instanc', u'instead', u'instruct', u'integ', u'integr', u'intellig', u'intens', u'inter', u'interconnect', u'interfac', u'interfer', u'intern', u'internet', u'interpol', u'interpret', u'interv', u'intervent', u'interview', u'intoler', u'intra', u'intraneur', u'introduc', u'intrus', u'invas', u'investig', u'involv', u'ip', u'ireland', u'irish', u'irregular', u'isol', u'issu', u'item', u'iter', u'japan', u'japanes', u'java', u'job', u'joint', u'jonswap', u'just', u'k', u'kernel', u'key', u'keyston', u'kidney', u'kill', u'kind', u'kinect', u'knn', u'knowledg', u'known', u'label', u'lack', u'languag', u'larg', u'lasso', u'latent', u'latest', u'lay', u'layer', u'layout', u'lda', u'lead', u'leap', u'learner', u'learningaudio', u'learningdata', u'learningdrowsi', u'learningedg', u'learningin', u'learningmachin', u'learningsign', u'learningweb', u'leav', u'lectur', u'leg', u'lesser', u'lesson', u'level', u'leverag', u'lexic', u'lfp', u'librari', u'licens', u'life', u'lifetim', u'light', u'lightpath', u'like', u'limit', u'line', u'linear', u'litho', u'lithographi', u'littl', u'live', u'liwc', u'lobe', u'local', u'locat', u'locomot', u'log', u'logic', u'logist', u'long', u'look', u'loss', u'lot', u'low', u'lower', u'lr', u'lspc', u'lstm', u'lte', u'lunch', u'm', u'macord', u'magnitud', u'main', u'mainfram', u'major', u'make', u'malici', u'malign', u'manag', u'mani', u'manual', u'manufactur', u'map', u'mappingtask', u'marin', u'market', u'markov', u'mask', u'mass', u'match', u'mathemat', u'matheurist', u'matlab', u'matric', u'matrix', u'maxim', u'mb', u'mbp', u'mcdbn', u'mcrbm', u'mean', u'meaning', u'meanwhil', u'measur', u'mechan', u'media', u'median', u'medic', u'meet', u'mel', u'memori', u'mental', u'mention', u'mesh', u'meshesdiscrimin', u'mesial', u'meta', u'metabolom', u'metastasectomi', u'meteorolog', u'method', u'methodolog', u'methodsin', u'methodsrec', u'metric', u'metro', u'microarchitectur', u'microbenchmark', u'microelectrod', u'microprob', u'microsoft', u'middlewar', u'militari', u'million', u'minim', u'minimum', u'minut', u'mirror', u'misinform', u'miss', u'missil', u'mix', u'ml', u'mlp', u'mnist', u'mobil', u'model', u'moder', u'modern', u'modifi', u'modul', u'modular', u'monitor', u'monitoringmachin', u'moreov', u'motion', u'motor', u'movement', u'multilay', u'multimod', u'multipl', u'multitud', u'muscl', u'mxnet', u'na', u'nai', u'nativ', u'natur', u'navig', u'nb', u'near', u'nearest', u'need', u'needl', u'neg', u'neighbor', u'neighborhood', u'nerv', u'net', u'network', u'networksin', u'networkssoftwar', u'networksw', u'neural', u'neuralintraneur', u'neuralnetwork', u'new', u'newli', u'nfr', u'night', u'niobium', u'nlp', u'nn', u'node', u'non', u'nonrigid', u'normal', u'north', u'note', u'notic', u'novel', u'number', u'numer', u'nvidia', u'object', u'observ', u'obtain', u'occup', u'occur', u'occurr', u'ocean', u'offer', u'offlin', u'olymp', u'onc', u'oncologist', u'ongo', u'onli', u'onlin', u'oo', u'opc', u'open', u'oper', u'opportun', u'optic', u'optim', u'option', u'oracl', u'order', u'ordinarili', u'organ', u'orient', u'osteosarcoma', u'otherwis', u'outag', u'outbreak', u'outcom', u'outdoor', u'outlin', u'outperform', u'output', u'outsid', u'outstand', u'overal', u'overhead', u'overlook', u'overview', u'p', u'paper', u'paradigm', u'parallel', u'paramet', u'partial', u'particl', u'particular', u'particularli', u'partit', u'partner', u'past', u'path', u'pathml', u'patient', u'patientslong', u'pattern', u'pay', u'peak', u'penicillin', u'peopl', u'perceptron', u'perfect', u'perfectli', u'perform', u'person', u'perspect', u'phase', u'phenotyp', u'phone', u'physic', u'physiolog', u'pi', u'pictur', u'pipelin', u'place', u'plan', u'plane', u'platform', u'platformsth', u'play', u'player', u'pml', u'pmv', u'poc', u'point', u'pole', u'polysomnogram', u'poor', u'popul', u'popular', u'port', u'pose', u'posit', u'possibl', u'post', u'postsilicon', u'potenti', u'power', u'ppv', u'practic', u'pragmat', u'pre', u'precis', u'precursor', u'predict', u'predictor', u'preliminari', u'preprocess', u'presenc', u'present', u'preserv', u'presilicon', u'prevent', u'previou', u'previous', u'price', u'primari', u'primit', u'prior', u'priorit', u'privaci', u'probabl', u'problem', u'procedur', u'process', u'processor', u'product', u'profession', u'profil', u'program', u'programm', u'progress', u'project', u'prolifer', u'prompt', u'promptli', u'proof', u'properli', u'properti', u'propos', u'protect', u'proteom', u'protocol', u'prototyp', u'proven', u'provid', u'provis', u'proxim', u'psycholog', u'public', u'publicli', u'puf', u'purpos', u'push', u'qosmonitor', u'qualiti', u'quantifi', u'quantit', u'quantiti', u'quest', u'question', u'quickli', u'r', u'radial', u'radic', u'radio', u'ram', u'random', u'rang', u'rapid', u'raspberri', u'rat', u'rate', u'raw', u'rbf', u'reach', u'react', u'reaction', u'readabl', u'readili', u'readout', u'real', u'realiti', u'realiz', u'reason', u'recal', u'receiv', u'recent', u'recogn', u'recognit', u'recommend', u'reconfigur', u'record', u'recordsth', u'recreat', u'recurr', u'reduc', u'reduct', u'refactor', u'refer', u'reflect', u'regard', u'region', u'registri', u'regress', u'regular', u'rel', u'relat', u'relationship', u'relationshipswav', u'relev', u'reli', u'reliabl', u'rem', u'remain', u'remedi', u'remot', u'repres', u'represent', u'reput', u'request', u'requir', u'requisit', u'research', u'resili', u'resist', u'resolut', u'resolv', u'resourc', u'respect', u'respond', u'respons', u'restrict', u'result', u'retin', u'retina', u'retinopathi', u'retriev', u'reus', u'reveal', u'review', u'rf', u'ridg', u'right', u'rigid', u'risk', u'rnn', u'robot', u'robust', u'robustli', u'role', u'root', u'roughli', u'rout', u'routin', u'rule', u'rumor', u'run', u'runtim', u's', u'sa', u'sacrific', u'said', u'sampl', u'satisfi', u'save', u'scalabl', u'scale', u'scarc', u'schedul', u'scheme', u'scienc', u'scientif', u'score', u'scrl', u'sdc', u'sdn', u'se', u'sea', u'seamless', u'search', u'season', u'second', u'secondari', u'secondli', u'sector', u'secur', u'seen', u'segment', u'seizur', u'select', u'self', u'semant', u'semi', u'semisupervis', u'send', u'sensit', u'sensor', u'separ', u'sequenc', u'seri', u'seriou', u'serv', u'server', u'servic', u'set', u'seven', u'sever', u'sham', u'shank', u'shape', u'share', u'short', u'shot', u'shown', u'sign', u'signal', u'signatur', u'signific', u'significantli', u'silent', u'similarli', u'simpler', u'simplif', u'simplifi', u'simul', u'simultan', u'sinc', u'singapor', u'singaporemajor', u'singl', u'site', u'situat', u'sjtu', u'skill', u'skin', u'sla', u'sleep', u'slowdown', u'slower', u'slowli', u'small', u'smaller', u'smart', u'snap', u'snope', u'soc', u'social', u'societ', u'softwar', u'solid', u'solut', u'solv', u'sophist', u'sourc', u'space', u'spark', u'spars', u'spatial', u'spatiotempor', u'speak', u'special', u'specialist', u'specif', u'specifi', u'spectra', u'spectrum', u'sped', u'speech', u'speed', u'speedup', u'spent', u'spoken', u'spot', u'stack', u'stage', u'standard', u'start', u'state', u'statu', u'step', u'stimul', u'stop', u'storag', u'strategi', u'stream', u'strengthen', u'stroke', u'strong', u'structur', u'struggl', u'student', u'studi', u'subject', u'subset', u'subtl', u'subtleti', u'success', u'suffer', u'suffici', u'suggest', u'suitabl', u'summar', u'summer', u'supervis', u'support', u'surfac', u'surprisingli', u'surround', u'svm', u'sw', u'switch', u'symptom', u'synchron', u'syntact', u'synthesi', u'systemswith', u't', u'tailor', u'taken', u'tame', u'target', u'task', u'te', u'teacher', u'team', u'technic', u'technicsin', u'techniqu', u'techniquespredict', u'techniquesroot', u'technolog', u'temperatur', u'tempor', u'tend', u'tendenc', u'tensorflow', u'term', u'termin', u'tesla', u'test', u'tetanu', u'text', u'textual', u'tge', u'theart', u'themselv', u'theoret', u'theori', u'therapi', u'thereaft', u'therebi', u'therefor', u'thermal', u'theta', u'thi', u'thing', u'thirdli', u'thought', u'thread', u'threat', u'threshold', u'thu', u'tidal', u'time', u'timescal', u'tional', u'tissu', u'titan', u'togeth', u'toler', u'tool', u'topic', u'topolog', u'total', u'touch', u'tourist', u'tower', u'toxin', u'trace', u'track', u'trade', u'tradit', u'traffic', u'train', u'transform', u'translat', u'transmiss', u'transpar', u'transport', u'treatment', u'tree', u'tri', u'true', u'trust', u'tumblr', u'tumor', u'tune', u'tweet', u'twitter', u'twitterin', u'type', u'typic', u'ultim', u'uncertain', u'uncertainti', u'unclon', u'uncov', u'understand', u'unifi', u'uniqu', u'unit', u'univers', u'unknown', u'unlabel', u'unlicens', u'unlik', u'unpreced', u'unrel', u'unsupervis', u'unus', u'updat', u'upper', u'urban', u'usabl', u'usag', u'use', u'user', u'usual', u'util', u'vaccin', u'valid', u'valu', u'vanderbilt', u'vari', u'variant', u'variat', u'varieti', u'variou', u've', u'vector', u'veget', u'vehicl', u'veri', u'verifi', u'versu', u'vertex', u'vessel', u'video', u'violat', u'virtual', u'viru', u'vision', u'visit', u'visual', u'vital', u'vivoasynchron', u'vlink', u'voic', u'volunt', u'vote', u'vulner', u'vumc', u'w', u'wa', u'want', u'warfight', u'warm', u'warn', u'wastag', u'water', u'wave', u'wavelength', u'way', u'weak', u'weather', u'web', u'websit', u'weekend', u'welfar', u'west', u'wide', u'wireless', u'women', u'word', u'work', u'workload', u'world', u'worst', u'worth', u'ws', u'x', u'xgc', u'year', u'z', u'zero', u'zika', u'zip']\n"
     ]
    }
   ],
   "source": [
    "print tfidf_vectorizer.get_feature_names()"
   ]
  },
  {
   "cell_type": "code",
   "execution_count": 24,
   "metadata": {},
   "outputs": [
    {
     "name": "stdout",
     "output_type": "stream",
     "text": [
      "Topic #0: algorithm data predict network use comput train applic process model\n",
      "Topic #1: web servic design interfac defect solut ws modular d evalu\n",
      "Topic #2: kidney diseas chronic predict tree analyt classifi decis logist vector\n",
      "Topic #3: degrad ber fec pre rout failur detect reduc affect optic\n",
      "Topic #4: industri initi medic variou research healthcar past analyt data healthcarein\n",
      "Topic #5: follow therapi endocrin adjuv patient care medic appoint relat record\n",
      "Topic #6: nfr recal precis fr function requir dataset secur supervis classifi\n",
      "Topic #7: wave paramet relationship determin approach ml buoy convers power method\n",
      "Topic #8: signal behavior mental process versu physiolog bodi make clinic represent\n",
      "Topic #9: estim kernel semisupervis increment prior neighborhood se bandwidth data label\n"
     ]
    }
   ],
   "source": [
    "print_top_words(nmf, tfidf_vectorizer.get_feature_names(), 10)"
   ]
  },
  {
   "cell_type": "markdown",
   "metadata": {},
   "source": [
    "### Fit NMF model (Kullback-Leibler divergence)"
   ]
  },
  {
   "cell_type": "code",
   "execution_count": 25,
   "metadata": {
    "collapsed": true
   },
   "outputs": [],
   "source": [
    "nmf = NMF(n_components=10, beta_loss='kullback-leibler', solver='mu', max_iter=1000, alpha=.1,l1_ratio=.5).fit(ieee_tfidf)"
   ]
  },
  {
   "cell_type": "code",
   "execution_count": 26,
   "metadata": {},
   "outputs": [
    {
     "name": "stdout",
     "output_type": "stream",
     "text": [
      "Topic #0: data model support network base perform pattern use algorithm process\n",
      "Topic #1: power level design comput requir softwar shown thi highli empir\n",
      "Topic #2: thi support techniqu vector use remain paper classifi interfac s\n",
      "Topic #3: propos set mobil occur result protect match thi analysi help\n",
      "Topic #4: thi potenti use open health imag follow defect healthcar fine\n",
      "Topic #5: random classifi experi mani rate secur linear comparison term non\n",
      "Topic #6: novel method just issu propos paper handl svm mcdbn rate\n",
      "Topic #7: increasingli storag svm train continu use studi core regress comput\n",
      "Topic #8: analyt decis parallel art data paper sever rule perform dataset\n",
      "Topic #9: possibl statu studi predictor signific s hip posit thi robot\n"
     ]
    }
   ],
   "source": [
    "print_top_words(nmf, tfidf_vectorizer.get_feature_names(), 10)"
   ]
  },
  {
   "cell_type": "markdown",
   "metadata": {},
   "source": [
    "### Fit LDA Model (16 Topics)"
   ]
  },
  {
   "cell_type": "code",
   "execution_count": 36,
   "metadata": {},
   "outputs": [
    {
     "name": "stdout",
     "output_type": "stream",
     "text": [
      "Topic #0: predict follow patient failur endocrin therapi adjuv cloud data signal\n",
      "Topic #1: use predict method model fingerspel network node recognit valu trust\n",
      "Topic #2: model use featur measur method data mesh base network distribut\n",
      "Topic #3: health use forest random organ osteosarcoma rumor zika studi world\n",
      "Topic #4: algorithm elm data propos use predict train framework result base\n",
      "Topic #5: audio classif data method propos featur base classifi paper ha\n",
      "Topic #6: design servic techniqu hardwar approach defect web complex dure autom\n",
      "Topic #7: data model estim prior method network work accuraci avail analyt\n",
      "Topic #8: use servic differ cost network web cloud neural comput secur\n",
      "Topic #9: data kernel estim vector support semisupervis increment svm propos base\n",
      "Topic #10: wave network data paramet approach base model sdn relationship control\n",
      "Topic #11: use data effect pattern gpu comput distort model applic parallel\n",
      "Topic #12: data use stage task algorithm applic train process svm vector\n",
      "Topic #13: method detect hemorrhag classif imag visual data counselor result convers\n",
      "Topic #14: train needl time measur base real algorithm data develop thi\n",
      "Topic #15: algorithm detect ber degrad predict reduc caus game fec thi\n"
     ]
    }
   ],
   "source": [
    "lda_16 = LatentDirichletAllocation(n_components=16, max_iter = 100, learning_method=\"batch\", learning_offset=10)\n",
    "lda_16.fit(ieee_tf)\n",
    "print_top_words(lda_16, tf_vectorizer.get_feature_names(), 10)"
   ]
  },
  {
   "cell_type": "markdown",
   "metadata": {},
   "source": [
    "#### Perplexity for LDA Model"
   ]
  },
  {
   "cell_type": "code",
   "execution_count": 37,
   "metadata": {},
   "outputs": [
    {
     "data": {
      "text/plain": [
       "1015.0373438840458"
      ]
     },
     "execution_count": 37,
     "metadata": {},
     "output_type": "execute_result"
    }
   ],
   "source": [
    "lda_16.perplexity(ieee_tf)"
   ]
  },
  {
   "cell_type": "markdown",
   "metadata": {},
   "source": [
    "#### Get Topic Docuemnt Association"
   ]
  },
  {
   "cell_type": "code",
   "execution_count": 38,
   "metadata": {},
   "outputs": [
    {
     "name": "stdout",
     "output_type": "stream",
     "text": [
      "(53, 16)\n",
      "[[  7.62195561e-04   7.62195527e-04   7.62195454e-04   7.62195256e-04\n",
      "    7.62195492e-04   7.62195290e-04   7.62195303e-04   9.88567069e-01\n",
      "    7.62195405e-04   7.62195311e-04   7.62195418e-04   7.62195669e-04\n",
      "    7.62195468e-04   7.62195252e-04   7.62195381e-04   7.62195408e-04]\n",
      " [  5.16529120e-04   5.16529171e-04   9.92252062e-01   5.16529206e-04\n",
      "    5.16529186e-04   5.16529154e-04   5.16529148e-04   5.16529216e-04\n",
      "    5.16529244e-04   5.16529184e-04   5.16529093e-04   5.16529099e-04\n",
      "    5.16529256e-04   5.16529150e-04   5.16529134e-04   5.16529156e-04]\n",
      " [  4.52898837e-04   4.52898767e-04   4.52898818e-04   4.52898682e-04\n",
      "    9.93206518e-01   4.52898651e-04   4.52898999e-04   4.52898734e-04\n",
      "    4.52898720e-04   4.52898639e-04   4.52898760e-04   4.52898762e-04\n",
      "    4.52898985e-04   4.52898703e-04   4.52898813e-04   4.52898777e-04]\n",
      " [  5.16529182e-04   5.16529241e-04   5.16529294e-04   5.16528976e-04\n",
      "    5.16529242e-04   5.16529117e-04   5.16529087e-04   5.16529166e-04\n",
      "    5.16529189e-04   5.16529141e-04   5.16529141e-04   3.53126646e-02\n",
      "    9.57455927e-01   5.16529175e-04   5.16529089e-04   5.16529134e-04]\n",
      " [  1.17924557e-03   1.17924583e-03   1.17924578e-03   1.17924563e-03\n",
      "    1.17924570e-03   1.17924531e-03   1.17924602e-03   1.17924556e-03\n",
      "    1.17924603e-03   1.17924540e-03   1.17924571e-03   1.17924583e-03\n",
      "    1.17924572e-03   1.17924544e-03   1.17924548e-03   9.82311315e-01]\n",
      " [  6.25000207e-04   9.90624996e-01   6.25000320e-04   6.25000121e-04\n",
      "    6.25000288e-04   6.25000110e-04   6.25000294e-04   6.25000288e-04\n",
      "    6.25000422e-04   6.25000231e-04   6.25000198e-04   6.25000269e-04\n",
      "    6.25000211e-04   6.25000157e-04   6.25000293e-04   6.25000278e-04]\n",
      " [  5.08130170e-04   9.92378046e-01   5.08130287e-04   5.08130224e-04\n",
      "    5.08130271e-04   5.08130416e-04   5.08130124e-04   5.08130749e-04\n",
      "    5.08130197e-04   5.08130209e-04   5.08130267e-04   5.08130199e-04\n",
      "    5.08130270e-04   5.08130459e-04   5.08130229e-04   5.08130200e-04]\n",
      " [  4.80769382e-04   4.80769459e-04   4.80769469e-04   4.80769285e-04\n",
      "    4.80769454e-04   4.80769342e-04   4.80769396e-04   4.80769420e-04\n",
      "    4.80769561e-04   4.80769309e-04   4.80769465e-04   4.80769458e-04\n",
      "    9.92788459e-01   4.80769385e-04   4.80769431e-04   4.80769397e-04]\n",
      " [  5.16529071e-04   5.16529151e-04   5.16529125e-04   5.16529072e-04\n",
      "    5.16529142e-04   5.16529077e-04   5.16529075e-04   5.16529202e-04\n",
      "    5.16529129e-04   5.16529060e-04   5.16529091e-04   5.16529119e-04\n",
      "    5.16529179e-04   9.92252063e-01   5.16529046e-04   5.16529029e-04]\n",
      " [  5.20833501e-04   5.20833518e-04   5.20833493e-04   5.20833444e-04\n",
      "    5.20833528e-04   5.20833377e-04   5.20833512e-04   5.20833585e-04\n",
      "    5.20833574e-04   5.20833451e-04   5.20833547e-04   5.20833528e-04\n",
      "    5.20833508e-04   5.20833401e-04   5.20833569e-04   9.92187497e-01]\n",
      " [  4.28082295e-04   4.28082380e-04   4.28082390e-04   4.28082232e-04\n",
      "    4.28082360e-04   4.28082264e-04   4.28082298e-04   4.28082330e-04\n",
      "    4.28082324e-04   4.28082229e-04   9.93578765e-01   4.28082301e-04\n",
      "    4.28082356e-04   4.28082337e-04   4.28082326e-04   4.28082330e-04]\n",
      " [  6.86813352e-04   6.86813535e-04   6.86813459e-04   6.86813353e-04\n",
      "    6.86813521e-04   9.89697799e-01   6.86813347e-04   6.86813484e-04\n",
      "    6.86813366e-04   6.86813452e-04   6.86813477e-04   6.86813408e-04\n",
      "    6.86813491e-04   6.86813463e-04   6.86813357e-04   6.86813382e-04]\n",
      " [  4.73485050e-04   9.92897725e-01   4.73484957e-04   4.73484920e-04\n",
      "    4.73485016e-04   4.73484888e-04   4.73485026e-04   4.73484995e-04\n",
      "    4.73484988e-04   4.73484903e-04   4.73485024e-04   4.73485070e-04\n",
      "    4.73485033e-04   4.73484904e-04   4.73484976e-04   4.73485027e-04]\n",
      " [  5.89622859e-04   5.89622947e-04   5.89622909e-04   5.89622765e-04\n",
      "    5.89622836e-04   5.89622708e-04   5.89622859e-04   5.89622922e-04\n",
      "    5.89622831e-04   5.89622731e-04   5.89622784e-04   5.89622829e-04\n",
      "    5.89622938e-04   5.89622819e-04   9.91155657e-01   5.89622821e-04]\n",
      " [  7.62195398e-04   7.62195450e-04   9.88567067e-01   7.62195398e-04\n",
      "    7.62195524e-04   7.62195248e-04   7.62195867e-04   7.62195566e-04\n",
      "    7.62195571e-04   7.62195332e-04   7.62195827e-04   7.62195554e-04\n",
      "    7.62195667e-04   7.62195498e-04   7.62195468e-04   7.62195523e-04]\n",
      " [  4.62963135e-04   4.62963177e-04   4.62963145e-04   4.62963035e-04\n",
      "    4.62963184e-04   4.62963126e-04   4.62963111e-04   4.62963153e-04\n",
      "    4.62963201e-04   4.62963065e-04   9.93055553e-01   4.62963124e-04\n",
      "    4.62963152e-04   4.62963139e-04   4.62963145e-04   4.62963185e-04]\n",
      " [  6.06796430e-04   6.06796399e-04   6.06796360e-04   6.06796406e-04\n",
      "    6.06796371e-04   6.06796263e-04   6.06796273e-04   6.06796313e-04\n",
      "    9.90898054e-01   6.06796187e-04   6.06796442e-04   6.06796340e-04\n",
      "    6.06796346e-04   6.06796618e-04   6.06796347e-04   6.06797289e-04]\n",
      " [  4.25170180e-04   4.25170357e-04   4.25170252e-04   4.25170214e-04\n",
      "    4.25170238e-04   4.25170251e-04   4.25170180e-04   9.93622446e-01\n",
      "    4.25170198e-04   4.25170203e-04   4.25170220e-04   4.25170185e-04\n",
      "    4.25170765e-04   4.25170224e-04   4.25170188e-04   4.25170197e-04]\n",
      " [  3.65497164e-04   3.65497167e-04   9.94517543e-01   3.65497105e-04\n",
      "    3.65497198e-04   3.65497141e-04   3.65497145e-04   3.65497201e-04\n",
      "    3.65497153e-04   3.65497118e-04   3.65497167e-04   3.65497166e-04\n",
      "    3.65497187e-04   3.65497166e-04   3.65497119e-04   3.65497144e-04]\n",
      " [  3.67647156e-04   3.67647161e-04   3.67647219e-04   3.67647081e-04\n",
      "    9.94485292e-01   3.67647178e-04   3.67647135e-04   3.67647161e-04\n",
      "    3.67647189e-04   3.67647142e-04   3.67647221e-04   3.67647203e-04\n",
      "    3.67647455e-04   3.67647171e-04   3.67647146e-04   3.67647153e-04]\n",
      " [  8.44596130e-04   8.44595368e-04   8.44595095e-04   8.44595112e-04\n",
      "    8.44595457e-04   8.44594904e-04   8.44594868e-04   8.44595062e-04\n",
      "    8.44594938e-04   8.44594756e-04   8.44594937e-04   8.44594894e-04\n",
      "    8.44594995e-04   8.44594960e-04   8.44595111e-04   9.87331073e-01]\n",
      " [  4.40141116e-04   4.40141115e-04   9.27564477e-01   4.40141181e-04\n",
      "    4.56142229e-02   4.40141010e-04   4.40141133e-04   4.40140998e-04\n",
      "    4.40141072e-04   4.40140955e-04   4.40141183e-04   4.40141232e-04\n",
      "    4.40141133e-04   4.40140911e-04   2.10994654e-02   4.40141336e-04]\n",
      " [  4.28082483e-04   4.28082832e-04   4.28082442e-04   4.28082337e-04\n",
      "    9.93578764e-01   4.28082283e-04   4.28082369e-04   4.28082424e-04\n",
      "    4.28082428e-04   4.28082300e-04   4.28082437e-04   4.28082387e-04\n",
      "    4.28082496e-04   4.28082325e-04   4.28082377e-04   4.28082385e-04]\n",
      " [  7.26744582e-04   7.26744717e-04   7.26744491e-04   7.26744577e-04\n",
      "    7.26744512e-04   7.26744372e-04   7.26744444e-04   7.26744580e-04\n",
      "    7.26744502e-04   7.26744426e-04   7.26744531e-04   9.89098832e-01\n",
      "    7.26744455e-04   7.26744506e-04   7.26744375e-04   7.26744538e-04]\n",
      " [  7.53012352e-04   7.53012301e-04   7.53012381e-04   7.53012281e-04\n",
      "    7.53013137e-04   7.53012250e-04   7.53012461e-04   7.53012376e-04\n",
      "    7.53012450e-04   7.53012526e-04   9.88704814e-01   7.53012443e-04\n",
      "    7.53012471e-04   7.53012324e-04   7.53012364e-04   7.53012363e-04]\n",
      " [  7.81250240e-04   7.81250413e-04   7.81250349e-04   7.81250166e-04\n",
      "    7.81250456e-04   7.81250233e-04   7.81250172e-04   7.81252143e-04\n",
      "    7.81250331e-04   9.88281243e-01   7.81250361e-04   7.81250346e-04\n",
      "    7.81250433e-04   7.81250244e-04   7.81250303e-04   7.81250355e-04]\n",
      " [  7.26744274e-04   7.26744358e-04   7.26744731e-04   7.26744258e-04\n",
      "    7.26744851e-04   7.26744327e-04   7.26744327e-04   7.26744377e-04\n",
      "    7.26744358e-04   7.26744294e-04   7.26744373e-04   7.26744287e-04\n",
      "    7.26744352e-04   9.89098834e-01   7.26744367e-04   7.26744349e-04]\n",
      " [  6.06796349e-04   6.06796374e-04   6.06796397e-04   9.90898055e-01\n",
      "    6.06796378e-04   6.06796381e-04   6.06796232e-04   6.06796436e-04\n",
      "    6.06796292e-04   6.06796307e-04   6.06796290e-04   6.06796288e-04\n",
      "    6.06796470e-04   6.06796397e-04   6.06796266e-04   6.06796270e-04]\n",
      " [  5.68181940e-04   5.68181915e-04   5.68181907e-04   9.91477271e-01\n",
      "    5.68181907e-04   5.68181835e-04   5.68182343e-04   5.68181921e-04\n",
      "    5.68181883e-04   5.68181831e-04   5.68181897e-04   5.68181941e-04\n",
      "    5.68181902e-04   5.68181932e-04   5.68181948e-04   5.68182064e-04]\n",
      " [  9.95639534e-01   2.90697747e-04   2.90697771e-04   2.90697781e-04\n",
      "    2.90697761e-04   2.90697717e-04   2.90697709e-04   2.90697760e-04\n",
      "    2.90697809e-04   2.90697708e-04   2.90697750e-04   2.90697740e-04\n",
      "    2.90697748e-04   2.90697726e-04   2.90697727e-04   2.90697740e-04]\n",
      " [  7.62195266e-04   7.62195497e-04   7.62195505e-04   7.62195432e-04\n",
      "    7.62195552e-04   7.62195396e-04   7.62195541e-04   7.62195505e-04\n",
      "    7.62195397e-04   7.62195405e-04   7.62195341e-04   7.62195279e-04\n",
      "    7.62195441e-04   7.62195637e-04   9.88567068e-01   7.62195426e-04]\n",
      " [  4.28082346e-04   4.28082295e-04   4.28082307e-04   4.28082247e-04\n",
      "    4.28082311e-04   4.28082228e-04   9.93578766e-01   4.28082276e-04\n",
      "    4.28082324e-04   4.28082216e-04   4.28082378e-04   4.28082279e-04\n",
      "    4.28082307e-04   4.28082274e-04   4.28082319e-04   4.28082283e-04]\n",
      " [  4.62963112e-04   4.62963218e-04   4.62963165e-04   4.62963046e-04\n",
      "    4.62963221e-04   4.62963049e-04   4.62963084e-04   4.62963218e-04\n",
      "    4.62963220e-04   4.62963070e-04   4.62963204e-04   4.62963119e-04\n",
      "    4.62963162e-04   4.62963056e-04   9.93055553e-01   4.62963171e-04]\n",
      " [  4.19463515e-04   4.19463338e-04   1.83782670e-01   4.19463198e-04\n",
      "    4.19463374e-04   4.19463226e-04   4.19463329e-04   4.19463363e-04\n",
      "    8.10344843e-01   4.19463159e-04   4.19463347e-04   4.19463390e-04\n",
      "    4.19463452e-04   4.19463234e-04   4.19463244e-04   4.19463302e-04]\n",
      " [  1.11607221e-03   1.11607223e-03   1.11607257e-03   1.11607207e-03\n",
      "    1.11607250e-03   1.11607228e-03   1.11607185e-03   1.11607284e-03\n",
      "    1.11607244e-03   1.11607227e-03   1.11607227e-03   1.11607236e-03\n",
      "    1.11607278e-03   1.11607216e-03   1.11607196e-03   9.83258915e-01]\n",
      " [  1.60256493e-03   1.60256466e-03   1.60256482e-03   1.60256482e-03\n",
      "    1.60256587e-03   1.60256467e-03   1.60256508e-03   1.60256494e-03\n",
      "    1.60256515e-03   1.60256467e-03   1.60256495e-03   9.75961526e-01\n",
      "    1.60256474e-03   1.60256505e-03   1.60256499e-03   1.60256472e-03]\n",
      " [  5.95238494e-04   5.95238549e-04   5.95238421e-04   5.95238405e-04\n",
      "    5.95238479e-04   5.95238423e-04   5.95238235e-04   5.95238436e-04\n",
      "    9.91071423e-01   5.95238373e-04   5.95238422e-04   5.95238469e-04\n",
      "    5.95239287e-04   5.95238412e-04   5.95238458e-04   5.95238287e-04]\n",
      " [  5.38793312e-04   5.38793365e-04   9.91918100e-01   5.38793196e-04\n",
      "    5.38793387e-04   5.38793189e-04   5.38793277e-04   5.38793307e-04\n",
      "    5.38793254e-04   5.38793222e-04   5.38793328e-04   5.38793299e-04\n",
      "    5.38793253e-04   5.38793376e-04   5.38793462e-04   5.38793289e-04]\n",
      " [  4.43262522e-04   4.43262713e-04   4.43262721e-04   6.19211171e-02\n",
      "    4.43262839e-04   4.43262530e-04   9.31873205e-01   4.43262625e-04\n",
      "    4.43262756e-04   4.43262706e-04   4.43262559e-04   4.43262585e-04\n",
      "    4.43262882e-04   4.43262669e-04   4.43262847e-04   4.43262564e-04]\n",
      " [  4.40140985e-04   4.40141009e-04   4.40141097e-04   4.40140963e-04\n",
      "    4.40141070e-04   4.40140902e-04   1.71504610e-01   4.40141034e-04\n",
      "    8.22333415e-01   4.40140946e-04   4.40141021e-04   4.40140992e-04\n",
      "    4.40141117e-04   4.40140940e-04   4.40141087e-04   4.40141046e-04]\n",
      " [  8.90943164e-01   3.85802814e-04   1.03655597e-01   3.85802544e-04\n",
      "    3.85802899e-04   3.85802617e-04   3.85803151e-04   3.85802874e-04\n",
      "    3.85802784e-04   3.85802567e-04   3.85802760e-04   3.85802756e-04\n",
      "    3.85802776e-04   3.85802690e-04   3.85802715e-04   3.85802907e-04]\n",
      " [  9.19118576e-04   9.19118327e-04   9.86213227e-01   9.19117962e-04\n",
      "    9.19118204e-04   9.19117892e-04   9.19118094e-04   9.19118322e-04\n",
      "    9.19118125e-04   9.19117810e-04   9.19118271e-04   9.19117956e-04\n",
      "    9.19118220e-04   9.19118234e-04   9.19118154e-04   9.19118487e-04]\n",
      " [  3.39674055e-04   3.39674047e-04   3.39674059e-04   3.39673957e-04\n",
      "    8.73179878e-03   3.39673954e-04   3.39673989e-04   3.39674071e-04\n",
      "    3.39674030e-04   3.39673968e-04   3.39674127e-04   9.86512765e-01\n",
      "    3.39674087e-04   3.39673991e-04   3.39673997e-04   3.39674034e-04]\n",
      " [  3.74251646e-04   3.74251682e-04   3.74251721e-04   3.74251649e-04\n",
      "    3.74251793e-04   3.74251571e-04   3.74251671e-04   3.74251727e-04\n",
      "    3.74251705e-04   3.74251662e-04   3.74251771e-04   3.74251688e-04\n",
      "    9.94386225e-01   3.74251622e-04   3.74251677e-04   3.74251714e-04]\n",
      " [  7.71605217e-04   7.71607145e-04   7.71605343e-04   7.71605214e-04\n",
      "    9.88425919e-01   7.71605206e-04   7.71605127e-04   7.71605471e-04\n",
      "    7.71605180e-04   7.71605456e-04   7.71605242e-04   7.71605323e-04\n",
      "    7.71605347e-04   7.71605491e-04   7.71605168e-04   7.71605247e-04]\n",
      " [  5.89622969e-04   5.89622940e-04   5.89622956e-04   5.89623009e-04\n",
      "    5.89622848e-04   5.89622886e-04   5.89622805e-04   5.89622931e-04\n",
      "    5.89622930e-04   5.89622784e-04   5.89622824e-04   5.89622740e-04\n",
      "    9.91155657e-01   5.89622903e-04   5.89622867e-04   5.89622881e-04]\n",
      " [  9.84374994e-01   1.04166711e-03   1.04166720e-03   1.04166683e-03\n",
      "    1.04166729e-03   1.04166686e-03   1.04166721e-03   1.04166698e-03\n",
      "    1.04166722e-03   1.04166695e-03   1.04166722e-03   1.04166716e-03\n",
      "    1.04166722e-03   1.04166684e-03   1.04166695e-03   1.04166726e-03]\n",
      " [  9.92675778e-01   4.88281462e-04   4.88281555e-04   4.88281361e-04\n",
      "    4.88281460e-04   4.88281369e-04   4.88281427e-04   4.88281516e-04\n",
      "    4.88281387e-04   4.88281390e-04   4.88281429e-04   4.88281535e-04\n",
      "    4.88281558e-04   4.88281468e-04   4.88281429e-04   4.88281451e-04]\n",
      " [  4.49640511e-04   4.49640457e-04   4.49640509e-04   4.49640412e-04\n",
      "    2.34673996e-01   4.49640402e-04   4.49640605e-04   4.49640667e-04\n",
      "    7.59031037e-01   4.49640435e-04   4.49640454e-04   4.49640433e-04\n",
      "    4.49640592e-04   4.49640449e-04   4.49640402e-04   4.49640507e-04]\n",
      " [  2.89351947e-04   2.89352236e-04   2.89351988e-04   2.89351930e-04\n",
      "    2.89351976e-04   2.89351919e-04   2.89352012e-04   9.95659720e-01\n",
      "    2.89352041e-04   2.89351943e-04   2.89351948e-04   2.89351926e-04\n",
      "    2.89351944e-04   2.89351932e-04   2.89351934e-04   2.89351946e-04]\n",
      " [  8.22368896e-04   9.87664466e-01   8.22369004e-04   8.22368805e-04\n",
      "    8.22369033e-04   8.22368839e-04   8.22368798e-04   8.22369305e-04\n",
      "    8.22368786e-04   8.22368872e-04   8.22368920e-04   8.22368889e-04\n",
      "    8.22369253e-04   8.22368832e-04   8.22368799e-04   8.22368722e-04]\n",
      " [  5.89622825e-04   5.89623090e-04   5.89622901e-04   5.89622871e-04\n",
      "    5.89623027e-04   5.89622816e-04   5.89622892e-04   5.89622973e-04\n",
      "    5.89623002e-04   5.89622906e-04   5.89622857e-04   5.89622794e-04\n",
      "    9.91155656e-01   5.89622920e-04   5.89622841e-04   5.89622810e-04]\n",
      " [  3.57142978e-04   3.57142996e-04   3.57142936e-04   3.57142896e-04\n",
      "    3.57142995e-04   3.57142920e-04   3.57143030e-04   3.57142953e-04\n",
      "    3.57142950e-04   3.57142918e-04   3.57142957e-04   3.57142965e-04\n",
      "    3.57142936e-04   3.57142926e-04   3.57142934e-04   9.94642856e-01]]\n"
     ]
    }
   ],
   "source": [
    "topic_document_association_16 = lda_16.transform(ieee_tf)\n",
    "print topic_document_association_16.shape\n",
    "print topic_document_association_16"
   ]
  },
  {
   "cell_type": "markdown",
   "metadata": {},
   "source": [
    "### Try Nested Topic Modeling on LDA"
   ]
  },
  {
   "cell_type": "markdown",
   "metadata": {},
   "source": [
    "#### Fit LDA Model 8 Topics"
   ]
  },
  {
   "cell_type": "code",
   "execution_count": 44,
   "metadata": {},
   "outputs": [
    {
     "name": "stdout",
     "output_type": "stream",
     "text": [
      "Topic #0: design servic hardwar techniqu defect web approach complex\n",
      "Topic #1: hemorrhag detect imag counselor flow distort visual gpu\n",
      "Topic #2: use differ servic evalu cost health provid cloud\n",
      "Topic #3: zero gaussian semant cepstral clip mel learningaudio secondli\n",
      "Topic #4: model use featur measur mesh d distribut method\n",
      "Topic #5: zero gaussian semant cepstral clip mel learningaudio secondli\n",
      "Topic #6: data algorithm use predict method base model network\n",
      "Topic #7: predict follow patient failur endocrin adjuv therapi cloud\n"
     ]
    }
   ],
   "source": [
    "lda_8 = LatentDirichletAllocation(n_components=8, max_iter = 100, learning_method=\"batch\", learning_offset=10)\n",
    "lda_8.fit(lda_16.components_)\n",
    "print_top_words(lda_8, tf_vectorizer.get_feature_names(), 8)"
   ]
  },
  {
   "cell_type": "code",
   "execution_count": 45,
   "metadata": {},
   "outputs": [
    {
     "data": {
      "text/plain": [
       "1500.4501327232101"
      ]
     },
     "execution_count": 45,
     "metadata": {},
     "output_type": "execute_result"
    }
   ],
   "source": [
    "lda_8.perplexity(lda_16.components_)"
   ]
  },
  {
   "cell_type": "markdown",
   "metadata": {},
   "source": [
    "#### Fit LDA Model 4 Topics"
   ]
  },
  {
   "cell_type": "code",
   "execution_count": 46,
   "metadata": {},
   "outputs": [
    {
     "name": "stdout",
     "output_type": "stream",
     "text": [
      "Topic #0: cloud differ servic provid\n",
      "Topic #1: design servic hemorrhag hardwar\n",
      "Topic #2: addit way usag shown\n",
      "Topic #3: data algorithm use model\n"
     ]
    }
   ],
   "source": [
    "lda_4 = LatentDirichletAllocation(n_components=4, max_iter = 100, learning_method=\"batch\", learning_offset=10)\n",
    "lda_4.fit(lda_8.components_)\n",
    "print_top_words(lda_4, tf_vectorizer.get_feature_names(), 4)"
   ]
  },
  {
   "cell_type": "code",
   "execution_count": 47,
   "metadata": {},
   "outputs": [
    {
     "data": {
      "text/plain": [
       "1309.2208992631054"
      ]
     },
     "execution_count": 47,
     "metadata": {},
     "output_type": "execute_result"
    }
   ],
   "source": [
    "lda_4.perplexity(lda_8.components_)"
   ]
  },
  {
   "cell_type": "markdown",
   "metadata": {},
   "source": [
    "#### Fit LDA Model 1 Topic"
   ]
  },
  {
   "cell_type": "code",
   "execution_count": 49,
   "metadata": {},
   "outputs": [
    {
     "name": "stdout",
     "output_type": "stream",
     "text": [
      "Topic #0: data\n"
     ]
    }
   ],
   "source": [
    "lda_1 = LatentDirichletAllocation(n_components=1, max_iter = 100, learning_method=\"batch\", learning_offset=10)\n",
    "lda_1.fit(lda_4.components_)\n",
    "print_top_words(lda_1, tf_vectorizer.get_feature_names(), 1)"
   ]
  },
  {
   "cell_type": "code",
   "execution_count": 50,
   "metadata": {},
   "outputs": [
    {
     "data": {
      "text/plain": [
       "1406.2830331290431"
      ]
     },
     "execution_count": 50,
     "metadata": {},
     "output_type": "execute_result"
    }
   ],
   "source": [
    "lda_1.perplexity(lda_4.components_)"
   ]
  }
 ],
 "metadata": {
  "kernelspec": {
   "display_name": "Python 2",
   "language": "python",
   "name": "python2"
  },
  "language_info": {
   "codemirror_mode": {
    "name": "ipython",
    "version": 2
   },
   "file_extension": ".py",
   "mimetype": "text/x-python",
   "name": "python",
   "nbconvert_exporter": "python",
   "pygments_lexer": "ipython2",
   "version": "2.7.13"
  }
 },
 "nbformat": 4,
 "nbformat_minor": 2
}

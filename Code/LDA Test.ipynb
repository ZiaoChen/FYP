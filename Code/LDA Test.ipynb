{
 "cells": [
  {
   "cell_type": "markdown",
   "metadata": {},
   "source": [
    "## Import Required Packages"
   ]
  },
  {
   "cell_type": "code",
   "execution_count": 31,
   "metadata": {
    "collapsed": true
   },
   "outputs": [],
   "source": [
    "import time\n",
    "import pandas as pd\n",
    "import numpy as np\n",
    "from sklearn.feature_extraction.text import TfidfVectorizer, CountVectorizer\n",
    "from sklearn.decomposition import NMF, LatentDirichletAllocation\n",
    "from sklearn.datasets import fetch_20newsgroups_vectorized, fetch_20newsgroups\n",
    "import requests"
   ]
  },
  {
   "cell_type": "code",
   "execution_count": 2,
   "metadata": {
    "collapsed": true
   },
   "outputs": [],
   "source": [
    "dataset = fetch_20newsgroups(remove=('headers', 'footers', 'quotes'))"
   ]
  },
  {
   "cell_type": "code",
   "execution_count": 3,
   "metadata": {},
   "outputs": [
    {
     "data": {
      "text/plain": [
       "11314"
      ]
     },
     "execution_count": 3,
     "metadata": {},
     "output_type": "execute_result"
    }
   ],
   "source": [
    "len(dataset.data)"
   ]
  },
  {
   "cell_type": "markdown",
   "metadata": {},
   "source": [
    "## Import Data set (from IEEE)"
   ]
  },
  {
   "cell_type": "code",
   "execution_count": 87,
   "metadata": {},
   "outputs": [
    {
     "data": {
      "text/html": [
       "<div>\n",
       "<style>\n",
       "    .dataframe thead tr:only-child th {\n",
       "        text-align: right;\n",
       "    }\n",
       "\n",
       "    .dataframe thead th {\n",
       "        text-align: left;\n",
       "    }\n",
       "\n",
       "    .dataframe tbody tr th {\n",
       "        vertical-align: top;\n",
       "    }\n",
       "</style>\n",
       "<table border=\"1\" class=\"dataframe\">\n",
       "  <thead>\n",
       "    <tr style=\"text-align: right;\">\n",
       "      <th></th>\n",
       "      <th>Title</th>\n",
       "      <th>Abstract</th>\n",
       "      <th>Keywords</th>\n",
       "    </tr>\n",
       "  </thead>\n",
       "  <tbody>\n",
       "    <tr>\n",
       "      <th>0</th>\n",
       "      <td>An Overview of Recent Progress in the Study of...</td>\n",
       "      <td>This paper reviews some main results and progr...</td>\n",
       "      <td>Delay effects,\\nNetwork topology,\\nHeuristic a...</td>\n",
       "    </tr>\n",
       "    <tr>\n",
       "      <th>1</th>\n",
       "      <td>Speech recognition with deep recurrent neural ...</td>\n",
       "      <td>Recurrent neural networks (RNNs) are a powerfu...</td>\n",
       "      <td>Speech recognition,\\nRecurrent neural networks...</td>\n",
       "    </tr>\n",
       "    <tr>\n",
       "      <th>2</th>\n",
       "      <td>A survey of energy-efficient wireless communic...</td>\n",
       "      <td>Reducing energy consumption in wireless commun...</td>\n",
       "      <td>Energy consumption,\\nQuality of service,\\nWire...</td>\n",
       "    </tr>\n",
       "    <tr>\n",
       "      <th>3</th>\n",
       "      <td>A Survey on Human Activity Recognition using W...</td>\n",
       "      <td>Providing accurate and opportune information o...</td>\n",
       "      <td>Feature extraction,\\nAccelerometers,\\nPervasiv...</td>\n",
       "    </tr>\n",
       "    <tr>\n",
       "      <th>4</th>\n",
       "      <td>Enhanced Computer Vision With Microsoft Kinect...</td>\n",
       "      <td>With the invention of the low-cost Microsoft K...</td>\n",
       "      <td>Computer vision,\\nData integration,\\nSensors,\\...</td>\n",
       "    </tr>\n",
       "    <tr>\n",
       "      <th>5</th>\n",
       "      <td>Deformable Medical Image Registration: A Survey</td>\n",
       "      <td>Deformable image registration is a fundamental...</td>\n",
       "      <td>Deformable models,\\nMathematical model,\\nBiome...</td>\n",
       "    </tr>\n",
       "    <tr>\n",
       "      <th>6</th>\n",
       "      <td>Decentralized Charging Control of Large Popula...</td>\n",
       "      <td>This paper develops a strategy to coordinate t...</td>\n",
       "      <td>Nash equilibrium,\\nGames,\\nElectricity,\\nTraje...</td>\n",
       "    </tr>\n",
       "    <tr>\n",
       "      <th>7</th>\n",
       "      <td>Nonlocally Centralized Sparse Representation f...</td>\n",
       "      <td>Sparse representation models code an image pat...</td>\n",
       "      <td>Dictionaries,\\nEncoding,\\nImage restoration,\\n...</td>\n",
       "    </tr>\n",
       "    <tr>\n",
       "      <th>8</th>\n",
       "      <td>Mobile Data Offloading: How Much Can WiFi Deli...</td>\n",
       "      <td>This paper presents a quantitative study on th...</td>\n",
       "      <td>IEEE 802.11 Standards,\\nMobile communication,\\...</td>\n",
       "    </tr>\n",
       "    <tr>\n",
       "      <th>9</th>\n",
       "      <td>Efficiency Resource Allocation for Device-to-D...</td>\n",
       "      <td>Peer-to-peer communication has been recently c...</td>\n",
       "      <td>Resource management,\\nInterference,\\nReceivers...</td>\n",
       "    </tr>\n",
       "    <tr>\n",
       "      <th>10</th>\n",
       "      <td>A Mobile Virtual Environment game approach for...</td>\n",
       "      <td>Previous research has highlighted the potentia...</td>\n",
       "      <td>NaN</td>\n",
       "    </tr>\n",
       "    <tr>\n",
       "      <th>11</th>\n",
       "      <td>Discrete Signal Processing on Graphs</td>\n",
       "      <td>In social settings, individuals interact throu...</td>\n",
       "      <td>Fourier transforms,\\nLaplace equations,\\nGraph...</td>\n",
       "    </tr>\n",
       "    <tr>\n",
       "      <th>12</th>\n",
       "      <td>A Survey on Ambient-Assisted Living Tools for ...</td>\n",
       "      <td>In recent years, we have witnessed a rapid sur...</td>\n",
       "      <td>Intelligent sensors,\\nHidden Markov models,\\nR...</td>\n",
       "    </tr>\n",
       "    <tr>\n",
       "      <th>13</th>\n",
       "      <td>Data Center Network Virtualization: A Survey</td>\n",
       "      <td>With the growth of data volumes and variety of...</td>\n",
       "      <td>NaN</td>\n",
       "    </tr>\n",
       "    <tr>\n",
       "      <th>14</th>\n",
       "      <td>Compressed Sensing Off the Grid</td>\n",
       "      <td>This paper investigates the problem of estimat...</td>\n",
       "      <td>Atomic clocks,\\nCompressed sensing,\\nMinimizat...</td>\n",
       "    </tr>\n",
       "    <tr>\n",
       "      <th>15</th>\n",
       "      <td>Looking at Vehicles on the Road: A Survey of V...</td>\n",
       "      <td>This paper provides a review of the literature...</td>\n",
       "      <td>Computer vision,\\nIntelligent vehicles,\\nMachi...</td>\n",
       "    </tr>\n",
       "    <tr>\n",
       "      <th>16</th>\n",
       "      <td>Visual-Textual Joint Relevance Learning for Ta...</td>\n",
       "      <td>Due to the popularity of social media websites...</td>\n",
       "      <td>NaN</td>\n",
       "    </tr>\n",
       "    <tr>\n",
       "      <th>17</th>\n",
       "      <td>Online Object Tracking With Sparse Prototypes</td>\n",
       "      <td>Online object tracking is a challenging proble...</td>\n",
       "      <td>Vectors,\\nTarget tracking,\\nPrincipal componen...</td>\n",
       "    </tr>\n",
       "    <tr>\n",
       "      <th>18</th>\n",
       "      <td>Power Loss Minimization in Distribution System...</td>\n",
       "      <td>This paper presents a new method to solve the ...</td>\n",
       "      <td>Vectors,\\nOptimization,\\nMinimization,\\nDistri...</td>\n",
       "    </tr>\n",
       "    <tr>\n",
       "      <th>19</th>\n",
       "      <td>A Survey of Indoor Inertial Positioning System...</td>\n",
       "      <td>With the continual miniaturisation of sensors ...</td>\n",
       "      <td>Wearable computers,\\nSensor systems,\\nDead rec...</td>\n",
       "    </tr>\n",
       "    <tr>\n",
       "      <th>20</th>\n",
       "      <td>Candidate Indistinguishability Obfuscation and...</td>\n",
       "      <td>In this work, we study indistinguishability ob...</td>\n",
       "      <td>NaN</td>\n",
       "    </tr>\n",
       "    <tr>\n",
       "      <th>21</th>\n",
       "      <td>Particle Swarm Optimization With an Aging Lead...</td>\n",
       "      <td>In nature, almost every organism ages and has ...</td>\n",
       "      <td>NaN</td>\n",
       "    </tr>\n",
       "    <tr>\n",
       "      <th>22</th>\n",
       "      <td>Quantitative Analysis of Human-Model Agreement...</td>\n",
       "      <td>Visual attention is a process that enables bio...</td>\n",
       "      <td>Videos,\\nHumans,\\nVisualization,\\nComputationa...</td>\n",
       "    </tr>\n",
       "    <tr>\n",
       "      <th>23</th>\n",
       "      <td>Transmit Antenna Selection for Security Enhanc...</td>\n",
       "      <td>We propose and analyze transmit antenna select...</td>\n",
       "      <td>NaN</td>\n",
       "    </tr>\n",
       "    <tr>\n",
       "      <th>24</th>\n",
       "      <td>The Evolution of MAC Protocols in Wireless Sen...</td>\n",
       "      <td>Wireless Sensor Networks (WSNs) have become a ...</td>\n",
       "      <td>NaN</td>\n",
       "    </tr>\n",
       "    <tr>\n",
       "      <th>25</th>\n",
       "      <td>Semi-Global Leader-Following Consensus of Line...</td>\n",
       "      <td>This paper investigates the problem of leader-...</td>\n",
       "      <td>NaN</td>\n",
       "    </tr>\n",
       "    <tr>\n",
       "      <th>26</th>\n",
       "      <td>Mobileflow: Toward software-defined mobile net...</td>\n",
       "      <td>Mobile carrier networks follow an architecture...</td>\n",
       "      <td>Mobile communication,\\nMobile computing,\\nCont...</td>\n",
       "    </tr>\n",
       "    <tr>\n",
       "      <th>27</th>\n",
       "      <td>Improving deep neural networks for LVCSR using...</td>\n",
       "      <td>Recently, pre-trained deep neural networks (DN...</td>\n",
       "      <td>Training,\\nOptimization,\\nNeural networks,\\nBa...</td>\n",
       "    </tr>\n",
       "    <tr>\n",
       "      <th>28</th>\n",
       "      <td>Moving Object Detection by Detecting Contiguou...</td>\n",
       "      <td>Object detection is a fundamental step for aut...</td>\n",
       "      <td>Motion segmentation,\\nObject detection,\\nCamer...</td>\n",
       "    </tr>\n",
       "    <tr>\n",
       "      <th>29</th>\n",
       "      <td>Enabling Effective Programming and Flexible Ma...</td>\n",
       "      <td>Wireless body sensor networks (BSNs) possess e...</td>\n",
       "      <td>Programming,\\nSoftware,\\nBiomedical monitoring...</td>\n",
       "    </tr>\n",
       "    <tr>\n",
       "      <th>...</th>\n",
       "      <td>...</td>\n",
       "      <td>...</td>\n",
       "      <td>...</td>\n",
       "    </tr>\n",
       "    <tr>\n",
       "      <th>1931</th>\n",
       "      <td>Low Leakage TCAM for IP Lookup Using Two-Side ...</td>\n",
       "      <td>Ternary content-addressable memory (TCAM) is a...</td>\n",
       "      <td>Computer aided manufacturing,\\nPower demand,\\n...</td>\n",
       "    </tr>\n",
       "    <tr>\n",
       "      <th>1932</th>\n",
       "      <td>New Techniques for Upper-Bounding the ML Decod...</td>\n",
       "      <td>In this paper, new techniques are presented to...</td>\n",
       "      <td>Vectors,\\nUpper bound,\\nError probability,\\nMa...</td>\n",
       "    </tr>\n",
       "    <tr>\n",
       "      <th>1933</th>\n",
       "      <td>PSR: Practical synchronous rendezvous in low-d...</td>\n",
       "      <td>Low-duty-cycle radio operations have been prop...</td>\n",
       "      <td>Synchronization,\\nCalibration,\\nClocks,\\nSched...</td>\n",
       "    </tr>\n",
       "    <tr>\n",
       "      <th>1934</th>\n",
       "      <td>Image co-saliency detection by propagating sup...</td>\n",
       "      <td>Image co-saliency detection is a valuable tech...</td>\n",
       "      <td>Image color analysis,\\nMatrix decomposition,\\n...</td>\n",
       "    </tr>\n",
       "    <tr>\n",
       "      <th>1935</th>\n",
       "      <td>Speed and direction based fuzzy handover system</td>\n",
       "      <td>Handover is a very common event in Cellular Mo...</td>\n",
       "      <td>Handover,\\nCurrent measurement,\\nFuzzy logic,\\...</td>\n",
       "    </tr>\n",
       "    <tr>\n",
       "      <th>1936</th>\n",
       "      <td>Finite-Sample Linear Filter Optimization in Wi...</td>\n",
       "      <td>We study the problem of linear filter optimiza...</td>\n",
       "      <td>Covariance matrices,\\nVectors,\\nWireless commu...</td>\n",
       "    </tr>\n",
       "    <tr>\n",
       "      <th>1937</th>\n",
       "      <td>On the performance of 1-level LDPC lattices</td>\n",
       "      <td>The low-density parity-check (LDPC) lattices p...</td>\n",
       "      <td>Lattices,\\nParity check codes,\\nVectors,\\nDeco...</td>\n",
       "    </tr>\n",
       "    <tr>\n",
       "      <th>1938</th>\n",
       "      <td>Adaptive data collection approach for periodic...</td>\n",
       "      <td>Data collection from unreachable terrain and t...</td>\n",
       "      <td>NaN</td>\n",
       "    </tr>\n",
       "    <tr>\n",
       "      <th>1939</th>\n",
       "      <td>Autonomic performance and power control for co...</td>\n",
       "      <td>In a data center, various components of Web ap...</td>\n",
       "      <td>Servers,\\nResource management,\\nPower demand,\\...</td>\n",
       "    </tr>\n",
       "    <tr>\n",
       "      <th>1940</th>\n",
       "      <td>Smart user interface for mobile consumer devic...</td>\n",
       "      <td>A smart user-interface for mobile consumer dev...</td>\n",
       "      <td>Cornea,\\nCameras,\\nLight sources,\\nEstimation,...</td>\n",
       "    </tr>\n",
       "    <tr>\n",
       "      <th>1941</th>\n",
       "      <td>Heterogeneous Integrated Beam-Switching/ Retro...</td>\n",
       "      <td>By utilizing synthesized transmission lines, i...</td>\n",
       "      <td>Arrays,\\nButler matrices,\\nMicrostrip,\\nPorts ...</td>\n",
       "    </tr>\n",
       "    <tr>\n",
       "      <th>1942</th>\n",
       "      <td>Vector Modulator Card for MTCA-Based LLRF Cont...</td>\n",
       "      <td>Modern low-level radio frequency (LLRF) contro...</td>\n",
       "      <td>Modulation,\\nRadio frequency,\\nVectors,\\nContr...</td>\n",
       "    </tr>\n",
       "    <tr>\n",
       "      <th>1943</th>\n",
       "      <td>A platform for teaching applied distributed so...</td>\n",
       "      <td>Teaching distributed software development (DSD...</td>\n",
       "      <td>Software,\\nProduction facilities,\\nEducational...</td>\n",
       "    </tr>\n",
       "    <tr>\n",
       "      <th>1944</th>\n",
       "      <td>A Robust Inclinometer System With Accurate Cal...</td>\n",
       "      <td>This paper proposes a robust inclinometer syst...</td>\n",
       "      <td>Sensors,\\nAzimuth,\\nAccelerometers,\\nVectors,\\...</td>\n",
       "    </tr>\n",
       "    <tr>\n",
       "      <th>1945</th>\n",
       "      <td>Motivation and Data Quality in a Citizen Scien...</td>\n",
       "      <td>Citizen science is a form of social computatio...</td>\n",
       "      <td>NaN</td>\n",
       "    </tr>\n",
       "    <tr>\n",
       "      <th>1946</th>\n",
       "      <td>A mutation analysis based benchmarking framewo...</td>\n",
       "      <td>In recent years, an abundant number of clone d...</td>\n",
       "      <td>Cloning,\\nBenchmark testing,\\nDetectors,\\nEduc...</td>\n",
       "    </tr>\n",
       "    <tr>\n",
       "      <th>1947</th>\n",
       "      <td>The MORPH concept and its application in marin...</td>\n",
       "      <td>The MORPH project (FP 7, 2012-2016) aims at th...</td>\n",
       "      <td>Vehicles,\\nRobot sensing systems,\\nNavigation,...</td>\n",
       "    </tr>\n",
       "    <tr>\n",
       "      <th>1948</th>\n",
       "      <td>A fast overcurrent protection scheme for IGBT ...</td>\n",
       "      <td>This paper presents a new active overcurrent p...</td>\n",
       "      <td>Logic gates,\\nCircuit faults,\\nInsulated gate ...</td>\n",
       "    </tr>\n",
       "    <tr>\n",
       "      <th>1949</th>\n",
       "      <td>Distributed Dynamic Frequency Allocation in Fr...</td>\n",
       "      <td>To increase frequency efficiency in cellular c...</td>\n",
       "      <td>Radio spectrum management,\\nHeuristic algorith...</td>\n",
       "    </tr>\n",
       "    <tr>\n",
       "      <th>1950</th>\n",
       "      <td>A gyroscopic data based pedometer algorithm</td>\n",
       "      <td>Accuracy of step counting is one of the main p...</td>\n",
       "      <td>Legged locomotion,\\nNavigation,\\nComputers,\\nA...</td>\n",
       "    </tr>\n",
       "    <tr>\n",
       "      <th>1951</th>\n",
       "      <td>A Statistical Model of Uplink Inter-Cell Inter...</td>\n",
       "      <td>Uplink power control is in essence an interfer...</td>\n",
       "      <td>NaN</td>\n",
       "    </tr>\n",
       "    <tr>\n",
       "      <th>1952</th>\n",
       "      <td>Weighted Sum Rate Maximization for Multiuser M...</td>\n",
       "      <td>In this paper, we study a filter design that m...</td>\n",
       "      <td>NaN</td>\n",
       "    </tr>\n",
       "    <tr>\n",
       "      <th>1953</th>\n",
       "      <td>Classification of Complex Networks Based on To...</td>\n",
       "      <td>Study of countless real-world systems. They ha...</td>\n",
       "      <td>Transportation,\\nComplex networks,\\nCommunitie...</td>\n",
       "    </tr>\n",
       "    <tr>\n",
       "      <th>1954</th>\n",
       "      <td>Scalable algorithms for wireless link scheduli...</td>\n",
       "      <td>For wireless link scheduling in multi-channel ...</td>\n",
       "      <td>NaN</td>\n",
       "    </tr>\n",
       "    <tr>\n",
       "      <th>1955</th>\n",
       "      <td>Subbandgap Asymmetric Surface Plasmon Waveguid...</td>\n",
       "      <td>Silicon-based surface-plasmon subbandgap detec...</td>\n",
       "      <td>Gold,\\nSilicon,\\nDetectors,\\nCouplings,\\nSchot...</td>\n",
       "    </tr>\n",
       "    <tr>\n",
       "      <th>1956</th>\n",
       "      <td>Brief Paper - Distributed consensus filtering ...</td>\n",
       "      <td>This article studies the problem of distribute...</td>\n",
       "      <td>NaN</td>\n",
       "    </tr>\n",
       "    <tr>\n",
       "      <th>1957</th>\n",
       "      <td>Optimal Training and Data Power Allocation in ...</td>\n",
       "      <td>We consider a binary distributed detection pro...</td>\n",
       "      <td>NaN</td>\n",
       "    </tr>\n",
       "    <tr>\n",
       "      <th>1958</th>\n",
       "      <td>Enhancing human action recognition through spa...</td>\n",
       "      <td>In this paper, we present a two-stage framewor...</td>\n",
       "      <td>NaN</td>\n",
       "    </tr>\n",
       "    <tr>\n",
       "      <th>1959</th>\n",
       "      <td>Hypothesis testing framework for active object...</td>\n",
       "      <td>One of the central problems in computer vision...</td>\n",
       "      <td>NaN</td>\n",
       "    </tr>\n",
       "    <tr>\n",
       "      <th>1960</th>\n",
       "      <td>Adaptive non-local means for multiview image d...</td>\n",
       "      <td>We present an adaptive non-local means (NLM) d...</td>\n",
       "      <td>Noise reduction,\\nImage denoising,\\nConference...</td>\n",
       "    </tr>\n",
       "  </tbody>\n",
       "</table>\n",
       "<p>1961 rows × 3 columns</p>\n",
       "</div>"
      ],
      "text/plain": [
       "                                                  Title  \\\n",
       "0     An Overview of Recent Progress in the Study of...   \n",
       "1     Speech recognition with deep recurrent neural ...   \n",
       "2     A survey of energy-efficient wireless communic...   \n",
       "3     A Survey on Human Activity Recognition using W...   \n",
       "4     Enhanced Computer Vision With Microsoft Kinect...   \n",
       "5       Deformable Medical Image Registration: A Survey   \n",
       "6     Decentralized Charging Control of Large Popula...   \n",
       "7     Nonlocally Centralized Sparse Representation f...   \n",
       "8     Mobile Data Offloading: How Much Can WiFi Deli...   \n",
       "9     Efficiency Resource Allocation for Device-to-D...   \n",
       "10    A Mobile Virtual Environment game approach for...   \n",
       "11                 Discrete Signal Processing on Graphs   \n",
       "12    A Survey on Ambient-Assisted Living Tools for ...   \n",
       "13         Data Center Network Virtualization: A Survey   \n",
       "14                      Compressed Sensing Off the Grid   \n",
       "15    Looking at Vehicles on the Road: A Survey of V...   \n",
       "16    Visual-Textual Joint Relevance Learning for Ta...   \n",
       "17        Online Object Tracking With Sparse Prototypes   \n",
       "18    Power Loss Minimization in Distribution System...   \n",
       "19    A Survey of Indoor Inertial Positioning System...   \n",
       "20    Candidate Indistinguishability Obfuscation and...   \n",
       "21    Particle Swarm Optimization With an Aging Lead...   \n",
       "22    Quantitative Analysis of Human-Model Agreement...   \n",
       "23    Transmit Antenna Selection for Security Enhanc...   \n",
       "24    The Evolution of MAC Protocols in Wireless Sen...   \n",
       "25    Semi-Global Leader-Following Consensus of Line...   \n",
       "26    Mobileflow: Toward software-defined mobile net...   \n",
       "27    Improving deep neural networks for LVCSR using...   \n",
       "28    Moving Object Detection by Detecting Contiguou...   \n",
       "29    Enabling Effective Programming and Flexible Ma...   \n",
       "...                                                 ...   \n",
       "1931  Low Leakage TCAM for IP Lookup Using Two-Side ...   \n",
       "1932  New Techniques for Upper-Bounding the ML Decod...   \n",
       "1933  PSR: Practical synchronous rendezvous in low-d...   \n",
       "1934  Image co-saliency detection by propagating sup...   \n",
       "1935    Speed and direction based fuzzy handover system   \n",
       "1936  Finite-Sample Linear Filter Optimization in Wi...   \n",
       "1937        On the performance of 1-level LDPC lattices   \n",
       "1938  Adaptive data collection approach for periodic...   \n",
       "1939  Autonomic performance and power control for co...   \n",
       "1940  Smart user interface for mobile consumer devic...   \n",
       "1941  Heterogeneous Integrated Beam-Switching/ Retro...   \n",
       "1942  Vector Modulator Card for MTCA-Based LLRF Cont...   \n",
       "1943  A platform for teaching applied distributed so...   \n",
       "1944  A Robust Inclinometer System With Accurate Cal...   \n",
       "1945  Motivation and Data Quality in a Citizen Scien...   \n",
       "1946  A mutation analysis based benchmarking framewo...   \n",
       "1947  The MORPH concept and its application in marin...   \n",
       "1948  A fast overcurrent protection scheme for IGBT ...   \n",
       "1949  Distributed Dynamic Frequency Allocation in Fr...   \n",
       "1950        A gyroscopic data based pedometer algorithm   \n",
       "1951  A Statistical Model of Uplink Inter-Cell Inter...   \n",
       "1952  Weighted Sum Rate Maximization for Multiuser M...   \n",
       "1953  Classification of Complex Networks Based on To...   \n",
       "1954  Scalable algorithms for wireless link scheduli...   \n",
       "1955  Subbandgap Asymmetric Surface Plasmon Waveguid...   \n",
       "1956  Brief Paper - Distributed consensus filtering ...   \n",
       "1957  Optimal Training and Data Power Allocation in ...   \n",
       "1958  Enhancing human action recognition through spa...   \n",
       "1959  Hypothesis testing framework for active object...   \n",
       "1960  Adaptive non-local means for multiview image d...   \n",
       "\n",
       "                                               Abstract  \\\n",
       "0     This paper reviews some main results and progr...   \n",
       "1     Recurrent neural networks (RNNs) are a powerfu...   \n",
       "2     Reducing energy consumption in wireless commun...   \n",
       "3     Providing accurate and opportune information o...   \n",
       "4     With the invention of the low-cost Microsoft K...   \n",
       "5     Deformable image registration is a fundamental...   \n",
       "6     This paper develops a strategy to coordinate t...   \n",
       "7     Sparse representation models code an image pat...   \n",
       "8     This paper presents a quantitative study on th...   \n",
       "9     Peer-to-peer communication has been recently c...   \n",
       "10    Previous research has highlighted the potentia...   \n",
       "11    In social settings, individuals interact throu...   \n",
       "12    In recent years, we have witnessed a rapid sur...   \n",
       "13    With the growth of data volumes and variety of...   \n",
       "14    This paper investigates the problem of estimat...   \n",
       "15    This paper provides a review of the literature...   \n",
       "16    Due to the popularity of social media websites...   \n",
       "17    Online object tracking is a challenging proble...   \n",
       "18    This paper presents a new method to solve the ...   \n",
       "19    With the continual miniaturisation of sensors ...   \n",
       "20    In this work, we study indistinguishability ob...   \n",
       "21    In nature, almost every organism ages and has ...   \n",
       "22    Visual attention is a process that enables bio...   \n",
       "23    We propose and analyze transmit antenna select...   \n",
       "24    Wireless Sensor Networks (WSNs) have become a ...   \n",
       "25    This paper investigates the problem of leader-...   \n",
       "26    Mobile carrier networks follow an architecture...   \n",
       "27    Recently, pre-trained deep neural networks (DN...   \n",
       "28    Object detection is a fundamental step for aut...   \n",
       "29    Wireless body sensor networks (BSNs) possess e...   \n",
       "...                                                 ...   \n",
       "1931  Ternary content-addressable memory (TCAM) is a...   \n",
       "1932  In this paper, new techniques are presented to...   \n",
       "1933  Low-duty-cycle radio operations have been prop...   \n",
       "1934  Image co-saliency detection is a valuable tech...   \n",
       "1935  Handover is a very common event in Cellular Mo...   \n",
       "1936  We study the problem of linear filter optimiza...   \n",
       "1937  The low-density parity-check (LDPC) lattices p...   \n",
       "1938  Data collection from unreachable terrain and t...   \n",
       "1939  In a data center, various components of Web ap...   \n",
       "1940  A smart user-interface for mobile consumer dev...   \n",
       "1941  By utilizing synthesized transmission lines, i...   \n",
       "1942  Modern low-level radio frequency (LLRF) contro...   \n",
       "1943  Teaching distributed software development (DSD...   \n",
       "1944  This paper proposes a robust inclinometer syst...   \n",
       "1945  Citizen science is a form of social computatio...   \n",
       "1946  In recent years, an abundant number of clone d...   \n",
       "1947  The MORPH project (FP 7, 2012-2016) aims at th...   \n",
       "1948  This paper presents a new active overcurrent p...   \n",
       "1949  To increase frequency efficiency in cellular c...   \n",
       "1950  Accuracy of step counting is one of the main p...   \n",
       "1951  Uplink power control is in essence an interfer...   \n",
       "1952  In this paper, we study a filter design that m...   \n",
       "1953  Study of countless real-world systems. They ha...   \n",
       "1954  For wireless link scheduling in multi-channel ...   \n",
       "1955  Silicon-based surface-plasmon subbandgap detec...   \n",
       "1956  This article studies the problem of distribute...   \n",
       "1957  We consider a binary distributed detection pro...   \n",
       "1958  In this paper, we present a two-stage framewor...   \n",
       "1959  One of the central problems in computer vision...   \n",
       "1960  We present an adaptive non-local means (NLM) d...   \n",
       "\n",
       "                                               Keywords  \n",
       "0     Delay effects,\\nNetwork topology,\\nHeuristic a...  \n",
       "1     Speech recognition,\\nRecurrent neural networks...  \n",
       "2     Energy consumption,\\nQuality of service,\\nWire...  \n",
       "3     Feature extraction,\\nAccelerometers,\\nPervasiv...  \n",
       "4     Computer vision,\\nData integration,\\nSensors,\\...  \n",
       "5     Deformable models,\\nMathematical model,\\nBiome...  \n",
       "6     Nash equilibrium,\\nGames,\\nElectricity,\\nTraje...  \n",
       "7     Dictionaries,\\nEncoding,\\nImage restoration,\\n...  \n",
       "8     IEEE 802.11 Standards,\\nMobile communication,\\...  \n",
       "9     Resource management,\\nInterference,\\nReceivers...  \n",
       "10                                                  NaN  \n",
       "11    Fourier transforms,\\nLaplace equations,\\nGraph...  \n",
       "12    Intelligent sensors,\\nHidden Markov models,\\nR...  \n",
       "13                                                  NaN  \n",
       "14    Atomic clocks,\\nCompressed sensing,\\nMinimizat...  \n",
       "15    Computer vision,\\nIntelligent vehicles,\\nMachi...  \n",
       "16                                                  NaN  \n",
       "17    Vectors,\\nTarget tracking,\\nPrincipal componen...  \n",
       "18    Vectors,\\nOptimization,\\nMinimization,\\nDistri...  \n",
       "19    Wearable computers,\\nSensor systems,\\nDead rec...  \n",
       "20                                                  NaN  \n",
       "21                                                  NaN  \n",
       "22    Videos,\\nHumans,\\nVisualization,\\nComputationa...  \n",
       "23                                                  NaN  \n",
       "24                                                  NaN  \n",
       "25                                                  NaN  \n",
       "26    Mobile communication,\\nMobile computing,\\nCont...  \n",
       "27    Training,\\nOptimization,\\nNeural networks,\\nBa...  \n",
       "28    Motion segmentation,\\nObject detection,\\nCamer...  \n",
       "29    Programming,\\nSoftware,\\nBiomedical monitoring...  \n",
       "...                                                 ...  \n",
       "1931  Computer aided manufacturing,\\nPower demand,\\n...  \n",
       "1932  Vectors,\\nUpper bound,\\nError probability,\\nMa...  \n",
       "1933  Synchronization,\\nCalibration,\\nClocks,\\nSched...  \n",
       "1934  Image color analysis,\\nMatrix decomposition,\\n...  \n",
       "1935  Handover,\\nCurrent measurement,\\nFuzzy logic,\\...  \n",
       "1936  Covariance matrices,\\nVectors,\\nWireless commu...  \n",
       "1937  Lattices,\\nParity check codes,\\nVectors,\\nDeco...  \n",
       "1938                                                NaN  \n",
       "1939  Servers,\\nResource management,\\nPower demand,\\...  \n",
       "1940  Cornea,\\nCameras,\\nLight sources,\\nEstimation,...  \n",
       "1941  Arrays,\\nButler matrices,\\nMicrostrip,\\nPorts ...  \n",
       "1942  Modulation,\\nRadio frequency,\\nVectors,\\nContr...  \n",
       "1943  Software,\\nProduction facilities,\\nEducational...  \n",
       "1944  Sensors,\\nAzimuth,\\nAccelerometers,\\nVectors,\\...  \n",
       "1945                                                NaN  \n",
       "1946  Cloning,\\nBenchmark testing,\\nDetectors,\\nEduc...  \n",
       "1947  Vehicles,\\nRobot sensing systems,\\nNavigation,...  \n",
       "1948  Logic gates,\\nCircuit faults,\\nInsulated gate ...  \n",
       "1949  Radio spectrum management,\\nHeuristic algorith...  \n",
       "1950  Legged locomotion,\\nNavigation,\\nComputers,\\nA...  \n",
       "1951                                                NaN  \n",
       "1952                                                NaN  \n",
       "1953  Transportation,\\nComplex networks,\\nCommunitie...  \n",
       "1954                                                NaN  \n",
       "1955  Gold,\\nSilicon,\\nDetectors,\\nCouplings,\\nSchot...  \n",
       "1956                                                NaN  \n",
       "1957                                                NaN  \n",
       "1958                                                NaN  \n",
       "1959                                                NaN  \n",
       "1960  Noise reduction,\\nImage denoising,\\nConference...  \n",
       "\n",
       "[1961 rows x 3 columns]"
      ]
     },
     "execution_count": 87,
     "metadata": {},
     "output_type": "execute_result"
    }
   ],
   "source": [
    "ieee_data = pd.read_csv(\"Data/IEEE-Computer-Science-2013.csv\")\n",
    "ieee_data"
   ]
  },
  {
   "cell_type": "markdown",
   "metadata": {},
   "source": [
    "## Data Preprocessing"
   ]
  },
  {
   "cell_type": "markdown",
   "metadata": {},
   "source": [
    "### Combine all text data into one column"
   ]
  },
  {
   "cell_type": "code",
   "execution_count": 88,
   "metadata": {
    "collapsed": true
   },
   "outputs": [],
   "source": [
    "ieee_data[\"Combined_text\"] = ieee_data[\"Title\"] + ieee_data[\"Abstract\"] + ieee_data[\"Keywords\"]\n",
    "raw = ieee_data[\"Combined_text\"]\n",
    "raw = raw.dropna()"
   ]
  },
  {
   "cell_type": "markdown",
   "metadata": {},
   "source": [
    "### Tokenization and stemming"
   ]
  },
  {
   "cell_type": "code",
   "execution_count": 79,
   "metadata": {
    "collapsed": true
   },
   "outputs": [],
   "source": [
    "from nltk import word_tokenize\n",
    "from nltk.stem.porter import PorterStemmer\n",
    "from nltk.stem import WordNetLemmatizer\n",
    "import re\n",
    "import string\n",
    "#Tokenize the text\n",
    "def tokenize(text):\n",
    "\n",
    "    #Create Stemmer\n",
    "    stemmer = WordNetLemmatizer()\n",
    "\n",
    "    #Remove irrelevant character\n",
    "    text = re.sub(r\"[^a-zA-Z]\", ' ', text)\n",
    "\n",
    "    #Tokenization\n",
    "    tokens = word_tokenize(text)\n",
    "    tokens = [i for i in tokens if i not in string.punctuation]\n",
    "\n",
    "    #Stemming\n",
    "    stems = stem_tokens(tokens, stemmer)\n",
    "    return stems\n",
    "\n",
    "#Stemming Function\n",
    "def stem_tokens(t,s):\n",
    "    stemmed=[]\n",
    "    for item in t:\n",
    "        stemmed.append(s.lemmatize(item))\n",
    "    return stemmed"
   ]
  },
  {
   "cell_type": "markdown",
   "metadata": {},
   "source": [
    "### Tfidf Vectorizer and Count Vectorizer"
   ]
  },
  {
   "cell_type": "code",
   "execution_count": 89,
   "metadata": {
    "collapsed": true
   },
   "outputs": [],
   "source": [
    "tfidf_vectorizer = TfidfVectorizer(stop_words='english', tokenizer=tokenize)\n",
    "tf_vectorizer = CountVectorizer(stop_words='english', tokenizer=tokenize, max_df=500, max_features=1000)"
   ]
  },
  {
   "cell_type": "markdown",
   "metadata": {},
   "source": [
    "### Convert text to tfidf and tf format"
   ]
  },
  {
   "cell_type": "code",
   "execution_count": 90,
   "metadata": {},
   "outputs": [
    {
     "name": "stdout",
     "output_type": "stream",
     "text": [
      "(1449, 12561)\n"
     ]
    }
   ],
   "source": [
    "ieee_tfidf = tfidf_vectorizer.fit_transform(raw)\n",
    "print ieee_tfidf.shape"
   ]
  },
  {
   "cell_type": "code",
   "execution_count": 91,
   "metadata": {},
   "outputs": [
    {
     "name": "stdout",
     "output_type": "stream",
     "text": [
      "(1449, 1000)\n"
     ]
    },
    {
     "data": {
      "text/plain": [
       "array([1, 1, 1, ..., 2, 1, 1])"
      ]
     },
     "execution_count": 91,
     "metadata": {},
     "output_type": "execute_result"
    }
   ],
   "source": [
    "ieee_tf = tf_vectorizer.fit_transform(raw)\n",
    "print ieee_tf.shape\n",
    "ieee_tf.data"
   ]
  },
  {
   "cell_type": "markdown",
   "metadata": {},
   "source": [
    "## Model Training"
   ]
  },
  {
   "cell_type": "markdown",
   "metadata": {},
   "source": [
    "### Fit to NMF model (Frobenius norm)"
   ]
  },
  {
   "cell_type": "code",
   "execution_count": 21,
   "metadata": {
    "collapsed": true
   },
   "outputs": [],
   "source": [
    "nmf = NMF(n_components=10, alpha = 0.1, l1_ratio=0.5).fit(ieee_tfidf)"
   ]
  },
  {
   "cell_type": "markdown",
   "metadata": {},
   "source": [
    "### check NMF model result"
   ]
  },
  {
   "cell_type": "code",
   "execution_count": 82,
   "metadata": {
    "collapsed": true
   },
   "outputs": [],
   "source": [
    "def print_top_words(model, feature_names, n_top_words):\n",
    "    for topic_idx, topic in enumerate(model.components_):\n",
    "        message = \"Topic #%d: \" % (topic_idx+1)\n",
    "        message += \" \".join([feature_names[i]\n",
    "                             for i in topic.argsort()[:-n_top_words - 1:-1]])\n",
    "        print(message)\n",
    "    "
   ]
  },
  {
   "cell_type": "code",
   "execution_count": 24,
   "metadata": {},
   "outputs": [
    {
     "name": "stdout",
     "output_type": "stream",
     "text": [
      "Topic #0: algorithm data predict network use comput train applic process model\n",
      "Topic #1: web servic design interfac defect solut ws modular d evalu\n",
      "Topic #2: kidney diseas chronic predict tree analyt classifi decis logist vector\n",
      "Topic #3: degrad ber fec pre rout failur detect reduc affect optic\n",
      "Topic #4: industri initi medic variou research healthcar past analyt data healthcarein\n",
      "Topic #5: follow therapi endocrin adjuv patient care medic appoint relat record\n",
      "Topic #6: nfr recal precis fr function requir dataset secur supervis classifi\n",
      "Topic #7: wave paramet relationship determin approach ml buoy convers power method\n",
      "Topic #8: signal behavior mental process versu physiolog bodi make clinic represent\n",
      "Topic #9: estim kernel semisupervis increment prior neighborhood se bandwidth data label\n"
     ]
    }
   ],
   "source": [
    "print_top_words(nmf, tfidf_vectorizer.get_feature_names(), 10)"
   ]
  },
  {
   "cell_type": "markdown",
   "metadata": {},
   "source": [
    "### Fit NMF model (Kullback-Leibler divergence)"
   ]
  },
  {
   "cell_type": "code",
   "execution_count": 25,
   "metadata": {
    "collapsed": true
   },
   "outputs": [],
   "source": [
    "nmf = NMF(n_components=10, beta_loss='kullback-leibler', solver='mu', max_iter=1000, alpha=.1,l1_ratio=.5).fit(ieee_tfidf)"
   ]
  },
  {
   "cell_type": "code",
   "execution_count": 26,
   "metadata": {},
   "outputs": [
    {
     "name": "stdout",
     "output_type": "stream",
     "text": [
      "Topic #0: data model support network base perform pattern use algorithm process\n",
      "Topic #1: power level design comput requir softwar shown thi highli empir\n",
      "Topic #2: thi support techniqu vector use remain paper classifi interfac s\n",
      "Topic #3: propos set mobil occur result protect match thi analysi help\n",
      "Topic #4: thi potenti use open health imag follow defect healthcar fine\n",
      "Topic #5: random classifi experi mani rate secur linear comparison term non\n",
      "Topic #6: novel method just issu propos paper handl svm mcdbn rate\n",
      "Topic #7: increasingli storag svm train continu use studi core regress comput\n",
      "Topic #8: analyt decis parallel art data paper sever rule perform dataset\n",
      "Topic #9: possibl statu studi predictor signific s hip posit thi robot\n"
     ]
    }
   ],
   "source": [
    "print_top_words(nmf, tfidf_vectorizer.get_feature_names(), 10)"
   ]
  },
  {
   "cell_type": "markdown",
   "metadata": {},
   "source": [
    "### Fit LDA Model"
   ]
  },
  {
   "cell_type": "code",
   "execution_count": 33,
   "metadata": {
    "collapsed": true
   },
   "outputs": [],
   "source": [
    "class TopicTree:\n",
    "    def __init__(self, level=0, index=1, children=[], keywords=[]):\n",
    "        self.children = children\n",
    "        self.keywords = keywords\n",
    "        self.level = level\n",
    "        self.index = index\n",
    "        self.dup_index = 0\n",
    "        self.association_index = 0\n",
    "        self.base_url = 'https://api.wordassociations.net/associations/v1.0/json/search?apikey=85618aa1-21c2-4382-9dc6-373c5b1424b8&lang=en&limit=100'\n",
    "        self.n_top_words = 20\n",
    "    \n",
    "    def get_number_of_children(self):\n",
    "        return len(self.children)\n",
    "\n",
    "    def get_children(self):\n",
    "        return children\n",
    "    \n",
    "    def get_topic_content(self):\n",
    "        return self.topic_content\n",
    "\n",
    "    def compute_dup_index(self):\n",
    "        if not self.children:\n",
    "            return\n",
    "        children_keywords = []\n",
    "        for child in self.children:\n",
    "            children_keywords += child.keywords\n",
    "            child.compute_dup_index()\n",
    "        original_len = len(children_keywords)\n",
    "        children_keywords = list(set(children_keywords))\n",
    "        num_of_duplicate = original_len - len(children_keywords)\n",
    "        self.dup_index = float(num_of_duplicate) / original_len\n",
    "        \n",
    "    def get_whole_tree_dup_index(self):\n",
    "        if self.dup_index == 0:\n",
    "            self.compute_dup_index()\n",
    "        if not self.children:\n",
    "            return self.dup_index\n",
    "        children_index = 0\n",
    "        for child in self.children:\n",
    "            children_index += child.get_whole_tree_dup_index()\n",
    "        return (self.dup_index + children_index) / float(1 + len(self.children))\n",
    "    \n",
    "    def compute_association_index(self):\n",
    "        base_url = self.base_url\n",
    "        word_sum = 0\n",
    "        if len(self.keywords) <= 10:\n",
    "            for word in self.keywords:\n",
    "                base_url = base_url + '&text=' + word\n",
    "            response = requests.get(base_url).json()['response']\n",
    "        elif len(self.keywords) <= 20:\n",
    "            for word in self.keywords[:10]:\n",
    "                base_url = base_url + '&text=' + word\n",
    "            response = requests.get(base_url).json()['response']\n",
    "            base_url = self.base_url\n",
    "            for word in self.keywords[10:]:\n",
    "                base_url = base_url + '&text=' + word\n",
    "            response = response + requests.get(base_url).json()['response']\n",
    "        else:\n",
    "            for word in self.keywords[:10]:\n",
    "                base_url = base_url + '&text=' + word\n",
    "            response = requests.get(base_url).json()['response']\n",
    "            base_url = self.base_url\n",
    "            for word in self.keywords[10:20]:\n",
    "                base_url = base_url + '&text=' + word\n",
    "            response = response + requests.get(base_url).json()['response']\n",
    "            base_url = self.base_url\n",
    "            for word in self.keywords[20:]:\n",
    "                base_url = base_url + '&text=' + word\n",
    "            response = response + requests.get(base_url).json()['response']\n",
    "        for word_json in response:\n",
    "            items = word_json['items']\n",
    "            for item in items:\n",
    "                if item['item'].lower() in self.keywords:\n",
    "                    word_sum += float(item['weight']) / 100.0\n",
    "        self.association_index = float(word_sum) / self.n_top_words / (self.n_top_words - 1)\n",
    "    \n",
    "    def get_whole_tree_association_index(self):\n",
    "        if self.association_index == 0:\n",
    "            self.compute_association_index()\n",
    "        if not self.children:\n",
    "            return self.association_index\n",
    "        children_index = 0\n",
    "        for child in self.children:\n",
    "            children_index += float(child.get_whole_tree_association_index())\n",
    "        # children_index = children_index / len(self.children)\n",
    "        return (self.association_index + children_index) / float(1 + len(self.children))"
   ]
  },
  {
   "cell_type": "code",
   "execution_count": 11,
   "metadata": {
    "collapsed": true
   },
   "outputs": [],
   "source": [
    "def print_top_words(model, feature_names, n_top_words):\n",
    "    for topic_idx, topic in enumerate(model.components_):\n",
    "        message = \"Topic #%d: \" % (topic_idx+1)\n",
    "        message += \" \".join([feature_names[i]\n",
    "                             for i in topic.argsort()[:-n_top_words - 1:-1]])\n",
    "        print(message)\n",
    "        \n",
    "def get_top_words(level, model, feature_names, n_top_words):\n",
    "    children = []\n",
    "    for topic_idx, topic in enumerate(model.components_):\n",
    "        topic_words = [feature_names[i] for i in topic.argsort()[:-n_top_words - 1:-1]]\n",
    "        children.append(TopicTree(level=level, index=topic_idx+1, keywords=topic_words))\n",
    "    return children\n",
    "\n",
    "def build_root(tree,data, feature_names):\n",
    "    print \"\\nlevel 0\"\n",
    "    message = \"#Topic 1: \"\n",
    "    centroids = np.mean(data,axis=0)\n",
    "    topic_words = [feature_names[i]\n",
    "                         for i in centroids.argsort()[:20]]\n",
    "    tree.keywords = topic_words\n",
    "    message += \" \".join(topic_words)   \n",
    "    print message"
   ]
  },
  {
   "cell_type": "code",
   "execution_count": 12,
   "metadata": {
    "collapsed": true
   },
   "outputs": [],
   "source": [
    "def get_MPC(doc_topic_weight_mat):\n",
    "    num_doc = doc_topic_weight_mat.shape[0]\n",
    "    num_topic = doc_topic_weight_mat.shape[1]\n",
    "    pc = np.sum(np.square(doc_topic_weight_mat)) / num_doc\n",
    "    if num_topic == 1:\n",
    "        mpc = 0.50\n",
    "    else:\n",
    "        mpc = 1 - float(num_topic) / (num_topic - 1) * (1 - pc)\n",
    "    return mpc"
   ]
  },
  {
   "cell_type": "code",
   "execution_count": 92,
   "metadata": {},
   "outputs": [
    {
     "name": "stdout",
     "output_type": "stream",
     "text": [
      "\n",
      "level 0\n",
      "#Topic 1: caused observer quantitative supply stream svm cause successfully attention kinect biological metal sub validation sensitive sparsity implement artifact meet score\n"
     ]
    }
   ],
   "source": [
    "max_topic = 5\n",
    "max_level = 2\n",
    "topic_tree = TopicTree(level=1, index=1)\n",
    "build_root(topic_tree, ieee_tf.toarray(), tf_vectorizer.get_feature_names())"
   ]
  },
  {
   "cell_type": "code",
   "execution_count": 73,
   "metadata": {
    "collapsed": true
   },
   "outputs": [],
   "source": [
    "def Hierarchical_lda(tree, max_topic, max_level, doc_word_matrix, level, index, dictionary):\n",
    "    if level > max_level:\n",
    "        return\n",
    "    \n",
    "    target_mpc = 0\n",
    "    for topic_index in range(2,max_topic+1):\n",
    "        model = LatentDirichletAllocation(n_components=topic_index, max_iter = 20, learning_method=\"batch\", learning_offset=10)\n",
    "        model.fit(doc_word_matrix)\n",
    "        mpc = get_MPC(model.transform(doc_word_matrix))\n",
    "        mpc = model.perplexity(doc_word_matrix)*(1-mpc)\n",
    "        if target_mpc == 0:\n",
    "            target_mpc = mpc\n",
    "            target_num_topic = topic_index\n",
    "            target_model = model\n",
    "        elif mpc < target_mpc:\n",
    "            target_mpc = mpc\n",
    "            target_num_topic = topic_index\n",
    "            target_model = model\n",
    "    print \"Level %d topic %d\" %(level, index)\n",
    "    print \"Detect %d topics\" %target_num_topic\n",
    "    tree.children = get_top_words(level=level, n_top_words=20, model=target_model, feature_names=dictionary)\n",
    "    print_top_words(target_model, dictionary, n_top_words=20)\n",
    "    doc_topic_matrix = target_model.transform(doc_word_matrix)\n",
    "    \n",
    "    for topic_index in range(target_num_topic):\n",
    "        weight_vector = doc_topic_matrix.T[topic_index]\n",
    "        weight_vector = weight_vector.reshape(len(weight_vector),)\n",
    "        new_doc_word_matrix = doc_word_matrix[:]\n",
    "        for i in range(len(weight_vector)):\n",
    "            new_doc_word_matrix[i] = (new_doc_word_matrix[i]*weight_vector[i]*target_num_topic*10).astype(int)\n",
    "        Hierarchical_lda(tree.children[topic_index], max_topic, max_level, new_doc_word_matrix, level+1, topic_index+1, dictionary)\n",
    "        "
   ]
  },
  {
   "cell_type": "code",
   "execution_count": 93,
   "metadata": {},
   "outputs": [
    {
     "name": "stdout",
     "output_type": "stream",
     "text": [
      "Level 1 topic 1\n",
      "Detect 3 topics\n",
      "Topic #1: network algorithm user channel problem wireless sensor communication performance mobile data scheme time energy rate cloud node optimal service protocol\n",
      "Topic #2: power control frequency design high voltage model current energy circuit architecture performance time device grid optical antenna measurement low simulation\n",
      "Topic #3: image algorithm data model feature approach analysis time problem detection information learning used set signal accuracy different vector technique noise\n",
      "Level 2 topic 1\n",
      "Detect 4 topics\n",
      "Topic #1: cloud data service computing network mobile algorithm delay time video user application traffic vehicle resource performance routing scheduling framework problem\n",
      "Topic #2: channel rate user interference problem signal coding noise algorithm code performance error optimal bound network receiver cognitive n scheme mimo\n",
      "Topic #3: network user security model data social privacy sensor scheme attack wireless communication ha application mobile information approach monitoring detection analysis\n",
      "Topic #4: network energy sensor algorithm wireless power node communication problem spectrum control performance distributed relay time protocol simulation optimal scheme consumption\n",
      "Level 2 topic 2\n",
      "Detect 3 topics\n",
      "Topic #1: frequency power antenna voltage optical high signal converter control design phase measurement bandwidth dc circuit mode filter transmission switching low\n",
      "Topic #2: control power energy algorithm model network time approach data architecture grid application performance design smart problem load analysis simulation real\n",
      "Topic #3: current gate voltage model device temperature circuit silicon effect high design logic memory d cell performance ha gan m fault\n",
      "Level 2 topic 3\n",
      "Detect 5 topics\n",
      "Topic #1: detection sensor object robot human data tracking model real camera user algorithm target trajectory vehicle approach information network time activity\n",
      "Topic #2: data software learning model user analysis approach study application source information research task code group time design s social knowledge\n",
      "Topic #3: image imaging segmentation model time d motion data resolution reconstruction wa brain approach registration shape technique modeling high tissue analysis\n",
      "Topic #4: image feature classification recognition vector noise analysis training extraction set data speech fuzzy used detection machine algorithm model level accuracy\n",
      "Topic #5: algorithm problem optimization model approach matrix function performance sparse solution clustering control graph signal dynamic time scheme number network state\n",
      "265.89704299\n"
     ]
    }
   ],
   "source": [
    "import time\n",
    "start = time.time()\n",
    "\n",
    "Hierarchical_lda(tree=topic_tree, max_topic = max_topic, max_level = max_level, doc_word_matrix=ieee_tf, level=1, index=1, dictionary=tf_vectorizer.get_feature_names())\n",
    "\n",
    "print time.time() - start"
   ]
  },
  {
   "cell_type": "code",
   "execution_count": 94,
   "metadata": {},
   "outputs": [
    {
     "data": {
      "text/plain": [
       "0.065"
      ]
     },
     "execution_count": 94,
     "metadata": {},
     "output_type": "execute_result"
    }
   ],
   "source": [
    "topic_tree.get_whole_tree_dup_index()"
   ]
  },
  {
   "cell_type": "code",
   "execution_count": 95,
   "metadata": {},
   "outputs": [
    {
     "data": {
      "text/plain": [
       "0.04203596491228071"
      ]
     },
     "execution_count": 95,
     "metadata": {},
     "output_type": "execute_result"
    }
   ],
   "source": [
    "topic_tree.get_whole_tree_association_index()"
   ]
  },
  {
   "cell_type": "markdown",
   "metadata": {},
   "source": [
    "#### Get Topic Docuemnt Association"
   ]
  },
  {
   "cell_type": "code",
   "execution_count": 18,
   "metadata": {},
   "outputs": [
    {
     "name": "stdout",
     "output_type": "stream",
     "text": [
      "(1693, 10)\n",
      "[[  7.52007740e-04   7.52009568e-04   7.52075078e-04 ...,   7.51909706e-04\n",
      "    3.26960539e-01   1.92206110e-01]\n",
      " [  5.74800645e-04   5.74770696e-04   5.74858043e-04 ...,   5.74778461e-04\n",
      "    9.94826557e-01   5.74824124e-04]\n",
      " [  5.43534364e-04   5.43618385e-04   5.43632548e-04 ...,   5.43550054e-04\n",
      "    5.31083328e-01   5.43600511e-04]\n",
      " ..., \n",
      " [  6.45430633e-02   9.34692717e-04   1.09913827e-01 ...,   9.34642882e-04\n",
      "    9.34793652e-04   2.28162224e-01]\n",
      " [  1.14960557e-03   1.14969817e-03   8.00667687e-01 ...,   1.14947725e-03\n",
      "    1.14963424e-03   1.14970015e-03]\n",
      " [  7.69432053e-04   6.81390887e-01   7.69386957e-04 ...,   7.69327685e-04\n",
      "    7.69428287e-04   1.91882154e-01]]\n"
     ]
    }
   ],
   "source": [
    "topic_document_association_16 = lda_16.transform(ieee_tf)\n",
    "print topic_document_association_16.shape\n",
    "print topic_document_association_16"
   ]
  },
  {
   "cell_type": "markdown",
   "metadata": {},
   "source": [
    "### Try Nested Topic Modeling on LDA"
   ]
  },
  {
   "cell_type": "markdown",
   "metadata": {},
   "source": [
    "#### Fit LDA Model 8 Topics"
   ]
  },
  {
   "cell_type": "code",
   "execution_count": 44,
   "metadata": {},
   "outputs": [
    {
     "name": "stdout",
     "output_type": "stream",
     "text": [
      "Topic #0: design servic hardwar techniqu defect web approach complex\n",
      "Topic #1: hemorrhag detect imag counselor flow distort visual gpu\n",
      "Topic #2: use differ servic evalu cost health provid cloud\n",
      "Topic #3: zero gaussian semant cepstral clip mel learningaudio secondli\n",
      "Topic #4: model use featur measur mesh d distribut method\n",
      "Topic #5: zero gaussian semant cepstral clip mel learningaudio secondli\n",
      "Topic #6: data algorithm use predict method base model network\n",
      "Topic #7: predict follow patient failur endocrin adjuv therapi cloud\n"
     ]
    }
   ],
   "source": [
    "lda_8 = LatentDirichletAllocation(n_components=8, max_iter = 100, learning_method=\"batch\", learning_offset=10)\n",
    "lda_8.fit(lda_16.components_)\n",
    "print_top_words(lda_8, tf_vectorizer.get_feature_names(), 8)"
   ]
  },
  {
   "cell_type": "code",
   "execution_count": 45,
   "metadata": {},
   "outputs": [
    {
     "data": {
      "text/plain": [
       "1500.4501327232101"
      ]
     },
     "execution_count": 45,
     "metadata": {},
     "output_type": "execute_result"
    }
   ],
   "source": [
    "lda_8.perplexity(lda_16.components_)"
   ]
  },
  {
   "cell_type": "markdown",
   "metadata": {},
   "source": [
    "#### Fit LDA Model 4 Topics"
   ]
  },
  {
   "cell_type": "code",
   "execution_count": 46,
   "metadata": {},
   "outputs": [
    {
     "name": "stdout",
     "output_type": "stream",
     "text": [
      "Topic #0: cloud differ servic provid\n",
      "Topic #1: design servic hemorrhag hardwar\n",
      "Topic #2: addit way usag shown\n",
      "Topic #3: data algorithm use model\n"
     ]
    }
   ],
   "source": [
    "lda_4 = LatentDirichletAllocation(n_components=4, max_iter = 100, learning_method=\"batch\", learning_offset=10)\n",
    "lda_4.fit(lda_8.components_)\n",
    "print_top_words(lda_4, tf_vectorizer.get_feature_names(), 4)"
   ]
  },
  {
   "cell_type": "code",
   "execution_count": 47,
   "metadata": {},
   "outputs": [
    {
     "data": {
      "text/plain": [
       "1309.2208992631054"
      ]
     },
     "execution_count": 47,
     "metadata": {},
     "output_type": "execute_result"
    }
   ],
   "source": [
    "lda_4.perplexity(lda_8.components_)"
   ]
  },
  {
   "cell_type": "markdown",
   "metadata": {},
   "source": [
    "#### Fit LDA Model 1 Topic"
   ]
  },
  {
   "cell_type": "code",
   "execution_count": 49,
   "metadata": {},
   "outputs": [
    {
     "name": "stdout",
     "output_type": "stream",
     "text": [
      "Topic #0: data\n"
     ]
    }
   ],
   "source": [
    "lda_1 = LatentDirichletAllocation(n_components=1, max_iter = 100, learning_method=\"batch\", learning_offset=10)\n",
    "lda_1.fit(lda_4.components_)\n",
    "print_top_words(lda_1, tf_vectorizer.get_feature_names(), 1)"
   ]
  },
  {
   "cell_type": "code",
   "execution_count": 50,
   "metadata": {},
   "outputs": [
    {
     "data": {
      "text/plain": [
       "1406.2830331290431"
      ]
     },
     "execution_count": 50,
     "metadata": {},
     "output_type": "execute_result"
    }
   ],
   "source": [
    "lda_1.perplexity(lda_4.components_)"
   ]
  }
 ],
 "metadata": {
  "kernelspec": {
   "display_name": "Python 2",
   "language": "python",
   "name": "python2"
  },
  "language_info": {
   "codemirror_mode": {
    "name": "ipython",
    "version": 2
   },
   "file_extension": ".py",
   "mimetype": "text/x-python",
   "name": "python",
   "nbconvert_exporter": "python",
   "pygments_lexer": "ipython2",
   "version": "2.7.13"
  }
 },
 "nbformat": 4,
 "nbformat_minor": 2
}
